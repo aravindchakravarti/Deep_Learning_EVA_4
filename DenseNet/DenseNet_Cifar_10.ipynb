{
  "nbformat": 4,
  "nbformat_minor": 0,
  "metadata": {
    "colab": {
      "name": "DenseNet-Cifar-10.ipynb",
      "provenance": [],
      "collapsed_sections": [],
      "authorship_tag": "ABX9TyMLdIUC1YUp+89rOrfh7J+4",
      "include_colab_link": true
    },
    "kernelspec": {
      "name": "python3",
      "display_name": "Python 3"
    },
    "accelerator": "GPU"
  },
  "cells": [
    {
      "cell_type": "markdown",
      "metadata": {
        "id": "view-in-github",
        "colab_type": "text"
      },
      "source": [
        "<a href=\"https://colab.research.google.com/github/aravindchakravarti/Deep_Learning_EVA_4/blob/master/DenseNet/DenseNet_Cifar_10.ipynb\" target=\"_parent\"><img src=\"https://colab.research.google.com/assets/colab-badge.svg\" alt=\"Open In Colab\"/></a>"
      ]
    },
    {
      "cell_type": "code",
      "metadata": {
        "id": "DJZWq1y7d3em",
        "colab_type": "code",
        "colab": {
          "base_uri": "https://localhost:8080/",
          "height": 51
        },
        "outputId": "8a9d3523-dd55-4416-b07f-9fd9351a45b2"
      },
      "source": [
        "from datetime import datetime\n",
        "\n",
        "# datetime object containing current date and time\n",
        "now = datetime.now()\n",
        " \n",
        "print(\"now =\", now)\n",
        "\n",
        "# dd/mm/YY H:M:S\n",
        "dt_string = now.strftime(\"%d/%m/%Y %H:%M:%S\")\n",
        "print(\"date and time =\", dt_string)\t"
      ],
      "execution_count": 4,
      "outputs": [
        {
          "output_type": "stream",
          "text": [
            "now = 2020-03-17 17:10:13.611594\n",
            "date and time = 17/03/2020 17:10:13\n"
          ],
          "name": "stdout"
        }
      ]
    },
    {
      "cell_type": "code",
      "metadata": {
        "id": "UMdMnXt2676N",
        "colab_type": "code",
        "outputId": "90c4494e-68fa-4059-d6c9-94ed5cebcbfb",
        "colab": {
          "base_uri": "https://localhost:8080/",
          "height": 122
        }
      },
      "source": [
        "from google.colab import drive\n",
        "drive.mount('/content/gdrive')"
      ],
      "execution_count": 5,
      "outputs": [
        {
          "output_type": "stream",
          "text": [
            "Go to this URL in a browser: https://accounts.google.com/o/oauth2/auth?client_id=947318989803-6bn6qk8qdgf4n4g3pfee6491hc0brc4i.apps.googleusercontent.com&redirect_uri=urn%3aietf%3awg%3aoauth%3a2.0%3aoob&response_type=code&scope=email%20https%3a%2f%2fwww.googleapis.com%2fauth%2fdocs.test%20https%3a%2f%2fwww.googleapis.com%2fauth%2fdrive%20https%3a%2f%2fwww.googleapis.com%2fauth%2fdrive.photos.readonly%20https%3a%2f%2fwww.googleapis.com%2fauth%2fpeopleapi.readonly\n",
            "\n",
            "Enter your authorization code:\n",
            "··········\n",
            "Mounted at /content/gdrive\n"
          ],
          "name": "stdout"
        }
      ]
    },
    {
      "cell_type": "code",
      "metadata": {
        "id": "vOWCcTc97Olq",
        "colab_type": "code",
        "colab": {
          "base_uri": "https://localhost:8080/",
          "height": 34
        },
        "outputId": "698333fc-7b00-4e0f-d75e-7efa2c433f9b"
      },
      "source": [
        "!cp -a './gdrive/My Drive/EVA4_Libraries/.' '/content/'"
      ],
      "execution_count": 6,
      "outputs": [
        {
          "output_type": "stream",
          "text": [
            "cp: cannot open './gdrive/My Drive/EVA4_Libraries/./data.gdoc' for reading: Operation not supported\n"
          ],
          "name": "stdout"
        }
      ]
    },
    {
      "cell_type": "code",
      "metadata": {
        "id": "Y6OWQBjWegge",
        "colab_type": "code",
        "colab": {}
      },
      "source": [
        "import autoreload\n",
        "%load_ext autoreload\n",
        "%autoreload 2"
      ],
      "execution_count": 0,
      "outputs": []
    },
    {
      "cell_type": "code",
      "metadata": {
        "id": "UYwMvP9p-3vi",
        "colab_type": "code",
        "outputId": "cd313e1e-e744-440b-9750-1f4895229559",
        "colab": {
          "base_uri": "https://localhost:8080/",
          "height": 34
        }
      },
      "source": [
        "from DatasetLoader import getCifar10Data\n",
        "# from CNNModel import displayModelSummary, isCudaAvailable, plainArch, ResNet18\n",
        "from CNNTrainTest import train, test\n",
        "from selectOptimizer import setupOptimizer\n",
        "from runningModel import runTheModel\n",
        "from QuizDNN import quizDNN, displayModelSummary, isCudaAvailable, quizDNNFileVersion\n",
        "\n",
        "!pip install torchsummary"
      ],
      "execution_count": 96,
      "outputs": [
        {
          "output_type": "stream",
          "text": [
            "Requirement already satisfied: torchsummary in /usr/local/lib/python3.6/dist-packages (1.5.1)\n"
          ],
          "name": "stdout"
        }
      ]
    },
    {
      "cell_type": "code",
      "metadata": {
        "id": "hnTGaaNylONF",
        "colab_type": "code",
        "colab": {
          "base_uri": "https://localhost:8080/",
          "height": 34
        },
        "outputId": "018b3bf0-e8c3-410f-e09d-1212116da53e"
      },
      "source": [
        "quizDNNFileVersion()"
      ],
      "execution_count": 88,
      "outputs": [
        {
          "output_type": "stream",
          "text": [
            "File Version = 1.14 - Used to see, if my changes are reflecting or not\n"
          ],
          "name": "stdout"
        }
      ]
    },
    {
      "cell_type": "code",
      "metadata": {
        "id": "T5UHvmCFCxrf",
        "colab_type": "code",
        "outputId": "b6cec1ae-fa5d-4fa6-8a6f-5013458d612d",
        "colab": {
          "base_uri": "https://localhost:8080/",
          "height": 102
        }
      },
      "source": [
        "train_loader, test_loader = getCifar10Data()"
      ],
      "execution_count": 75,
      "outputs": [
        {
          "output_type": "stream",
          "text": [
            "Now downloading and allocating dataset\n",
            "Cuda Available? True\n",
            "Files already downloaded and verified\n",
            "Files already downloaded and verified\n",
            "Now allocating Dataloaders\n"
          ],
          "name": "stdout"
        }
      ]
    },
    {
      "cell_type": "code",
      "metadata": {
        "id": "Lr1BUJNX_HXF",
        "colab_type": "code",
        "outputId": "8acd40ef-ac35-4e0a-cd55-39ba5128b5ef",
        "colab": {
          "base_uri": "https://localhost:8080/",
          "height": 34
        }
      },
      "source": [
        "device = isCudaAvailable()\n",
        "\n",
        "print (device)"
      ],
      "execution_count": 89,
      "outputs": [
        {
          "output_type": "stream",
          "text": [
            "cuda\n"
          ],
          "name": "stdout"
        }
      ]
    },
    {
      "cell_type": "code",
      "metadata": {
        "id": "JIeTZd3yCgUe",
        "colab_type": "code",
        "colab": {}
      },
      "source": [
        "model = quizDNN().to(device)"
      ],
      "execution_count": 0,
      "outputs": []
    },
    {
      "cell_type": "code",
      "metadata": {
        "id": "K4BHkaBvIH48",
        "colab_type": "code",
        "colab": {}
      },
      "source": [
        "optimizer = setupOptimizer(model, device, optimzer_select='NLLLoss')"
      ],
      "execution_count": 0,
      "outputs": []
    },
    {
      "cell_type": "code",
      "metadata": {
        "id": "Pnq64AwmIJqe",
        "colab_type": "code",
        "outputId": "7d5ce9d9-2c8e-42c4-e707-362697abded3",
        "colab": {
          "base_uri": "https://localhost:8080/",
          "height": 595
        }
      },
      "source": [
        "displayModelSummary(model)"
      ],
      "execution_count": 93,
      "outputs": [
        {
          "output_type": "stream",
          "text": [
            "----------------------------------------------------------------\n",
            "        Layer (type)               Output Shape         Param #\n",
            "================================================================\n",
            "            Conv2d-1           [-1, 16, 32, 32]             432\n",
            "       BatchNorm2d-2           [-1, 16, 32, 32]              32\n",
            "            Conv2d-3           [-1, 32, 32, 32]           5,472\n",
            "       BatchNorm2d-4           [-1, 32, 32, 32]              64\n",
            "         MaxPool2d-5           [-1, 51, 16, 16]               0\n",
            "            Conv2d-6           [-1, 64, 16, 16]          29,376\n",
            "       BatchNorm2d-7           [-1, 64, 16, 16]             128\n",
            "            Conv2d-8          [-1, 128, 16, 16]         132,480\n",
            "       BatchNorm2d-9          [-1, 128, 16, 16]             256\n",
            "           Conv2d-10          [-1, 256, 16, 16]         559,872\n",
            "      BatchNorm2d-11          [-1, 256, 16, 16]             512\n",
            "        MaxPool2d-12            [-1, 448, 8, 8]               0\n",
            "           Conv2d-13            [-1, 512, 8, 8]       2,064,384\n",
            "      BatchNorm2d-14            [-1, 512, 8, 8]           1,024\n",
            "           Conv2d-15            [-1, 512, 8, 8]       4,423,680\n",
            "      BatchNorm2d-16            [-1, 512, 8, 8]           1,024\n",
            "           Conv2d-17            [-1, 512, 8, 8]       6,782,976\n",
            "      BatchNorm2d-18            [-1, 512, 8, 8]           1,024\n",
            "        AvgPool2d-19            [-1, 512, 1, 1]               0\n",
            "           Conv2d-20             [-1, 10, 1, 1]           5,120\n",
            "================================================================\n",
            "Total params: 14,007,856\n",
            "Trainable params: 14,007,856\n",
            "Non-trainable params: 0\n",
            "----------------------------------------------------------------\n",
            "Input size (MB): 0.01\n",
            "Forward/backward pass size (MB): 4.32\n",
            "Params size (MB): 53.44\n",
            "Estimated Total Size (MB): 57.77\n",
            "----------------------------------------------------------------\n"
          ],
          "name": "stdout"
        },
        {
          "output_type": "stream",
          "text": [
            "/content/QuizDNN.py:72: UserWarning: Implicit dimension choice for log_softmax has been deprecated. Change the call to include dim=X as an argument.\n"
          ],
          "name": "stderr"
        }
      ]
    },
    {
      "cell_type": "code",
      "metadata": {
        "id": "gbGVR7q0IKKP",
        "colab_type": "code",
        "outputId": "b6c3328f-b5ef-4588-fc06-fac03d77f312",
        "colab": {
          "base_uri": "https://localhost:8080/",
          "height": 1000
        }
      },
      "source": [
        "runTheModel(model=model, device=device, optimizer=optimizer, train_loader=train_loader, test_loader=test_loader, train=train, test=test, epochs = 20)"
      ],
      "execution_count": 97,
      "outputs": [
        {
          "output_type": "stream",
          "text": [
            "EPOCH: 0\n"
          ],
          "name": "stdout"
        },
        {
          "output_type": "stream",
          "text": [
            "/content/QuizDNN.py:72: UserWarning: Implicit dimension choice for log_softmax has been deprecated. Change the call to include dim=X as an argument.\n",
            "  return F.log_softmax(x14)\n"
          ],
          "name": "stderr"
        },
        {
          "output_type": "stream",
          "text": [
            "\n",
            "Test set: Average loss: 1.1380, Accuracy: 5880/10000 (58.80%)\n",
            "\n",
            "EPOCH: 1\n",
            "\n",
            "Test set: Average loss: 0.8827, Accuracy: 6844/10000 (68.44%)\n",
            "\n",
            "EPOCH: 2\n",
            "\n",
            "Test set: Average loss: 0.8989, Accuracy: 6939/10000 (69.39%)\n",
            "\n",
            "EPOCH: 3\n",
            "\n",
            "Test set: Average loss: 0.7032, Accuracy: 7536/10000 (75.36%)\n",
            "\n",
            "EPOCH: 4\n",
            "\n",
            "Test set: Average loss: 0.6517, Accuracy: 7785/10000 (77.85%)\n",
            "\n",
            "EPOCH: 5\n",
            "\n",
            "Test set: Average loss: 0.6260, Accuracy: 7940/10000 (79.40%)\n",
            "\n",
            "EPOCH: 6\n",
            "\n",
            "Test set: Average loss: 0.5330, Accuracy: 8169/10000 (81.69%)\n",
            "\n",
            "EPOCH: 7\n",
            "\n",
            "Test set: Average loss: 0.5593, Accuracy: 8182/10000 (81.82%)\n",
            "\n",
            "EPOCH: 8\n",
            "\n",
            "Test set: Average loss: 0.4943, Accuracy: 8413/10000 (84.13%)\n",
            "\n",
            "EPOCH: 9\n",
            "\n",
            "Test set: Average loss: 0.5201, Accuracy: 8355/10000 (83.55%)\n",
            "\n",
            "EPOCH: 10\n",
            "\n",
            "Test set: Average loss: 0.4985, Accuracy: 8415/10000 (84.15%)\n",
            "\n",
            "EPOCH: 11\n",
            "\n",
            "Test set: Average loss: 0.5214, Accuracy: 8410/10000 (84.10%)\n",
            "\n",
            "EPOCH: 12\n",
            "\n",
            "Test set: Average loss: 0.5376, Accuracy: 8423/10000 (84.23%)\n",
            "\n",
            "EPOCH: 13\n",
            "\n",
            "Test set: Average loss: 0.5430, Accuracy: 8410/10000 (84.10%)\n",
            "\n",
            "EPOCH: 14\n",
            "\n",
            "Test set: Average loss: 0.5161, Accuracy: 8498/10000 (84.98%)\n",
            "\n",
            "EPOCH: 15\n",
            "\n",
            "Test set: Average loss: 0.5098, Accuracy: 8552/10000 (85.52%)\n",
            "\n",
            "EPOCH: 16\n",
            "\n",
            "Test set: Average loss: 0.5287, Accuracy: 8535/10000 (85.35%)\n",
            "\n",
            "EPOCH: 17\n",
            "\n",
            "Test set: Average loss: 0.5909, Accuracy: 8461/10000 (84.61%)\n",
            "\n",
            "EPOCH: 18\n",
            "\n",
            "Test set: Average loss: 0.5473, Accuracy: 8544/10000 (85.44%)\n",
            "\n",
            "EPOCH: 19\n",
            "\n",
            "Test set: Average loss: 0.5957, Accuracy: 8506/10000 (85.06%)\n",
            "\n"
          ],
          "name": "stdout"
        }
      ]
    }
  ]
}