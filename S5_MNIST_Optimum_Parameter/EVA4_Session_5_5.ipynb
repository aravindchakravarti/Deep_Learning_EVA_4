{
  "nbformat": 4,
  "nbformat_minor": 0,
  "metadata": {
    "colab": {
      "name": "EVA4-Session 5-5.ipynb",
      "provenance": [],
      "collapsed_sections": [],
      "include_colab_link": true
    },
    "kernelspec": {
      "name": "python3",
      "display_name": "Python 3"
    },
    "accelerator": "GPU"
  },
  "cells": [
    {
      "cell_type": "markdown",
      "metadata": {
        "id": "view-in-github",
        "colab_type": "text"
      },
      "source": [
        "<a href=\"https://colab.research.google.com/github/aravindchakravarti/Deep_Learning_EVA_4/blob/master/S5_MNIST_Optimum_Parameter/EVA4_Session_5_5.ipynb\" target=\"_parent\"><img src=\"https://colab.research.google.com/assets/colab-badge.svg\" alt=\"Open In Colab\"/></a>"
      ]
    },
    {
      "cell_type": "markdown",
      "metadata": {
        "id": "42kmitsJggNk",
        "colab_type": "text"
      },
      "source": [
        "## Target\n",
        "* Must hit 99.4% accuracy atleast 3 times in 15 epochs\n",
        "* Change augmentation stratergy if not able to acheive the required accuracy\n",
        "\n",
        "## Result\n",
        "* Achieved 99.4, three times\n",
        "* Used shear augmentation stratergy as well\n",
        "* Number of parameters 9302 parameters\n",
        "\n",
        "## Analysis\n",
        "* By looking at the dataset, I felt like shear transform also should work along with rotation. Because the straight lines drawn by human hands will not be 90 degrees, but will have some inclination\n",
        "* When we see the train accuracy it is about 99.0% and test accuracy is around 99.4%. This shows that network has very good capacity. If we train a little extra, probably we may achieve much more accuracy    \n",
        "\n",
        "\n",
        "## Code is available at:\n",
        "https://colab.research.google.com/drive/1mUwuzT9dvQRV89GskhuHYy1VXttPypYD\n",
        "\n"
      ]
    },
    {
      "cell_type": "markdown",
      "metadata": {
        "id": "6L2W2qcOINo8",
        "colab_type": "text"
      },
      "source": [
        "# Import Libraries"
      ]
    },
    {
      "cell_type": "code",
      "metadata": {
        "id": "0m2JWFliFfKT",
        "colab_type": "code",
        "colab": {}
      },
      "source": [
        "from __future__ import print_function\n",
        "import torch\n",
        "# Import core module\n",
        "import torch.nn as nn\n",
        "# We need support for functional programming\n",
        "import torch.nn.functional as F\n",
        "import torch.optim as optim\n",
        "# For MNIST dataset\n",
        "from torchvision import datasets, transforms\n",
        "# For Global Average Pooling\n",
        "from torch.nn import AvgPool2d\n",
        "# Plotting purpose\n",
        "%matplotlib inline\n",
        "import matplotlib.pyplot as plt"
      ],
      "execution_count": 0,
      "outputs": []
    },
    {
      "cell_type": "markdown",
      "metadata": {
        "id": "M6uKcwclITyH",
        "colab_type": "text"
      },
      "source": [
        "# Data Transformations\n",
        "We first start with defining our data transformations. Image augmentation techniques are great and we need to keep it ready by the time we hit overfitting!"
      ]
    },
    {
      "cell_type": "code",
      "metadata": {
        "id": "dycRAYR2Inxv",
        "colab_type": "code",
        "colab": {}
      },
      "source": [
        "# Train Phase transformations\n",
        "train_transforms = transforms.Compose([\n",
        "                                      #  transforms.Resize((28, 28)),\n",
        "                                      #  transforms.ColorJitter(brightness=0.10, contrast=0.1, saturation=0.10, hue=0.1),\n",
        "                                      #  transforms.RandomRotation((-7.0, 7.0), fill=(1,)),\n",
        "                                       transforms.RandomAffine(degrees=10, shear = 10),\n",
        "                                       transforms.ToTensor(),\n",
        "                                       transforms.Normalize((0.1307,), (0.3081,)) # The mean and std have to be sequences (e.g., tuples), therefore you should add a comma after the values. \n",
        "                                       # Note the difference between (0.1307) and (0.1307,)\n",
        "                                       ])\n",
        "\n",
        "# Test Phase transformations\n",
        "test_transforms = transforms.Compose([\n",
        "                                      #  transforms.Resize((28, 28)),\n",
        "                                      #  transforms.ColorJitter(brightness=0.10, contrast=0.1, saturation=0.10, hue=0.1),\n",
        "                                       transforms.ToTensor(),\n",
        "                                       transforms.Normalize((0.1307,), (0.3081,))\n",
        "                                       ])\n"
      ],
      "execution_count": 0,
      "outputs": []
    },
    {
      "cell_type": "markdown",
      "metadata": {
        "id": "LZ_-IJPUI0yU",
        "colab_type": "text"
      },
      "source": [
        "# Dataset and Creating Train and Test Split"
      ]
    },
    {
      "cell_type": "code",
      "metadata": {
        "id": "jPhcenY6Ivf5",
        "colab_type": "code",
        "colab": {}
      },
      "source": [
        "train = datasets.MNIST('./data', train=True, download=True, transform=train_transforms)\n",
        "test = datasets.MNIST('./data', train=False, download=True, transform=test_transforms)"
      ],
      "execution_count": 0,
      "outputs": []
    },
    {
      "cell_type": "markdown",
      "metadata": {
        "id": "5DehiSB9I8yb",
        "colab_type": "text"
      },
      "source": [
        "# Dataloader Arguments & Test/Train Dataloaders"
      ]
    },
    {
      "cell_type": "code",
      "metadata": {
        "id": "0fn7LY1PJC1c",
        "colab_type": "code",
        "outputId": "a4b64b06-aeba-4310-8a32-eb9145a741b6",
        "colab": {
          "base_uri": "https://localhost:8080/",
          "height": 34
        }
      },
      "source": [
        "# SEED = 1\n",
        "\n",
        "# CUDA?\n",
        "cuda = torch.cuda.is_available()\n",
        "print(\"CUDA Available?\", cuda)\n",
        "\n",
        "# For reproducibility\n",
        "# torch.manual_seed(SEED)\n",
        "\n",
        "#if cuda:\n",
        "#    torch.cuda.manual_seed(SEED)\n",
        "\n",
        "# dataloader arguments - something you'll fetch these from cmdprmt\n",
        "dataloader_args = dict(shuffle=True, batch_size=128, num_workers=4, pin_memory=True) if cuda else dict(shuffle=True, batch_size=64)\n",
        "\n",
        "# train dataloader\n",
        "train_loader = torch.utils.data.DataLoader(train, **dataloader_args)\n",
        "\n",
        "# test dataloader\n",
        "test_loader = torch.utils.data.DataLoader(test, **dataloader_args)"
      ],
      "execution_count": 33,
      "outputs": [
        {
          "output_type": "stream",
          "text": [
            "CUDA Available? True\n"
          ],
          "name": "stdout"
        }
      ]
    },
    {
      "cell_type": "markdown",
      "metadata": {
        "id": "ua9WmYbnJMVn",
        "colab_type": "text"
      },
      "source": [
        "# The Model\n",
        "\u0010\n",
        "I like the model definition like below, not with nn.Sequential() way. So, I am going to keep it same "
      ]
    },
    {
      "cell_type": "code",
      "metadata": {
        "id": "h_Cx9q2QFgM7",
        "colab_type": "code",
        "colab": {}
      },
      "source": [
        "class Net(nn.Module):\n",
        "    def __init__(self):\n",
        "        super(Net, self).__init__()\n",
        "        self.conv01 = nn.Conv2d(1, 6, 3, bias=False, padding=1)        #O=28\n",
        "        self.batch01 = nn.BatchNorm2d(num_features=6)    \n",
        "        self.conv02 = nn.Conv2d(6, 8, 3, bias=False,padding=1)        #O=28\n",
        "        self.batch02 = nn.BatchNorm2d(num_features=8)    \n",
        "        self.conv03 = nn.Conv2d(8, 10, 3, bias=False,padding=1)        #O=28\n",
        "        self.batch03 = nn.BatchNorm2d(num_features=10)   \n",
        "        self.conv04 = nn.Conv2d(10, 10, 3, bias=False,padding=0)        #O=26\n",
        "        self.batch04 = nn.BatchNorm2d(num_features=10)   \n",
        "        self.pool01 = nn.MaxPool2d(2, 2)                                #O=13\n",
        "       # self.conv05 = nn.Conv2d(12, 10, 1, bias=False)\n",
        "\n",
        "        self.conv11 = nn.Conv2d(10, 10, 3, bias=False, padding=1)       #O=13\n",
        "        self.batch11 = nn.BatchNorm2d(num_features=10)\n",
        "        self.conv12 = nn.Conv2d(10, 10, 3, bias=False, padding=0)       #O=11\n",
        "        self.batch12 = nn.BatchNorm2d(num_features=10)\n",
        "        self.conv13 = nn.Conv2d(10, 14, 3, bias=False, padding=0)       #O=09\n",
        "        self.batch13 = nn.BatchNorm2d(num_features=14)\n",
        "        self.conv14 = nn.Conv2d(14, 14, 3, bias=False, padding=0)       #O=07\n",
        "        self.batch14 = nn.BatchNorm2d(num_features=14)\n",
        "        self.conv15 = nn.Conv2d(14, 16, 3, bias=False, padding=0)       #O=05\n",
        "        self.batch15 = nn.BatchNorm2d(num_features=16)\n",
        "    \n",
        "        self.avg_pool = nn.AvgPool2d(kernel_size=5)\n",
        "        self.conv23 = nn.Conv2d(16, 10, 1, bias=False, padding=0)\n",
        "\n",
        "    def forward(self, x):\n",
        "        x = self.batch01(F.dropout(F.relu(self.conv01(x)), 0.01))        \n",
        "        x = self.batch02(F.dropout(F.relu(self.conv02(x)), 0.01))\n",
        "        x = self.batch03(F.dropout(F.relu(self.conv03(x)), 0.01))\n",
        "        x = self.batch04(F.dropout(F.relu(self.conv04(x)), 0.01))\n",
        "        x = self.pool01(x)\n",
        "        #x = F.relu(self.conv05(x))\n",
        "\n",
        "        x = self.batch11(F.dropout(F.relu(self.conv11(x)), 0.02))\n",
        "        x = self.batch12(F.dropout(F.relu(self.conv12(x)), 0.02))\n",
        "        x = self.batch13(F.dropout(F.relu(self.conv13(x)), 0.02))\n",
        "        x = self.batch14(F.dropout(F.relu(self.conv14(x)), 0.02))\n",
        "        x = self.batch15(F.dropout(F.relu(self.conv15(x)), 0.02))\n",
        "\n",
        "        x = self.avg_pool(x)\n",
        "        x = F.relu(self.conv23(x))\n",
        "        x = x.view(-1, 10)                           # Don't want 10x1x1..\n",
        "        return F.log_softmax(x)"
      ],
      "execution_count": 0,
      "outputs": []
    },
    {
      "cell_type": "markdown",
      "metadata": {
        "id": "442Nb6MfJPYw",
        "colab_type": "text"
      },
      "source": [
        "# Model Parameters and other details"
      ]
    },
    {
      "cell_type": "code",
      "metadata": {
        "colab_type": "code",
        "id": "xdydjYTZFyi3",
        "outputId": "9fbf8e6d-2245-4e48-add6-a2e12f4cce96",
        "colab": {
          "base_uri": "https://localhost:8080/",
          "height": 649
        }
      },
      "source": [
        "!pip install torchsummary\n",
        "from torchsummary import summary\n",
        "use_cuda = torch.cuda.is_available()\n",
        "device = torch.device(\"cuda\" if use_cuda else \"cpu\")\n",
        "model = Net().to(device)\n",
        "summary(model, input_size=(1, 28, 28))"
      ],
      "execution_count": 35,
      "outputs": [
        {
          "output_type": "stream",
          "text": [
            "Requirement already satisfied: torchsummary in /usr/local/lib/python3.6/dist-packages (1.5.1)\n",
            "----------------------------------------------------------------\n",
            "        Layer (type)               Output Shape         Param #\n",
            "================================================================\n",
            "            Conv2d-1            [-1, 6, 28, 28]              54\n",
            "       BatchNorm2d-2            [-1, 6, 28, 28]              12\n",
            "            Conv2d-3            [-1, 8, 28, 28]             432\n",
            "       BatchNorm2d-4            [-1, 8, 28, 28]              16\n",
            "            Conv2d-5           [-1, 10, 28, 28]             720\n",
            "       BatchNorm2d-6           [-1, 10, 28, 28]              20\n",
            "            Conv2d-7           [-1, 10, 26, 26]             900\n",
            "       BatchNorm2d-8           [-1, 10, 26, 26]              20\n",
            "         MaxPool2d-9           [-1, 10, 13, 13]               0\n",
            "           Conv2d-10           [-1, 10, 13, 13]             900\n",
            "      BatchNorm2d-11           [-1, 10, 13, 13]              20\n",
            "           Conv2d-12           [-1, 10, 11, 11]             900\n",
            "      BatchNorm2d-13           [-1, 10, 11, 11]              20\n",
            "           Conv2d-14             [-1, 14, 9, 9]           1,260\n",
            "      BatchNorm2d-15             [-1, 14, 9, 9]              28\n",
            "           Conv2d-16             [-1, 14, 7, 7]           1,764\n",
            "      BatchNorm2d-17             [-1, 14, 7, 7]              28\n",
            "           Conv2d-18             [-1, 16, 5, 5]           2,016\n",
            "      BatchNorm2d-19             [-1, 16, 5, 5]              32\n",
            "        AvgPool2d-20             [-1, 16, 1, 1]               0\n",
            "           Conv2d-21             [-1, 10, 1, 1]             160\n",
            "================================================================\n",
            "Total params: 9,302\n",
            "Trainable params: 9,302\n",
            "Non-trainable params: 0\n",
            "----------------------------------------------------------------\n",
            "Input size (MB): 0.00\n",
            "Forward/backward pass size (MB): 0.48\n",
            "Params size (MB): 0.04\n",
            "Estimated Total Size (MB): 0.52\n",
            "----------------------------------------------------------------\n"
          ],
          "name": "stdout"
        },
        {
          "output_type": "stream",
          "text": [
            "/usr/local/lib/python3.6/dist-packages/ipykernel_launcher.py:46: UserWarning: Implicit dimension choice for log_softmax has been deprecated. Change the call to include dim=X as an argument.\n"
          ],
          "name": "stderr"
        }
      ]
    },
    {
      "cell_type": "markdown",
      "metadata": {
        "id": "72dkablCJXgj",
        "colab_type": "text"
      },
      "source": [
        "# Training and Testing\u0010"
      ]
    },
    {
      "cell_type": "code",
      "metadata": {
        "id": "btTqS6AMJUli",
        "colab_type": "code",
        "colab": {}
      },
      "source": [
        "from tqdm import tqdm\n",
        "\n",
        "train_losses = []\n",
        "test_losses = []\n",
        "train_acc = []\n",
        "test_acc = []\n",
        "\n",
        "def train(model, device, train_loader, optimizer, epoch):\n",
        "  model.train()\n",
        "  pbar = tqdm(train_loader)\n",
        "  correct = 0\n",
        "  processed = 0\n",
        "  for batch_idx, (data, target) in enumerate(pbar):\n",
        "    # get samples\n",
        "    data, target = data.to(device), target.to(device)\n",
        "\n",
        "    # Init\n",
        "    optimizer.zero_grad()\n",
        "    # In PyTorch, we need to set the gradients to zero before starting to do backpropragation because PyTorch accumulates the gradients on subsequent backward passes. \n",
        "    # Because of this, when you start your training loop, ideally you should zero out the gradients so that you do the parameter update correctly.\n",
        "\n",
        "    # Predict\n",
        "    y_pred = model(data)\n",
        "\n",
        "    # Calculate loss\n",
        "    loss = F.nll_loss(y_pred, target)\n",
        "    train_losses.append(loss)\n",
        "\n",
        "    # Backpropagation\n",
        "    loss.backward()\n",
        "    optimizer.step()\n",
        "\n",
        "    # Update pbar-tqdm\n",
        "    \n",
        "    pred = y_pred.argmax(dim=1, keepdim=True)  # get the index of the max log-probability\n",
        "    correct += pred.eq(target.view_as(pred)).sum().item()\n",
        "    processed += len(data)\n",
        "\n",
        "    pbar.set_description(desc= f'Loss={loss.item()} Batch_id={batch_idx} Accuracy={100*correct/processed:0.2f}')\n",
        "    train_acc.append(100*correct/processed)\n",
        "\n",
        "def test(model, device, test_loader):\n",
        "    model.eval()\n",
        "    test_loss = 0\n",
        "    correct = 0\n",
        "    with torch.no_grad():\n",
        "        for data, target in test_loader:\n",
        "            data, target = data.to(device), target.to(device)\n",
        "            output = model(data)\n",
        "            test_loss += F.nll_loss(output, target, reduction='sum').item()  # sum up batch loss\n",
        "            pred = output.argmax(dim=1, keepdim=True)  # get the index of the max log-probability\n",
        "            correct += pred.eq(target.view_as(pred)).sum().item()\n",
        "\n",
        "    test_loss /= len(test_loader.dataset)\n",
        "    test_losses.append(test_loss)\n",
        "\n",
        "    print('\\nTest set: Average loss: {:.4f}, Accuracy: {}/{} ({:.2f}%)\\n'.format(\n",
        "        test_loss, correct, len(test_loader.dataset),\n",
        "        100. * correct / len(test_loader.dataset)))\n",
        "    \n",
        "    test_acc.append(100. * correct / len(test_loader.dataset))"
      ],
      "execution_count": 0,
      "outputs": []
    },
    {
      "cell_type": "markdown",
      "metadata": {
        "id": "FZGWOFsvJ4h3",
        "colab_type": "text"
      },
      "source": [
        "# Train the model"
      ]
    },
    {
      "cell_type": "code",
      "metadata": {
        "id": "fuPalcwBNT6I",
        "colab_type": "code",
        "outputId": "fa69c3e1-edbe-4f94-8490-c2c3ed5ba30b",
        "colab": {
          "base_uri": "https://localhost:8080/",
          "height": 1000
        }
      },
      "source": [
        "from torch.optim.lr_scheduler import StepLR\n",
        "\n",
        "model =  Net().to(device)\n",
        "optimizer = optim.SGD(model.parameters(), lr=0.01, momentum=0.9)\n",
        "scheduler = StepLR(optimizer, step_size=8, gamma=0.95)\n",
        "\n",
        "\n",
        "EPOCHS = 15\n",
        "for epoch in range(EPOCHS):\n",
        "    print(\"EPOCH:\", epoch)\n",
        "    train(model, device, train_loader, optimizer, epoch)\n",
        "    # scheduler.step()\n",
        "    test(model, device, test_loader)"
      ],
      "execution_count": 37,
      "outputs": [
        {
          "output_type": "stream",
          "text": [
            "\r  0%|          | 0/469 [00:00<?, ?it/s]"
          ],
          "name": "stderr"
        },
        {
          "output_type": "stream",
          "text": [
            "EPOCH: 0\n"
          ],
          "name": "stdout"
        },
        {
          "output_type": "stream",
          "text": [
            "/usr/local/lib/python3.6/dist-packages/ipykernel_launcher.py:46: UserWarning: Implicit dimension choice for log_softmax has been deprecated. Change the call to include dim=X as an argument.\n",
            "Loss=0.06192098557949066 Batch_id=468 Accuracy=88.28: 100%|██████████| 469/469 [00:16<00:00, 28.36it/s]\n",
            "  0%|          | 0/469 [00:00<?, ?it/s]"
          ],
          "name": "stderr"
        },
        {
          "output_type": "stream",
          "text": [
            "\n",
            "Test set: Average loss: 0.0626, Accuracy: 9838/10000 (98.38%)\n",
            "\n",
            "EPOCH: 1\n"
          ],
          "name": "stdout"
        },
        {
          "output_type": "stream",
          "text": [
            "Loss=0.14376580715179443 Batch_id=468 Accuracy=97.58: 100%|██████████| 469/469 [00:16<00:00, 28.28it/s]\n",
            "  0%|          | 0/469 [00:00<?, ?it/s]"
          ],
          "name": "stderr"
        },
        {
          "output_type": "stream",
          "text": [
            "\n",
            "Test set: Average loss: 0.0428, Accuracy: 9887/10000 (98.87%)\n",
            "\n",
            "EPOCH: 2\n"
          ],
          "name": "stdout"
        },
        {
          "output_type": "stream",
          "text": [
            "Loss=0.07831033319234848 Batch_id=468 Accuracy=98.04: 100%|██████████| 469/469 [00:16<00:00, 28.13it/s]\n",
            "  0%|          | 0/469 [00:00<?, ?it/s]"
          ],
          "name": "stderr"
        },
        {
          "output_type": "stream",
          "text": [
            "\n",
            "Test set: Average loss: 0.0382, Accuracy: 9893/10000 (98.93%)\n",
            "\n",
            "EPOCH: 3\n"
          ],
          "name": "stdout"
        },
        {
          "output_type": "stream",
          "text": [
            "Loss=0.05096186324954033 Batch_id=468 Accuracy=98.29: 100%|██████████| 469/469 [00:16<00:00, 28.13it/s]\n",
            "  0%|          | 0/469 [00:00<?, ?it/s]"
          ],
          "name": "stderr"
        },
        {
          "output_type": "stream",
          "text": [
            "\n",
            "Test set: Average loss: 0.0370, Accuracy: 9887/10000 (98.87%)\n",
            "\n",
            "EPOCH: 4\n"
          ],
          "name": "stdout"
        },
        {
          "output_type": "stream",
          "text": [
            "Loss=0.07020805031061172 Batch_id=468 Accuracy=98.50: 100%|██████████| 469/469 [00:16<00:00, 30.78it/s]\n",
            "  0%|          | 0/469 [00:00<?, ?it/s]"
          ],
          "name": "stderr"
        },
        {
          "output_type": "stream",
          "text": [
            "\n",
            "Test set: Average loss: 0.0349, Accuracy: 9894/10000 (98.94%)\n",
            "\n",
            "EPOCH: 5\n"
          ],
          "name": "stdout"
        },
        {
          "output_type": "stream",
          "text": [
            "Loss=0.07852626591920853 Batch_id=468 Accuracy=98.62: 100%|██████████| 469/469 [00:16<00:00, 28.52it/s]\n",
            "  0%|          | 0/469 [00:00<?, ?it/s]"
          ],
          "name": "stderr"
        },
        {
          "output_type": "stream",
          "text": [
            "\n",
            "Test set: Average loss: 0.0310, Accuracy: 9898/10000 (98.98%)\n",
            "\n",
            "EPOCH: 6\n"
          ],
          "name": "stdout"
        },
        {
          "output_type": "stream",
          "text": [
            "Loss=0.04213225468993187 Batch_id=468 Accuracy=98.67: 100%|██████████| 469/469 [00:17<00:00, 26.60it/s]\n",
            "  0%|          | 0/469 [00:00<?, ?it/s]"
          ],
          "name": "stderr"
        },
        {
          "output_type": "stream",
          "text": [
            "\n",
            "Test set: Average loss: 0.0276, Accuracy: 9913/10000 (99.13%)\n",
            "\n",
            "EPOCH: 7\n"
          ],
          "name": "stdout"
        },
        {
          "output_type": "stream",
          "text": [
            "Loss=0.012436076998710632 Batch_id=468 Accuracy=98.77: 100%|██████████| 469/469 [00:17<00:00, 27.00it/s]\n",
            "  0%|          | 0/469 [00:00<?, ?it/s]"
          ],
          "name": "stderr"
        },
        {
          "output_type": "stream",
          "text": [
            "\n",
            "Test set: Average loss: 0.0229, Accuracy: 9931/10000 (99.31%)\n",
            "\n",
            "EPOCH: 8\n"
          ],
          "name": "stdout"
        },
        {
          "output_type": "stream",
          "text": [
            "Loss=0.09285476803779602 Batch_id=468 Accuracy=98.86: 100%|██████████| 469/469 [00:16<00:00, 30.92it/s]\n",
            "  0%|          | 0/469 [00:00<?, ?it/s]"
          ],
          "name": "stderr"
        },
        {
          "output_type": "stream",
          "text": [
            "\n",
            "Test set: Average loss: 0.0267, Accuracy: 9925/10000 (99.25%)\n",
            "\n",
            "EPOCH: 9\n"
          ],
          "name": "stdout"
        },
        {
          "output_type": "stream",
          "text": [
            "Loss=0.005765249487012625 Batch_id=468 Accuracy=98.77: 100%|██████████| 469/469 [00:16<00:00, 28.39it/s]\n",
            "  0%|          | 0/469 [00:00<?, ?it/s]"
          ],
          "name": "stderr"
        },
        {
          "output_type": "stream",
          "text": [
            "\n",
            "Test set: Average loss: 0.0239, Accuracy: 9928/10000 (99.28%)\n",
            "\n",
            "EPOCH: 10\n"
          ],
          "name": "stdout"
        },
        {
          "output_type": "stream",
          "text": [
            "Loss=0.06907995045185089 Batch_id=468 Accuracy=98.90: 100%|██████████| 469/469 [00:17<00:00, 27.53it/s]\n",
            "  0%|          | 0/469 [00:00<?, ?it/s]"
          ],
          "name": "stderr"
        },
        {
          "output_type": "stream",
          "text": [
            "\n",
            "Test set: Average loss: 0.0241, Accuracy: 9929/10000 (99.29%)\n",
            "\n",
            "EPOCH: 11\n"
          ],
          "name": "stdout"
        },
        {
          "output_type": "stream",
          "text": [
            "Loss=0.008768091909587383 Batch_id=468 Accuracy=98.93: 100%|██████████| 469/469 [00:16<00:00, 27.74it/s]\n",
            "  0%|          | 0/469 [00:00<?, ?it/s]"
          ],
          "name": "stderr"
        },
        {
          "output_type": "stream",
          "text": [
            "\n",
            "Test set: Average loss: 0.0222, Accuracy: 9940/10000 (99.40%)\n",
            "\n",
            "EPOCH: 12\n"
          ],
          "name": "stdout"
        },
        {
          "output_type": "stream",
          "text": [
            "Loss=0.08985903114080429 Batch_id=468 Accuracy=99.00: 100%|██████████| 469/469 [00:17<00:00, 26.57it/s]\n",
            "  0%|          | 0/469 [00:00<?, ?it/s]"
          ],
          "name": "stderr"
        },
        {
          "output_type": "stream",
          "text": [
            "\n",
            "Test set: Average loss: 0.0201, Accuracy: 9942/10000 (99.42%)\n",
            "\n",
            "EPOCH: 13\n"
          ],
          "name": "stdout"
        },
        {
          "output_type": "stream",
          "text": [
            "Loss=0.004549041390419006 Batch_id=468 Accuracy=98.97: 100%|██████████| 469/469 [00:16<00:00, 27.65it/s]\n",
            "  0%|          | 0/469 [00:00<?, ?it/s]"
          ],
          "name": "stderr"
        },
        {
          "output_type": "stream",
          "text": [
            "\n",
            "Test set: Average loss: 0.0209, Accuracy: 9935/10000 (99.35%)\n",
            "\n",
            "EPOCH: 14\n"
          ],
          "name": "stdout"
        },
        {
          "output_type": "stream",
          "text": [
            "Loss=0.01055695116519928 Batch_id=468 Accuracy=99.02: 100%|██████████| 469/469 [00:16<00:00, 27.82it/s]\n"
          ],
          "name": "stderr"
        },
        {
          "output_type": "stream",
          "text": [
            "\n",
            "Test set: Average loss: 0.0206, Accuracy: 9943/10000 (99.43%)\n",
            "\n"
          ],
          "name": "stdout"
        }
      ]
    },
    {
      "cell_type": "markdown",
      "metadata": {
        "id": "qghWmjUuVyQX",
        "colab_type": "text"
      },
      "source": [
        "# Most important part - Plots\n"
      ]
    },
    {
      "cell_type": "code",
      "metadata": {
        "id": "SFbE8WC_V1mK",
        "colab_type": "code",
        "outputId": "40139421-8d8b-4465-ef61-a08495c99b48",
        "colab": {
          "base_uri": "https://localhost:8080/",
          "height": 624
        }
      },
      "source": [
        "fig, axs = plt.subplots(2,2,figsize=(15,10))\n",
        "axs[0, 0].plot(train_losses)\n",
        "axs[0, 0].set_title(\"Training Loss\")\n",
        "axs[1, 0].plot(train_acc)\n",
        "axs[1, 0].set_title(\"Training Accuracy\")\n",
        "axs[0, 1].plot(test_losses)\n",
        "axs[0, 1].set_title(\"Test Loss\")\n",
        "axs[1, 1].plot(test_acc)\n",
        "axs[1, 1].set_title(\"Test Accuracy\")"
      ],
      "execution_count": 39,
      "outputs": [
        {
          "output_type": "execute_result",
          "data": {
            "text/plain": [
              "Text(0.5, 1.0, 'Test Accuracy')"
            ]
          },
          "metadata": {
            "tags": []
          },
          "execution_count": 39
        },
        {
          "output_type": "display_data",
          "data": {
            "image/png": "[encoded data removed]",
            "text/plain": [
              "<Figure size 1080x720 with 4 Axes>"
            ]
          },
          "metadata": {
            "tags": []
          }
        }
      ]
    }
  ]
}