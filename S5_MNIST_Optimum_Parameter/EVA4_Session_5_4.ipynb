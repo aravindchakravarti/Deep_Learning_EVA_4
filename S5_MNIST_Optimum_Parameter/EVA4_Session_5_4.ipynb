{
  "nbformat": 4,
  "nbformat_minor": 0,
  "metadata": {
    "colab": {
      "name": "EVA4-Session 5-4.ipynb",
      "provenance": [],
      "collapsed_sections": [],
      "include_colab_link": true
    },
    "kernelspec": {
      "name": "python3",
      "display_name": "Python 3"
    },
    "accelerator": "GPU"
  },
  "cells": [
    {
      "cell_type": "markdown",
      "metadata": {
        "id": "view-in-github",
        "colab_type": "text"
      },
      "source": [
        "<a href=\"https://colab.research.google.com/github/aravindchakravarti/Deep_Learning_EVA_4/blob/master/S5_MNIST_Optimum_Parameter/EVA4_Session_5_4.ipynb\" target=\"_parent\"><img src=\"https://colab.research.google.com/assets/colab-badge.svg\" alt=\"Open In Colab\"/></a>"
      ]
    },
    {
      "cell_type": "markdown",
      "metadata": {
        "id": "42kmitsJggNk",
        "colab_type": "text"
      },
      "source": [
        "## Target\n",
        "* Must hit 99.4% accuracy atleast 3 times in 15 epochs\n",
        "* Should I really use 1x1 kernel? May not be, because we have like 10-14 channels in first block. May not be required.\n",
        "* Use learning rate schedular\n",
        "\n",
        "## Result\n",
        "* Achieved 99.4 in 1 epoch! (12th epoch)\n",
        "* Parameters = 9.3k parameters\n",
        "\n",
        "## Analysis\n",
        "* Readuced the learning rate to 0.005 with StepLR of gamma 0.5/10 epochs\n",
        "* Reduced (almost removed the dropout) - Why? We are using the augmentations. So, dropout may not do much help.\n",
        "* Removed 1x1 kernel at this moment. Why?- Because have about 10-14 channels in first block. 1x1 may not help too much. \n",
        "\n",
        "\n",
        "## Code is available at:\n",
        "https://colab.research.google.com/drive/1VrXTDA58W8JtBhCtvCv_S08YwT-Jj6Rl\n",
        "\n"
      ]
    },
    {
      "cell_type": "markdown",
      "metadata": {
        "id": "6L2W2qcOINo8",
        "colab_type": "text"
      },
      "source": [
        "# Import Libraries"
      ]
    },
    {
      "cell_type": "code",
      "metadata": {
        "id": "0m2JWFliFfKT",
        "colab_type": "code",
        "colab": {}
      },
      "source": [
        "from __future__ import print_function\n",
        "import torch\n",
        "# Import core module\n",
        "import torch.nn as nn\n",
        "# We need support for functional programming\n",
        "import torch.nn.functional as F\n",
        "import torch.optim as optim\n",
        "# For MNIST dataset\n",
        "from torchvision import datasets, transforms\n",
        "# For Global Average Pooling\n",
        "from torch.nn import AvgPool2d\n",
        "# Plotting purpose\n",
        "%matplotlib inline\n",
        "import matplotlib.pyplot as plt"
      ],
      "execution_count": 0,
      "outputs": []
    },
    {
      "cell_type": "markdown",
      "metadata": {
        "id": "M6uKcwclITyH",
        "colab_type": "text"
      },
      "source": [
        "# Data Transformations\n",
        "We first start with defining our data transformations. Image augmentation techniques are great and we need to keep it ready by the time we hit overfitting!"
      ]
    },
    {
      "cell_type": "code",
      "metadata": {
        "id": "dycRAYR2Inxv",
        "colab_type": "code",
        "colab": {}
      },
      "source": [
        "# Train Phase transformations\n",
        "train_transforms = transforms.Compose([\n",
        "                                      #  transforms.Resize((28, 28)),\n",
        "                                      #  transforms.ColorJitter(brightness=0.10, contrast=0.1, saturation=0.10, hue=0.1),\n",
        "                                       transforms.RandomRotation((-7.0, 7.0), fill=(1,)),\n",
        "                                       transforms.ToTensor(),\n",
        "                                       transforms.Normalize((0.1307,), (0.3081,)) # The mean and std have to be sequences (e.g., tuples), therefore you should add a comma after the values. \n",
        "                                       # Note the difference between (0.1307) and (0.1307,)\n",
        "                                       ])\n",
        "\n",
        "# Test Phase transformations\n",
        "test_transforms = transforms.Compose([\n",
        "                                      #  transforms.Resize((28, 28)),\n",
        "                                      #  transforms.ColorJitter(brightness=0.10, contrast=0.1, saturation=0.10, hue=0.1),\n",
        "                                       transforms.ToTensor(),\n",
        "                                       transforms.Normalize((0.1307,), (0.3081,))\n",
        "                                       ])\n"
      ],
      "execution_count": 0,
      "outputs": []
    },
    {
      "cell_type": "markdown",
      "metadata": {
        "id": "LZ_-IJPUI0yU",
        "colab_type": "text"
      },
      "source": [
        "# Dataset and Creating Train and Test Split"
      ]
    },
    {
      "cell_type": "code",
      "metadata": {
        "id": "jPhcenY6Ivf5",
        "colab_type": "code",
        "colab": {}
      },
      "source": [
        "train = datasets.MNIST('./data', train=True, download=True, transform=train_transforms)\n",
        "test = datasets.MNIST('./data', train=False, download=True, transform=test_transforms)"
      ],
      "execution_count": 0,
      "outputs": []
    },
    {
      "cell_type": "markdown",
      "metadata": {
        "id": "5DehiSB9I8yb",
        "colab_type": "text"
      },
      "source": [
        "# Dataloader Arguments & Test/Train Dataloaders"
      ]
    },
    {
      "cell_type": "code",
      "metadata": {
        "id": "0fn7LY1PJC1c",
        "colab_type": "code",
        "outputId": "6e3b3311-a437-402e-ad06-e331403fa08c",
        "colab": {
          "base_uri": "https://localhost:8080/",
          "height": 34
        }
      },
      "source": [
        "# SEED = 1\n",
        "\n",
        "# CUDA?\n",
        "cuda = torch.cuda.is_available()\n",
        "print(\"CUDA Available?\", cuda)\n",
        "\n",
        "# For reproducibility\n",
        "# torch.manual_seed(SEED)\n",
        "\n",
        "#if cuda:\n",
        "#    torch.cuda.manual_seed(SEED)\n",
        "\n",
        "# dataloader arguments - something you'll fetch these from cmdprmt\n",
        "dataloader_args = dict(shuffle=True, batch_size=128, num_workers=4, pin_memory=True) if cuda else dict(shuffle=True, batch_size=64)\n",
        "\n",
        "# train dataloader\n",
        "train_loader = torch.utils.data.DataLoader(train, **dataloader_args)\n",
        "\n",
        "# test dataloader\n",
        "test_loader = torch.utils.data.DataLoader(test, **dataloader_args)"
      ],
      "execution_count": 25,
      "outputs": [
        {
          "output_type": "stream",
          "text": [
            "CUDA Available? True\n"
          ],
          "name": "stdout"
        }
      ]
    },
    {
      "cell_type": "markdown",
      "metadata": {
        "id": "ua9WmYbnJMVn",
        "colab_type": "text"
      },
      "source": [
        "# The Model\n",
        "\u0010\n",
        "I like the model definition like below, not with nn.Sequential() way. So, I am going to keep it same "
      ]
    },
    {
      "cell_type": "code",
      "metadata": {
        "id": "h_Cx9q2QFgM7",
        "colab_type": "code",
        "colab": {}
      },
      "source": [
        "class Net(nn.Module):\n",
        "    def __init__(self):\n",
        "        super(Net, self).__init__()\n",
        "        self.conv01 = nn.Conv2d(1, 6, 3, bias=False, padding=1)        #O=28\n",
        "        self.batch01 = nn.BatchNorm2d(num_features=6)    \n",
        "        self.conv02 = nn.Conv2d(6, 8, 3, bias=False,padding=1)        #O=28\n",
        "        self.batch02 = nn.BatchNorm2d(num_features=8)    \n",
        "        self.conv03 = nn.Conv2d(8, 10, 3, bias=False,padding=1)        #O=28\n",
        "        self.batch03 = nn.BatchNorm2d(num_features=10)   \n",
        "        self.conv04 = nn.Conv2d(10, 10, 3, bias=False,padding=0)        #O=26\n",
        "        self.batch04 = nn.BatchNorm2d(num_features=10)   \n",
        "        self.pool01 = nn.MaxPool2d(2, 2)                                #O=13\n",
        "       # self.conv05 = nn.Conv2d(12, 10, 1, bias=False)\n",
        "\n",
        "        self.conv11 = nn.Conv2d(10, 10, 3, bias=False, padding=1)       #O=13\n",
        "        self.batch11 = nn.BatchNorm2d(num_features=10)\n",
        "        self.conv12 = nn.Conv2d(10, 10, 3, bias=False, padding=0)       #O=11\n",
        "        self.batch12 = nn.BatchNorm2d(num_features=10)\n",
        "        self.conv13 = nn.Conv2d(10, 14, 3, bias=False, padding=0)       #O=09\n",
        "        self.batch13 = nn.BatchNorm2d(num_features=14)\n",
        "        self.conv14 = nn.Conv2d(14, 14, 3, bias=False, padding=0)       #O=07\n",
        "        self.batch14 = nn.BatchNorm2d(num_features=14)\n",
        "        self.conv15 = nn.Conv2d(14, 16, 3, bias=False, padding=0)       #O=05\n",
        "        self.batch15 = nn.BatchNorm2d(num_features=16)\n",
        "    \n",
        "        self.avg_pool = nn.AvgPool2d(kernel_size=5)\n",
        "        self.conv23 = nn.Conv2d(16, 10, 1, bias=False, padding=0)\n",
        "\n",
        "    def forward(self, x):\n",
        "        x = self.batch01(F.dropout(F.relu(self.conv01(x)), 0.01))        \n",
        "        x = self.batch02(F.dropout(F.relu(self.conv02(x)), 0.01))\n",
        "        x = self.batch03(F.dropout(F.relu(self.conv03(x)), 0.01))\n",
        "        x = self.batch04(F.dropout(F.relu(self.conv04(x)), 0.01))\n",
        "        x = self.pool01(x)\n",
        "        #x = F.relu(self.conv05(x))\n",
        "\n",
        "        x = self.batch11(F.dropout(F.relu(self.conv11(x)), 0.02))\n",
        "        x = self.batch12(F.dropout(F.relu(self.conv12(x)), 0.02))\n",
        "        x = self.batch13(F.dropout(F.relu(self.conv13(x)), 0.02))\n",
        "        x = self.batch14(F.dropout(F.relu(self.conv14(x)), 0.02))\n",
        "        x = self.batch15(F.dropout(F.relu(self.conv15(x)), 0.02))\n",
        "\n",
        "        x = self.avg_pool(x)\n",
        "        x = F.relu(self.conv23(x))\n",
        "        x = x.view(-1, 10)                           # Don't want 10x1x1..\n",
        "        return F.log_softmax(x)"
      ],
      "execution_count": 0,
      "outputs": []
    },
    {
      "cell_type": "markdown",
      "metadata": {
        "id": "442Nb6MfJPYw",
        "colab_type": "text"
      },
      "source": [
        "# Model Parameters and other details"
      ]
    },
    {
      "cell_type": "code",
      "metadata": {
        "colab_type": "code",
        "id": "xdydjYTZFyi3",
        "outputId": "5fa3aac3-070c-4710-b101-b28235855afd",
        "colab": {
          "base_uri": "https://localhost:8080/",
          "height": 649
        }
      },
      "source": [
        "!pip install torchsummary\n",
        "from torchsummary import summary\n",
        "use_cuda = torch.cuda.is_available()\n",
        "device = torch.device(\"cuda\" if use_cuda else \"cpu\")\n",
        "model = Net().to(device)\n",
        "summary(model, input_size=(1, 28, 28))"
      ],
      "execution_count": 37,
      "outputs": [
        {
          "output_type": "stream",
          "text": [
            "Requirement already satisfied: torchsummary in /usr/local/lib/python3.6/dist-packages (1.5.1)\n",
            "----------------------------------------------------------------\n",
            "        Layer (type)               Output Shape         Param #\n",
            "================================================================\n",
            "            Conv2d-1            [-1, 6, 28, 28]              54\n",
            "       BatchNorm2d-2            [-1, 6, 28, 28]              12\n",
            "            Conv2d-3            [-1, 8, 28, 28]             432\n",
            "       BatchNorm2d-4            [-1, 8, 28, 28]              16\n",
            "            Conv2d-5           [-1, 10, 28, 28]             720\n",
            "       BatchNorm2d-6           [-1, 10, 28, 28]              20\n",
            "            Conv2d-7           [-1, 10, 26, 26]             900\n",
            "       BatchNorm2d-8           [-1, 10, 26, 26]              20\n",
            "         MaxPool2d-9           [-1, 10, 13, 13]               0\n",
            "           Conv2d-10           [-1, 10, 13, 13]             900\n",
            "      BatchNorm2d-11           [-1, 10, 13, 13]              20\n",
            "           Conv2d-12           [-1, 10, 11, 11]             900\n",
            "      BatchNorm2d-13           [-1, 10, 11, 11]              20\n",
            "           Conv2d-14             [-1, 14, 9, 9]           1,260\n",
            "      BatchNorm2d-15             [-1, 14, 9, 9]              28\n",
            "           Conv2d-16             [-1, 14, 7, 7]           1,764\n",
            "      BatchNorm2d-17             [-1, 14, 7, 7]              28\n",
            "           Conv2d-18             [-1, 16, 5, 5]           2,016\n",
            "      BatchNorm2d-19             [-1, 16, 5, 5]              32\n",
            "        AvgPool2d-20             [-1, 16, 1, 1]               0\n",
            "           Conv2d-21             [-1, 10, 1, 1]             160\n",
            "================================================================\n",
            "Total params: 9,302\n",
            "Trainable params: 9,302\n",
            "Non-trainable params: 0\n",
            "----------------------------------------------------------------\n",
            "Input size (MB): 0.00\n",
            "Forward/backward pass size (MB): 0.48\n",
            "Params size (MB): 0.04\n",
            "Estimated Total Size (MB): 0.52\n",
            "----------------------------------------------------------------\n"
          ],
          "name": "stdout"
        },
        {
          "output_type": "stream",
          "text": [
            "/usr/local/lib/python3.6/dist-packages/ipykernel_launcher.py:46: UserWarning: Implicit dimension choice for log_softmax has been deprecated. Change the call to include dim=X as an argument.\n"
          ],
          "name": "stderr"
        }
      ]
    },
    {
      "cell_type": "markdown",
      "metadata": {
        "id": "72dkablCJXgj",
        "colab_type": "text"
      },
      "source": [
        "# Training and Testing\u0010"
      ]
    },
    {
      "cell_type": "code",
      "metadata": {
        "id": "btTqS6AMJUli",
        "colab_type": "code",
        "colab": {}
      },
      "source": [
        "from tqdm import tqdm\n",
        "\n",
        "train_losses = []\n",
        "test_losses = []\n",
        "train_acc = []\n",
        "test_acc = []\n",
        "\n",
        "def train(model, device, train_loader, optimizer, epoch):\n",
        "  model.train()\n",
        "  pbar = tqdm(train_loader)\n",
        "  correct = 0\n",
        "  processed = 0\n",
        "  for batch_idx, (data, target) in enumerate(pbar):\n",
        "    # get samples\n",
        "    data, target = data.to(device), target.to(device)\n",
        "\n",
        "    # Init\n",
        "    optimizer.zero_grad()\n",
        "    # In PyTorch, we need to set the gradients to zero before starting to do backpropragation because PyTorch accumulates the gradients on subsequent backward passes. \n",
        "    # Because of this, when you start your training loop, ideally you should zero out the gradients so that you do the parameter update correctly.\n",
        "\n",
        "    # Predict\n",
        "    y_pred = model(data)\n",
        "\n",
        "    # Calculate loss\n",
        "    loss = F.nll_loss(y_pred, target)\n",
        "    train_losses.append(loss)\n",
        "\n",
        "    # Backpropagation\n",
        "    loss.backward()\n",
        "    optimizer.step()\n",
        "\n",
        "    # Update pbar-tqdm\n",
        "    \n",
        "    pred = y_pred.argmax(dim=1, keepdim=True)  # get the index of the max log-probability\n",
        "    correct += pred.eq(target.view_as(pred)).sum().item()\n",
        "    processed += len(data)\n",
        "\n",
        "    pbar.set_description(desc= f'Loss={loss.item()} Batch_id={batch_idx} Accuracy={100*correct/processed:0.2f}')\n",
        "    train_acc.append(100*correct/processed)\n",
        "\n",
        "def test(model, device, test_loader):\n",
        "    model.eval()\n",
        "    test_loss = 0\n",
        "    correct = 0\n",
        "    with torch.no_grad():\n",
        "        for data, target in test_loader:\n",
        "            data, target = data.to(device), target.to(device)\n",
        "            output = model(data)\n",
        "            test_loss += F.nll_loss(output, target, reduction='sum').item()  # sum up batch loss\n",
        "            pred = output.argmax(dim=1, keepdim=True)  # get the index of the max log-probability\n",
        "            correct += pred.eq(target.view_as(pred)).sum().item()\n",
        "\n",
        "    test_loss /= len(test_loader.dataset)\n",
        "    test_losses.append(test_loss)\n",
        "\n",
        "    print('\\nTest set: Average loss: {:.4f}, Accuracy: {}/{} ({:.2f}%)\\n'.format(\n",
        "        test_loss, correct, len(test_loader.dataset),\n",
        "        100. * correct / len(test_loader.dataset)))\n",
        "    \n",
        "    test_acc.append(100. * correct / len(test_loader.dataset))"
      ],
      "execution_count": 0,
      "outputs": []
    },
    {
      "cell_type": "markdown",
      "metadata": {
        "id": "FZGWOFsvJ4h3",
        "colab_type": "text"
      },
      "source": [
        "# Train the model"
      ]
    },
    {
      "cell_type": "code",
      "metadata": {
        "id": "fuPalcwBNT6I",
        "colab_type": "code",
        "outputId": "68f154e2-f07f-4836-e60b-7c64c515b4ed",
        "colab": {
          "base_uri": "https://localhost:8080/",
          "height": 1000
        }
      },
      "source": [
        "from torch.optim.lr_scheduler import StepLR\n",
        "\n",
        "model =  Net().to(device)\n",
        "optimizer = optim.SGD(model.parameters(), lr=0.005, momentum=0.9)\n",
        "scheduler = StepLR(optimizer, step_size=10, gamma=0.5)\n",
        "\n",
        "\n",
        "EPOCHS = 15\n",
        "for epoch in range(EPOCHS):\n",
        "    print(\"EPOCH:\", epoch)\n",
        "    train(model, device, train_loader, optimizer, epoch)\n",
        "    # scheduler.step()\n",
        "    test(model, device, test_loader)"
      ],
      "execution_count": 39,
      "outputs": [
        {
          "output_type": "stream",
          "text": [
            "\r  0%|          | 0/469 [00:00<?, ?it/s]"
          ],
          "name": "stderr"
        },
        {
          "output_type": "stream",
          "text": [
            "EPOCH: 0\n"
          ],
          "name": "stdout"
        },
        {
          "output_type": "stream",
          "text": [
            "/usr/local/lib/python3.6/dist-packages/ipykernel_launcher.py:46: UserWarning: Implicit dimension choice for log_softmax has been deprecated. Change the call to include dim=X as an argument.\n",
            "Loss=0.1898258924484253 Batch_id=468 Accuracy=80.54: 100%|██████████| 469/469 [00:13<00:00, 33.53it/s]\n",
            "  0%|          | 0/469 [00:00<?, ?it/s]"
          ],
          "name": "stderr"
        },
        {
          "output_type": "stream",
          "text": [
            "\n",
            "Test set: Average loss: 0.1336, Accuracy: 9694/10000 (96.94%)\n",
            "\n",
            "EPOCH: 1\n"
          ],
          "name": "stdout"
        },
        {
          "output_type": "stream",
          "text": [
            "Loss=0.04342438653111458 Batch_id=468 Accuracy=97.27: 100%|██████████| 469/469 [00:13<00:00, 35.90it/s]\n",
            "  0%|          | 0/469 [00:00<?, ?it/s]"
          ],
          "name": "stderr"
        },
        {
          "output_type": "stream",
          "text": [
            "\n",
            "Test set: Average loss: 0.0709, Accuracy: 9810/10000 (98.10%)\n",
            "\n",
            "EPOCH: 2\n"
          ],
          "name": "stdout"
        },
        {
          "output_type": "stream",
          "text": [
            "Loss=0.06413894146680832 Batch_id=468 Accuracy=98.10: 100%|██████████| 469/469 [00:12<00:00, 36.56it/s]\n",
            "  0%|          | 0/469 [00:00<?, ?it/s]"
          ],
          "name": "stderr"
        },
        {
          "output_type": "stream",
          "text": [
            "\n",
            "Test set: Average loss: 0.0462, Accuracy: 9869/10000 (98.69%)\n",
            "\n",
            "EPOCH: 3\n"
          ],
          "name": "stdout"
        },
        {
          "output_type": "stream",
          "text": [
            "Loss=0.12149391323328018 Batch_id=468 Accuracy=98.42: 100%|██████████| 469/469 [00:12<00:00, 37.15it/s]\n",
            "  0%|          | 0/469 [00:00<?, ?it/s]"
          ],
          "name": "stderr"
        },
        {
          "output_type": "stream",
          "text": [
            "\n",
            "Test set: Average loss: 0.0424, Accuracy: 9882/10000 (98.82%)\n",
            "\n",
            "EPOCH: 4\n"
          ],
          "name": "stdout"
        },
        {
          "output_type": "stream",
          "text": [
            "Loss=0.08135469257831573 Batch_id=468 Accuracy=98.62: 100%|██████████| 469/469 [00:13<00:00, 39.00it/s]\n",
            "  0%|          | 0/469 [00:00<?, ?it/s]"
          ],
          "name": "stderr"
        },
        {
          "output_type": "stream",
          "text": [
            "\n",
            "Test set: Average loss: 0.0329, Accuracy: 9910/10000 (99.10%)\n",
            "\n",
            "EPOCH: 5\n"
          ],
          "name": "stdout"
        },
        {
          "output_type": "stream",
          "text": [
            "Loss=0.05713222548365593 Batch_id=468 Accuracy=98.72: 100%|██████████| 469/469 [00:13<00:00, 34.83it/s]\n",
            "  0%|          | 0/469 [00:00<?, ?it/s]"
          ],
          "name": "stderr"
        },
        {
          "output_type": "stream",
          "text": [
            "\n",
            "Test set: Average loss: 0.0325, Accuracy: 9900/10000 (99.00%)\n",
            "\n",
            "EPOCH: 6\n"
          ],
          "name": "stdout"
        },
        {
          "output_type": "stream",
          "text": [
            "Loss=0.025448882952332497 Batch_id=468 Accuracy=98.77: 100%|██████████| 469/469 [00:12<00:00, 36.55it/s]\n",
            "  0%|          | 0/469 [00:00<?, ?it/s]"
          ],
          "name": "stderr"
        },
        {
          "output_type": "stream",
          "text": [
            "\n",
            "Test set: Average loss: 0.0286, Accuracy: 9916/10000 (99.16%)\n",
            "\n",
            "EPOCH: 7\n"
          ],
          "name": "stdout"
        },
        {
          "output_type": "stream",
          "text": [
            "Loss=0.03899087384343147 Batch_id=468 Accuracy=98.84: 100%|██████████| 469/469 [00:13<00:00, 36.02it/s]\n",
            "  0%|          | 0/469 [00:00<?, ?it/s]"
          ],
          "name": "stderr"
        },
        {
          "output_type": "stream",
          "text": [
            "\n",
            "Test set: Average loss: 0.0270, Accuracy: 9908/10000 (99.08%)\n",
            "\n",
            "EPOCH: 8\n"
          ],
          "name": "stdout"
        },
        {
          "output_type": "stream",
          "text": [
            "Loss=0.035382229834795 Batch_id=468 Accuracy=98.95: 100%|██████████| 469/469 [00:13<00:00, 35.55it/s]\n",
            "  0%|          | 0/469 [00:00<?, ?it/s]"
          ],
          "name": "stderr"
        },
        {
          "output_type": "stream",
          "text": [
            "\n",
            "Test set: Average loss: 0.0262, Accuracy: 9926/10000 (99.26%)\n",
            "\n",
            "EPOCH: 9\n"
          ],
          "name": "stdout"
        },
        {
          "output_type": "stream",
          "text": [
            "Loss=0.022387171164155006 Batch_id=468 Accuracy=99.01: 100%|██████████| 469/469 [00:13<00:00, 35.17it/s]\n",
            "  0%|          | 0/469 [00:00<?, ?it/s]"
          ],
          "name": "stderr"
        },
        {
          "output_type": "stream",
          "text": [
            "\n",
            "Test set: Average loss: 0.0236, Accuracy: 9928/10000 (99.28%)\n",
            "\n",
            "EPOCH: 10\n"
          ],
          "name": "stdout"
        },
        {
          "output_type": "stream",
          "text": [
            "Loss=0.007785057183355093 Batch_id=468 Accuracy=99.03: 100%|██████████| 469/469 [00:12<00:00, 36.79it/s]\n",
            "  0%|          | 0/469 [00:00<?, ?it/s]"
          ],
          "name": "stderr"
        },
        {
          "output_type": "stream",
          "text": [
            "\n",
            "Test set: Average loss: 0.0236, Accuracy: 9934/10000 (99.34%)\n",
            "\n",
            "EPOCH: 11\n"
          ],
          "name": "stdout"
        },
        {
          "output_type": "stream",
          "text": [
            "Loss=0.03047209419310093 Batch_id=468 Accuracy=99.03: 100%|██████████| 469/469 [00:12<00:00, 36.67it/s]\n",
            "  0%|          | 0/469 [00:00<?, ?it/s]"
          ],
          "name": "stderr"
        },
        {
          "output_type": "stream",
          "text": [
            "\n",
            "Test set: Average loss: 0.0231, Accuracy: 9939/10000 (99.39%)\n",
            "\n",
            "EPOCH: 12\n"
          ],
          "name": "stdout"
        },
        {
          "output_type": "stream",
          "text": [
            "Loss=0.0037582218647003174 Batch_id=468 Accuracy=99.11: 100%|██████████| 469/469 [00:13<00:00, 41.48it/s]\n",
            "  0%|          | 0/469 [00:00<?, ?it/s]"
          ],
          "name": "stderr"
        },
        {
          "output_type": "stream",
          "text": [
            "\n",
            "Test set: Average loss: 0.0219, Accuracy: 9942/10000 (99.42%)\n",
            "\n",
            "EPOCH: 13\n"
          ],
          "name": "stdout"
        },
        {
          "output_type": "stream",
          "text": [
            "Loss=0.05491997301578522 Batch_id=468 Accuracy=99.11: 100%|██████████| 469/469 [00:13<00:00, 40.98it/s]\n",
            "  0%|          | 0/469 [00:00<?, ?it/s]"
          ],
          "name": "stderr"
        },
        {
          "output_type": "stream",
          "text": [
            "\n",
            "Test set: Average loss: 0.0222, Accuracy: 9929/10000 (99.29%)\n",
            "\n",
            "EPOCH: 14\n"
          ],
          "name": "stdout"
        },
        {
          "output_type": "stream",
          "text": [
            "Loss=0.05059514567255974 Batch_id=468 Accuracy=99.14: 100%|██████████| 469/469 [00:12<00:00, 42.68it/s]\n"
          ],
          "name": "stderr"
        },
        {
          "output_type": "stream",
          "text": [
            "\n",
            "Test set: Average loss: 0.0229, Accuracy: 9931/10000 (99.31%)\n",
            "\n"
          ],
          "name": "stdout"
        }
      ]
    },
    {
      "cell_type": "markdown",
      "metadata": {
        "id": "qghWmjUuVyQX",
        "colab_type": "text"
      },
      "source": [
        "# Most important part - Plots\n"
      ]
    },
    {
      "cell_type": "code",
      "metadata": {
        "id": "SFbE8WC_V1mK",
        "colab_type": "code",
        "outputId": "c16e8374-c96c-40b6-e55f-ef90d71d767c",
        "colab": {
          "base_uri": "https://localhost:8080/",
          "height": 624
        }
      },
      "source": [
        "fig, axs = plt.subplots(2,2,figsize=(15,10))\n",
        "axs[0, 0].plot(train_losses)\n",
        "axs[0, 0].set_title(\"Training Loss\")\n",
        "axs[1, 0].plot(train_acc)\n",
        "axs[1, 0].set_title(\"Training Accuracy\")\n",
        "axs[0, 1].plot(test_losses)\n",
        "axs[0, 1].set_title(\"Test Loss\")\n",
        "axs[1, 1].plot(test_acc)\n",
        "axs[1, 1].set_title(\"Test Accuracy\")"
      ],
      "execution_count": 40,
      "outputs": [
        {
          "output_type": "execute_result",
          "data": {
            "text/plain": [
              "Text(0.5, 1.0, 'Test Accuracy')"
            ]
          },
          "metadata": {
            "tags": []
          },
          "execution_count": 40
        },
        {
          "output_type": "display_data",
          "data": {
            "image/png": "[encoded data removed]",
            "text/plain": [
              "<Figure size 1080x720 with 4 Axes>"
            ]
          },
          "metadata": {
            "tags": []
          }
        }
      ]
    }
  ]
}