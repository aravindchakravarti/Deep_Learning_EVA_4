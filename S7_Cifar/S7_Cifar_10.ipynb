{
  "nbformat": 4,
  "nbformat_minor": 0,
  "metadata": {
    "colab": {
      "name": "S7-Cifar-10.ipynb",
      "provenance": [],
      "collapsed_sections": [],
      "authorship_tag": "ABX9TyNqoRxupCUWWz2Kq8NtqlxM",
      "include_colab_link": true
    },
    "kernelspec": {
      "name": "python3",
      "display_name": "Python 3"
    },
    "accelerator": "GPU"
  },
  "cells": [
    {
      "cell_type": "markdown",
      "metadata": {
        "id": "view-in-github",
        "colab_type": "text"
      },
      "source": [
        "<a href=\"https://colab.research.google.com/github/aravindchakravarti/Deep_Learning_EVA_4/blob/master/S7_Cifar/S7_Cifar_10.ipynb\" target=\"_parent\"><img src=\"https://colab.research.google.com/assets/colab-badge.svg\" alt=\"Open In Colab\"/></a>"
      ]
    },
    {
      "cell_type": "markdown",
      "metadata": {
        "id": "qBfC2dFRGveU",
        "colab_type": "text"
      },
      "source": [
        "# Import required libraries"
      ]
    },
    {
      "cell_type": "code",
      "metadata": {
        "id": "A09ZSKXDGu4x",
        "colab_type": "code",
        "colab": {}
      },
      "source": [
        "from __future__ import print_function\n",
        "import torch\n",
        "# Import core module\n",
        "import torch.nn as nn\n",
        "# We need support for functional programming\n",
        "import torch.nn.functional as F\n",
        "import torch.optim as optim\n",
        "# For MNIST dataset\n",
        "from torchvision import datasets, transforms\n",
        "# For Global Average Pooling\n",
        "from torch.nn import AvgPool2d\n",
        "# Plotting purpose\n",
        "%matplotlib inline\n",
        "import matplotlib.pyplot as plt\n",
        "# Import Torch Vision\n",
        "import torchvision\n",
        "# Import math library! The Numpy\n",
        "import numpy as np"
      ],
      "execution_count": 0,
      "outputs": []
    },
    {
      "cell_type": "markdown",
      "metadata": {
        "id": "eu_fXA4FFASg",
        "colab_type": "text"
      },
      "source": [
        "# Dataset Loading and Initializing the trasnforms"
      ]
    },
    {
      "cell_type": "markdown",
      "metadata": {
        "id": "C5WzOd-aHtDi",
        "colab_type": "text"
      },
      "source": [
        "## Create a tranform function which is required further for the train and test loader\n"
      ]
    },
    {
      "cell_type": "code",
      "metadata": {
        "id": "pIujj_V8Hy_i",
        "colab_type": "code",
        "colab": {}
      },
      "source": [
        "train_transforms = transforms.Compose([\n",
        "                                      #  transforms.Resize((28, 28)),\n",
        "                                      #  transforms.ColorJitter(brightness=0.10, contrast=0.1, saturation=0.10, hue=0.1),\n",
        "                                      #  transforms.RandomRotation((-7.0, 7.0), fill=(1,)),\n",
        "                                       transforms.RandomAffine(degrees=10, shear = 10),\n",
        "                                       transforms.ToTensor(),\n",
        "                                       transforms.Normalize((0.1307,), (0.3081,)) # The mean and std have to be sequences (e.g., tuples), therefore you should add a comma after the values. \n",
        "                                       # Note the difference between (0.1307) and (0.1307,)\n",
        "                                       ])\n",
        "\n",
        "# Test Phase transformations\n",
        "test_transforms = transforms.Compose([\n",
        "                                      #  transforms.Resize((28, 28)),\n",
        "                                      #  transforms.ColorJitter(brightness=0.10, contrast=0.1, saturation=0.10, hue=0.1),\n",
        "                                       transforms.ToTensor(),\n",
        "                                       transforms.Normalize((0.1307,), (0.3081,))\n",
        "                                       ])"
      ],
      "execution_count": 0,
      "outputs": []
    },
    {
      "cell_type": "markdown",
      "metadata": {
        "id": "6DWO5PgsG_x5",
        "colab_type": "text"
      },
      "source": [
        "## Dataset download to the environment"
      ]
    },
    {
      "cell_type": "code",
      "metadata": {
        "id": "GBbkUaM1E8s4",
        "colab_type": "code",
        "colab": {
          "base_uri": "https://localhost:8080/",
          "height": 51
        },
        "outputId": "1bc8abd6-d7cd-479c-ec68-d1115ab5b5f3"
      },
      "source": [
        "train = datasets.CIFAR10(root = './data', train=True, download=True, transform=train_transforms)\n",
        "test = datasets.CIFAR10(root='./data', train=False, download=True, transform=test_transforms)"
      ],
      "execution_count": 3,
      "outputs": [
        {
          "output_type": "stream",
          "text": [
            "Files already downloaded and verified\n",
            "Files already downloaded and verified\n"
          ],
          "name": "stdout"
        }
      ]
    },
    {
      "cell_type": "markdown",
      "metadata": {
        "id": "nb7v9fxbJr7G",
        "colab_type": "text"
      },
      "source": [
        "## Dataloaders\n",
        "We have downloaded the dataset and defined some function for the image transforms (which includes the image augmentation as well). \n",
        "\n",
        "Below steps ensure that we use GPU for our training and testing (Basically we want the data to be in the GPU for getting best performance) "
      ]
    },
    {
      "cell_type": "code",
      "metadata": {
        "id": "HJOy_Gk2HpvM",
        "colab_type": "code",
        "colab": {
          "base_uri": "https://localhost:8080/",
          "height": 34
        },
        "outputId": "c012d557-db86-45aa-a9a7-bd8e201a0c89"
      },
      "source": [
        "# Do we have CUDA drivers for us?\n",
        "cuda = torch.cuda.is_available()\n",
        "print (\"Cuda Available?\", cuda)\n",
        "\n",
        "dataloader_args = dict(shuffle=True, batch_size=128, num_workers=4, pin_memory=True) if cuda else dict(shuffle=True, batch_size=64)\n",
        "\n",
        "# Dataloaders\n",
        "train_loader = torch.utils.data.DataLoader(dataset=train, **dataloader_args)\n",
        "test_loader = torch.utils.data.DataLoader(dataset=test, **dataloader_args)"
      ],
      "execution_count": 4,
      "outputs": [
        {
          "output_type": "stream",
          "text": [
            "Cuda Available? True\n"
          ],
          "name": "stdout"
        }
      ]
    },
    {
      "cell_type": "markdown",
      "metadata": {
        "id": "VOL9FBb8P0H9",
        "colab_type": "text"
      },
      "source": [
        "## Number of classes\n",
        "I am not sure if is specific to CIFAR-10. Lets see afterwards"
      ]
    },
    {
      "cell_type": "code",
      "metadata": {
        "id": "4kgt_kt-NK1g",
        "colab_type": "code",
        "colab": {}
      },
      "source": [
        "classes = ('plane', 'car', 'bird', 'cat',\n",
        "           'deer', 'dog', 'frog', 'horse', 'ship', 'truck')"
      ],
      "execution_count": 0,
      "outputs": []
    },
    {
      "cell_type": "markdown",
      "metadata": {
        "id": "80Yw92fzQL0c",
        "colab_type": "text"
      },
      "source": [
        "## Data visualization"
      ]
    },
    {
      "cell_type": "code",
      "metadata": {
        "id": "SzpaMQLCQIAt",
        "colab_type": "code",
        "colab": {
          "base_uri": "https://localhost:8080/",
          "height": 303
        },
        "outputId": "af3c0482-c932-4cff-9a75-40bf3cf1eee9"
      },
      "source": [
        "def imshow(img):\n",
        "    img = img / 2 + 0.5     # unnormalize\n",
        "    npimg = img.numpy()\n",
        "    plt.imshow(np.transpose(npimg, (1, 2, 0)))\n",
        "\n",
        "\n",
        "# get some random training images\n",
        "dataiter = iter(train_loader)\n",
        "images, labels = dataiter.next()\n",
        "\n",
        "# show images\n",
        "imshow(torchvision.utils.make_grid(images))\n",
        "# print labels\n",
        "print(' '.join('%5s' % classes[labels[j]] for j in range(4)))"
      ],
      "execution_count": 6,
      "outputs": [
        {
          "output_type": "stream",
          "text": [
            "Clipping input data to the valid range for imshow with RGB data ([0..1] for floats or [0..255] for integers).\n"
          ],
          "name": "stderr"
        },
        {
          "output_type": "stream",
          "text": [
            "  car  frog truck plane\n"
          ],
          "name": "stdout"
        },
        {
          "output_type": "display_data",
          "data": {
            "image/png": "[encoded data removed]",
            "text/plain": [
              "<Figure size 432x288 with 1 Axes>"
            ]
          },
          "metadata": {
            "tags": []
          }
        }
      ]
    },
    {
      "cell_type": "markdown",
      "metadata": {
        "id": "lrRu8FsMRKG5",
        "colab_type": "text"
      },
      "source": [
        "# The Convolutional Neural Network Model "
      ]
    },
    {
      "cell_type": "markdown",
      "metadata": {
        "id": "Mt3s4OyqRPhN",
        "colab_type": "text"
      },
      "source": [
        "## The skeleton of the network"
      ]
    },
    {
      "cell_type": "code",
      "metadata": {
        "id": "PClmolOlRPLs",
        "colab_type": "code",
        "colab": {}
      },
      "source": [
        "class Net(nn.Module):\n",
        "    def __init__(self):\n",
        "        super(Net, self).__init__()\n",
        "        self.conv01 = nn.Conv2d(3, 16, 3, bias=False, padding=1)        #O=32\n",
        "        self.batch01 = nn.BatchNorm2d(num_features=16)    \n",
        "        self.conv02 = nn.Conv2d(16, 16, 3, bias=False,padding=1)        #O=28\n",
        "        self.batch02 = nn.BatchNorm2d(num_features=16)    \n",
        "        self.conv03 = nn.Conv2d(16, 16, 3, bias=False,padding=1)        #O=28\n",
        "        self.batch03 = nn.BatchNorm2d(num_features=16)   \n",
        "        self.conv04 = nn.Conv2d(16, 16, 3, bias=False,padding=1)        #O=26\n",
        "        self.batch04 = nn.BatchNorm2d(num_features=16)   \n",
        "        self.pool01 = nn.MaxPool2d(2, 2)                                #O=16\n",
        "        self.conv05 = nn.Conv2d(16, 16, 1, bias=False)\n",
        "\n",
        "        self.conv11 = nn.Conv2d(16, 32, 3, bias=False, padding=1)       #O=\n",
        "        self.batch11 = nn.BatchNorm2d(num_features=32)\n",
        "        self.conv12 = nn.Conv2d(32, 32, 3, bias=False, padding=1)       #O=\n",
        "        self.batch12 = nn.BatchNorm2d(num_features=32)\n",
        "        self.conv13 = nn.Conv2d(32, 32, 3, bias=False, padding=1)       #O=\n",
        "        self.batch13 = nn.BatchNorm2d(num_features=32)\n",
        "        self.conv14 = nn.Conv2d(32, 32, 3, bias=False, padding=1)       #O=\n",
        "        self.batch14 = nn.BatchNorm2d(num_features=32)\n",
        "        self.pool11 = nn.MaxPool2d(2, 2)                                #O=8\n",
        "        self.conv15 = nn.Conv2d(32, 32, 1, bias=False)\n",
        "\n",
        "        self.conv21 = nn.Conv2d(32, 64, 3, bias=False, padding=1)       #O=\n",
        "        self.batch21 = nn.BatchNorm2d(num_features=64)\n",
        "        self.conv22 = nn.Conv2d(64, 64, 3, bias=False, padding=1)       #O=\n",
        "        self.batch22 = nn.BatchNorm2d(num_features=64)\n",
        "        self.conv23 = nn.Conv2d(64, 64, 3, bias=False, padding=1)       #O=\n",
        "        self.batch23 = nn.BatchNorm2d(num_features=64)\n",
        "        self.conv24 = nn.Conv2d(64, 64, 3, bias=False, padding=1)       #O=\n",
        "        self.batch24 = nn.BatchNorm2d(num_features=64)\n",
        "        self.pool21 = nn.MaxPool2d(2, 2)                                #O=4\n",
        "        self.conv25 = nn.Conv2d(64, 32, 1, bias=False)\n",
        "\n",
        "        self.conv31 = nn.Conv2d(32, 64, 3, bias=False, padding=1)       #O=05\n",
        "        self.batch31 = nn.BatchNorm2d(num_features=64)\n",
        "        self.conv32 = nn.Conv2d(64, 64, 3, bias=False, padding=1)       #O=05\n",
        "        self.batch32 = nn.BatchNorm2d(num_features=64)\n",
        "        self.conv33 = nn.Conv2d(64, 64, 3, bias=False, padding=1)       #O=05\n",
        "        self.batch33 = nn.BatchNorm2d(num_features=64)\n",
        "    \n",
        "        self.avg_pool = nn.AvgPool2d(kernel_size=4)\n",
        "        self.convx3 = nn.Conv2d(64, 10, 1, bias=False, padding=0)\n",
        "\n",
        "    def forward(self, x):\n",
        "        x = self.batch01(F.relu(self.conv01(x)))        \n",
        "        x = self.batch02(F.relu(self.conv02(x)))\n",
        "        x = self.batch03(F.relu(self.conv03(x)))\n",
        "        x = self.batch04(F.relu(self.conv04(x)))\n",
        "        x = self.pool01(x)\n",
        "        x = self.conv05(x)\n",
        "\n",
        "        x = self.batch11(F.relu(self.conv11(x)))\n",
        "        x = self.batch12(F.relu(self.conv12(x)))\n",
        "        x = self.batch13(F.relu(self.conv13(x)))\n",
        "        x = self.batch14(F.relu(self.conv14(x)))\n",
        "        x = self.pool11(x)\n",
        "        x = self.conv15(x)\n",
        "\n",
        "        x = self.batch21(F.relu(self.conv21(x)))\n",
        "        x = self.batch22(F.relu(self.conv22(x)))\n",
        "        x = self.batch23(F.relu(self.conv23(x)))\n",
        "        x = self.batch24(F.relu(self.conv24(x)))\n",
        "        x = self.pool21(x)\n",
        "        x = self.conv25(x)\n",
        "\n",
        "        x = self.batch31(F.relu(self.conv31(x)))\n",
        "        x = self.batch32(F.relu(self.conv32(x)))\n",
        "        x = self.batch33(F.relu(self.conv33(x)))\n",
        "\n",
        "\n",
        "        x = self.avg_pool(x)\n",
        "        x = self.convx3(x)\n",
        "        x = x.view(-1, 10)                           # Don't want 10x1x1..\n",
        "        return F.log_softmax(x)"
      ],
      "execution_count": 0,
      "outputs": []
    },
    {
      "cell_type": "markdown",
      "metadata": {
        "id": "cfdSrFwoUUDV",
        "colab_type": "text"
      },
      "source": [
        "## Display model summary"
      ]
    },
    {
      "cell_type": "code",
      "metadata": {
        "id": "EcVjA5kVUTwL",
        "colab_type": "code",
        "colab": {
          "base_uri": "https://localhost:8080/",
          "height": 938
        },
        "outputId": "d0129b61-07d0-4d96-ad06-32127f1e6c4d"
      },
      "source": [
        "!pip install torchsummary\n",
        "from torchsummary import summary\n",
        "use_cuda = torch.cuda.is_available()\n",
        "device = torch.device(\"cuda\" if use_cuda else \"cpu\")\n",
        "model = Net().to(device)\n",
        "summary(model, input_size=(3, 32, 32))"
      ],
      "execution_count": 23,
      "outputs": [
        {
          "output_type": "stream",
          "text": [
            "Requirement already satisfied: torchsummary in /usr/local/lib/python3.6/dist-packages (1.5.1)\n",
            "----------------------------------------------------------------\n",
            "        Layer (type)               Output Shape         Param #\n",
            "================================================================\n",
            "            Conv2d-1           [-1, 16, 32, 32]             432\n",
            "       BatchNorm2d-2           [-1, 16, 32, 32]              32\n",
            "            Conv2d-3           [-1, 16, 32, 32]           2,304\n",
            "       BatchNorm2d-4           [-1, 16, 32, 32]              32\n",
            "            Conv2d-5           [-1, 16, 32, 32]           2,304\n",
            "       BatchNorm2d-6           [-1, 16, 32, 32]              32\n",
            "            Conv2d-7           [-1, 16, 32, 32]           2,304\n",
            "       BatchNorm2d-8           [-1, 16, 32, 32]              32\n",
            "         MaxPool2d-9           [-1, 16, 16, 16]               0\n",
            "           Conv2d-10           [-1, 16, 16, 16]             256\n",
            "           Conv2d-11           [-1, 32, 16, 16]           4,608\n",
            "      BatchNorm2d-12           [-1, 32, 16, 16]              64\n",
            "           Conv2d-13           [-1, 32, 16, 16]           9,216\n",
            "      BatchNorm2d-14           [-1, 32, 16, 16]              64\n",
            "           Conv2d-15           [-1, 32, 16, 16]           9,216\n",
            "      BatchNorm2d-16           [-1, 32, 16, 16]              64\n",
            "           Conv2d-17           [-1, 32, 16, 16]           9,216\n",
            "      BatchNorm2d-18           [-1, 32, 16, 16]              64\n",
            "        MaxPool2d-19             [-1, 32, 8, 8]               0\n",
            "           Conv2d-20             [-1, 32, 8, 8]           1,024\n",
            "           Conv2d-21             [-1, 64, 8, 8]          18,432\n",
            "      BatchNorm2d-22             [-1, 64, 8, 8]             128\n",
            "           Conv2d-23             [-1, 64, 8, 8]          36,864\n",
            "      BatchNorm2d-24             [-1, 64, 8, 8]             128\n",
            "           Conv2d-25             [-1, 64, 8, 8]          36,864\n",
            "      BatchNorm2d-26             [-1, 64, 8, 8]             128\n",
            "           Conv2d-27             [-1, 64, 8, 8]          36,864\n",
            "      BatchNorm2d-28             [-1, 64, 8, 8]             128\n",
            "        MaxPool2d-29             [-1, 64, 4, 4]               0\n",
            "           Conv2d-30             [-1, 32, 4, 4]           2,048\n",
            "           Conv2d-31             [-1, 64, 4, 4]          18,432\n",
            "      BatchNorm2d-32             [-1, 64, 4, 4]             128\n",
            "           Conv2d-33             [-1, 64, 4, 4]          36,864\n",
            "      BatchNorm2d-34             [-1, 64, 4, 4]             128\n",
            "           Conv2d-35             [-1, 64, 4, 4]          36,864\n",
            "      BatchNorm2d-36             [-1, 64, 4, 4]             128\n",
            "        AvgPool2d-37             [-1, 64, 1, 1]               0\n",
            "           Conv2d-38             [-1, 10, 1, 1]             640\n",
            "================================================================\n",
            "Total params: 266,032\n",
            "Trainable params: 266,032\n",
            "Non-trainable params: 0\n",
            "----------------------------------------------------------------\n",
            "Input size (MB): 0.01\n",
            "Forward/backward pass size (MB): 1.90\n",
            "Params size (MB): 1.01\n",
            "Estimated Total Size (MB): 2.93\n",
            "----------------------------------------------------------------\n"
          ],
          "name": "stdout"
        },
        {
          "output_type": "stream",
          "text": [
            "/usr/local/lib/python3.6/dist-packages/ipykernel_launcher.py:77: UserWarning: Implicit dimension choice for log_softmax has been deprecated. Change the call to include dim=X as an argument.\n"
          ],
          "name": "stderr"
        }
      ]
    },
    {
      "cell_type": "markdown",
      "metadata": {
        "id": "Kvq1iX62UAIu",
        "colab_type": "text"
      },
      "source": [
        "# Training and Testing"
      ]
    },
    {
      "cell_type": "markdown",
      "metadata": {
        "id": "gXRh0WfnYeSX",
        "colab_type": "text"
      },
      "source": [
        "## Setup Train and Test functions"
      ]
    },
    {
      "cell_type": "code",
      "metadata": {
        "id": "LyjfdgQJQOT7",
        "colab_type": "code",
        "colab": {}
      },
      "source": [
        "from tqdm import tqdm\n",
        "\n",
        "train_losses = []\n",
        "test_losses = []\n",
        "train_acc = []\n",
        "test_acc = []\n",
        "\n",
        "def train(model, device, train_loader, optimizer, epoch):\n",
        "  model.train()\n",
        "  pbar = tqdm(train_loader)\n",
        "\n",
        "  correct = 0\n",
        "  processed = 0\n",
        "\n",
        "  for batch_idx, (data, target) in enumerate (pbar):\n",
        "    data, target = data.to(device), target.to(device)\n",
        "\n",
        "    #Don't want history of gradients \n",
        "    optimizer.zero_grad()\n",
        "\n",
        "    y_predict = model(data)\n",
        "\n",
        "    # Caluclate loss\n",
        "    loss = F.nll_loss(y_predict, target)\n",
        "    train_losses.append(loss)\n",
        "\n",
        "    # Back propogate error\n",
        "    loss.backward()\n",
        "\n",
        "    # Take a optimzer step\n",
        "    optimizer.step()\n",
        "\n",
        "    # Update pbar-tqdm\n",
        "    \n",
        "    pred = y_predict.argmax(dim=1, keepdim=True)  # get the index of the max log-probability\n",
        "    correct += pred.eq(target.view_as(pred)).sum().item()\n",
        "    processed += len(data)\n",
        "\n",
        "    pbar.set_description(desc= f'Loss={loss.item()} Batch_id={batch_idx} Accuracy={100*correct/processed:0.2f}')\n",
        "    train_acc.append(100*correct/processed)\n",
        "\n",
        "\n",
        "def test (model, device, test_loader):\n",
        "  model.eval()\n",
        "\n",
        "  test_loss = 0\n",
        "  correct = 0\n",
        "\n",
        "  with torch.no_grad():\n",
        "    for data, target in test_loader:\n",
        "      data, target = data.to(device), target.to(device)\n",
        "\n",
        "      output = model(data)\n",
        "\n",
        "      test_loss += F.nll_loss(output, target, reduction='sum').item()  # sum up batch loss\n",
        "      pred = output.argmax(dim=1, keepdim=True)  # get the index of the max log-probability\n",
        "      correct += pred.eq(target.view_as(pred)).sum().item()\n",
        "\n",
        "  test_loss /= len(test_loader.dataset)\n",
        "  test_losses.append(test_loss)\n",
        "\n",
        "  print('\\nTest set: Average loss: {:.4f}, Accuracy: {}/{} ({:.2f}%)\\n'.format(\n",
        "    test_loss, correct, len(test_loader.dataset),\n",
        "    100. * correct / len(test_loader.dataset)))\n",
        "    \n",
        "  test_acc.append(100. * correct / len(test_loader.dataset))"
      ],
      "execution_count": 0,
      "outputs": []
    },
    {
      "cell_type": "markdown",
      "metadata": {
        "id": "TIpGilUkYWi7",
        "colab_type": "text"
      },
      "source": [
        "## Setup Optimizers"
      ]
    },
    {
      "cell_type": "code",
      "metadata": {
        "id": "duZkba4ZYMek",
        "colab_type": "code",
        "colab": {}
      },
      "source": [
        "model =  Net().to(device)\n",
        "criteria = nn.CrossEntropyLoss()\n",
        "optimizer = optim.SGD(model.parameters(), lr = 0.01, momentum=0.9)"
      ],
      "execution_count": 0,
      "outputs": []
    },
    {
      "cell_type": "code",
      "metadata": {
        "id": "l9em1z2IU1Qz",
        "colab_type": "code",
        "colab": {
          "base_uri": "https://localhost:8080/",
          "height": 1000
        },
        "outputId": "8a8a51df-fff2-453d-9d4f-eaf5d890f468"
      },
      "source": [
        "EPOCHS = 15\n",
        "for epoch in range(EPOCHS):\n",
        "    print(\"EPOCH:\", epoch)\n",
        "    train(model, device, train_loader, optimizer, epoch)\n",
        "    # scheduler.step()\n",
        "    test(model, device, test_loader)"
      ],
      "execution_count": 0,
      "outputs": [
        {
          "output_type": "stream",
          "text": [
            "\r  0%|          | 0/391 [00:00<?, ?it/s]"
          ],
          "name": "stderr"
        },
        {
          "output_type": "stream",
          "text": [
            "EPOCH: 0\n"
          ],
          "name": "stdout"
        },
        {
          "output_type": "stream",
          "text": [
            "/usr/local/lib/python3.6/dist-packages/ipykernel_launcher.py:77: UserWarning: Implicit dimension choice for log_softmax has been deprecated. Change the call to include dim=X as an argument.\n",
            "Loss=1.235370397567749 Batch_id=390 Accuracy=42.61: 100%|██████████| 391/391 [00:28<00:00, 13.71it/s]\n",
            "  0%|          | 0/391 [00:00<?, ?it/s]"
          ],
          "name": "stderr"
        },
        {
          "output_type": "stream",
          "text": [
            "\n",
            "Test set: Average loss: 1.3115, Accuracy: 5298/10000 (52.98%)\n",
            "\n",
            "EPOCH: 1\n"
          ],
          "name": "stdout"
        },
        {
          "output_type": "stream",
          "text": [
            "Loss=1.077358603477478 Batch_id=390 Accuracy=59.51: 100%|██████████| 391/391 [00:28<00:00, 13.74it/s]\n",
            "  0%|          | 0/391 [00:00<?, ?it/s]"
          ],
          "name": "stderr"
        },
        {
          "output_type": "stream",
          "text": [
            "\n",
            "Test set: Average loss: 1.0360, Accuracy: 6318/10000 (63.18%)\n",
            "\n",
            "EPOCH: 2\n"
          ],
          "name": "stdout"
        },
        {
          "output_type": "stream",
          "text": [
            "Loss=0.9948863983154297 Batch_id=390 Accuracy=67.16: 100%|██████████| 391/391 [00:28<00:00, 13.82it/s]\n",
            "  0%|          | 0/391 [00:00<?, ?it/s]"
          ],
          "name": "stderr"
        },
        {
          "output_type": "stream",
          "text": [
            "\n",
            "Test set: Average loss: 0.8849, Accuracy: 6916/10000 (69.16%)\n",
            "\n",
            "EPOCH: 3\n"
          ],
          "name": "stdout"
        },
        {
          "output_type": "stream",
          "text": [
            "Loss=0.7258342504501343 Batch_id=390 Accuracy=71.42: 100%|██████████| 391/391 [00:28<00:00, 13.79it/s]\n",
            "  0%|          | 0/391 [00:00<?, ?it/s]"
          ],
          "name": "stderr"
        },
        {
          "output_type": "stream",
          "text": [
            "\n",
            "Test set: Average loss: 0.8055, Accuracy: 7192/10000 (71.92%)\n",
            "\n",
            "EPOCH: 4\n"
          ],
          "name": "stdout"
        },
        {
          "output_type": "stream",
          "text": [
            "Loss=0.758222758769989 Batch_id=390 Accuracy=74.09: 100%|██████████| 391/391 [00:28<00:00, 13.81it/s]\n",
            "  0%|          | 0/391 [00:00<?, ?it/s]"
          ],
          "name": "stderr"
        },
        {
          "output_type": "stream",
          "text": [
            "\n",
            "Test set: Average loss: 0.7277, Accuracy: 7450/10000 (74.50%)\n",
            "\n",
            "EPOCH: 5\n"
          ],
          "name": "stdout"
        },
        {
          "output_type": "stream",
          "text": [
            "Loss=0.6225559115409851 Batch_id=390 Accuracy=76.51: 100%|██████████| 391/391 [00:28<00:00, 13.79it/s]\n",
            "  0%|          | 0/391 [00:00<?, ?it/s]"
          ],
          "name": "stderr"
        },
        {
          "output_type": "stream",
          "text": [
            "\n",
            "Test set: Average loss: 0.7286, Accuracy: 7507/10000 (75.07%)\n",
            "\n",
            "EPOCH: 6\n"
          ],
          "name": "stdout"
        },
        {
          "output_type": "stream",
          "text": [
            "Loss=0.701285183429718 Batch_id=390 Accuracy=78.12: 100%|██████████| 391/391 [00:28<00:00, 13.73it/s]\n",
            "  0%|          | 0/391 [00:00<?, ?it/s]"
          ],
          "name": "stderr"
        },
        {
          "output_type": "stream",
          "text": [
            "\n",
            "Test set: Average loss: 0.6331, Accuracy: 7820/10000 (78.20%)\n",
            "\n",
            "EPOCH: 7\n"
          ],
          "name": "stdout"
        },
        {
          "output_type": "stream",
          "text": [
            "Loss=0.6207834482192993 Batch_id=390 Accuracy=79.49: 100%|██████████| 391/391 [00:28<00:00, 13.81it/s]\n",
            "  0%|          | 0/391 [00:00<?, ?it/s]"
          ],
          "name": "stderr"
        },
        {
          "output_type": "stream",
          "text": [
            "\n",
            "Test set: Average loss: 0.6164, Accuracy: 7877/10000 (78.77%)\n",
            "\n",
            "EPOCH: 8\n"
          ],
          "name": "stdout"
        },
        {
          "output_type": "stream",
          "text": [
            "Loss=0.7152092456817627 Batch_id=390 Accuracy=80.56: 100%|██████████| 391/391 [00:28<00:00, 13.75it/s]\n",
            "  0%|          | 0/391 [00:00<?, ?it/s]"
          ],
          "name": "stderr"
        },
        {
          "output_type": "stream",
          "text": [
            "\n",
            "Test set: Average loss: 0.6130, Accuracy: 7900/10000 (79.00%)\n",
            "\n",
            "EPOCH: 9\n"
          ],
          "name": "stdout"
        },
        {
          "output_type": "stream",
          "text": [
            "Loss=0.47102564573287964 Batch_id=390 Accuracy=81.37: 100%|██████████| 391/391 [00:28<00:00, 13.83it/s]\n",
            "  0%|          | 0/391 [00:00<?, ?it/s]"
          ],
          "name": "stderr"
        },
        {
          "output_type": "stream",
          "text": [
            "\n",
            "Test set: Average loss: 0.5980, Accuracy: 7971/10000 (79.71%)\n",
            "\n",
            "EPOCH: 10\n"
          ],
          "name": "stdout"
        },
        {
          "output_type": "stream",
          "text": [
            "Loss=0.42321377992630005 Batch_id=390 Accuracy=82.09: 100%|██████████| 391/391 [00:28<00:00, 13.71it/s]\n",
            "  0%|          | 0/391 [00:00<?, ?it/s]"
          ],
          "name": "stderr"
        },
        {
          "output_type": "stream",
          "text": [
            "\n",
            "Test set: Average loss: 0.5737, Accuracy: 8063/10000 (80.63%)\n",
            "\n",
            "EPOCH: 11\n"
          ],
          "name": "stdout"
        },
        {
          "output_type": "stream",
          "text": [
            "Loss=0.456556499004364 Batch_id=390 Accuracy=83.10: 100%|██████████| 391/391 [00:28<00:00, 13.82it/s]\n",
            "  0%|          | 0/391 [00:00<?, ?it/s]"
          ],
          "name": "stderr"
        },
        {
          "output_type": "stream",
          "text": [
            "\n",
            "Test set: Average loss: 0.5737, Accuracy: 8041/10000 (80.41%)\n",
            "\n",
            "EPOCH: 12\n"
          ],
          "name": "stdout"
        },
        {
          "output_type": "stream",
          "text": [
            "Loss=0.47500813007354736 Batch_id=340 Accuracy=84.03:  87%|████████▋ | 341/391 [00:24<00:03, 13.89it/s]"
          ],
          "name": "stderr"
        }
      ]
    }
  ]
}