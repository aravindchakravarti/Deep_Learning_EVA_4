{
  "nbformat": 4,
  "nbformat_minor": 0,
  "metadata": {
    "colab": {
      "name": "S7-Cifar-10.ipynb",
      "provenance": [],
      "collapsed_sections": [],
      "authorship_tag": "ABX9TyPWx54uHUZALHSHCZu/Dp/y",
      "include_colab_link": true
    },
    "kernelspec": {
      "name": "python3",
      "display_name": "Python 3"
    },
    "accelerator": "GPU"
  },
  "cells": [
    {
      "cell_type": "markdown",
      "metadata": {
        "id": "view-in-github",
        "colab_type": "text"
      },
      "source": [
        "<a href=\"https://colab.research.google.com/github/aravindchakravarti/Deep_Learning_EVA_4/blob/master/S7_Cifar/S7_Cifar_10.ipynb\" target=\"_parent\"><img src=\"https://colab.research.google.com/assets/colab-badge.svg\" alt=\"Open In Colab\"/></a>"
      ]
    },
    {
      "cell_type": "markdown",
      "metadata": {
        "id": "qBfC2dFRGveU",
        "colab_type": "text"
      },
      "source": [
        "# Import required libraries"
      ]
    },
    {
      "cell_type": "code",
      "metadata": {
        "id": "A09ZSKXDGu4x",
        "colab_type": "code",
        "colab": {}
      },
      "source": [
        "from __future__ import print_function\n",
        "import torch\n",
        "# Import core module\n",
        "import torch.nn as nn\n",
        "# We need support for functional programming\n",
        "import torch.nn.functional as F\n",
        "import torch.optim as optim\n",
        "# For MNIST dataset\n",
        "from torchvision import datasets, transforms\n",
        "# For Global Average Pooling\n",
        "from torch.nn import AvgPool2d\n",
        "# Plotting purpose\n",
        "%matplotlib inline\n",
        "import matplotlib.pyplot as plt\n",
        "# Import Torch Vision\n",
        "import torchvision\n",
        "# Import math library! The Numpy\n",
        "import numpy as np"
      ],
      "execution_count": 0,
      "outputs": []
    },
    {
      "cell_type": "markdown",
      "metadata": {
        "id": "eu_fXA4FFASg",
        "colab_type": "text"
      },
      "source": [
        "# Dataset Loading and Initializing the trasnforms"
      ]
    },
    {
      "cell_type": "markdown",
      "metadata": {
        "id": "C5WzOd-aHtDi",
        "colab_type": "text"
      },
      "source": [
        "## Create a tranform function which is required further for the train and test loader\n"
      ]
    },
    {
      "cell_type": "code",
      "metadata": {
        "id": "pIujj_V8Hy_i",
        "colab_type": "code",
        "colab": {}
      },
      "source": [
        "train_transforms = transforms.Compose([\n",
        "                                      #  transforms.Resize((28, 28)),\n",
        "                                      #  transforms.ColorJitter(brightness=0.10, contrast=0.1, saturation=0.10, hue=0.1),\n",
        "                                      #  transforms.RandomRotation((-7.0, 7.0), fill=(1,)),\n",
        "                                       transforms.RandomAffine(degrees=10, shear = 10),\n",
        "                                       transforms.ToTensor(),\n",
        "                                       transforms.Normalize((0.1307,), (0.3081,)) # The mean and std have to be sequences (e.g., tuples), therefore you should add a comma after the values. \n",
        "                                       # Note the difference between (0.1307) and (0.1307,)\n",
        "                                       ])\n",
        "\n",
        "# Test Phase transformations\n",
        "test_transforms = transforms.Compose([\n",
        "                                      #  transforms.Resize((28, 28)),\n",
        "                                      #  transforms.ColorJitter(brightness=0.10, contrast=0.1, saturation=0.10, hue=0.1),\n",
        "                                       transforms.ToTensor(),\n",
        "                                       transforms.Normalize((0.1307,), (0.3081,))\n",
        "                                       ])"
      ],
      "execution_count": 0,
      "outputs": []
    },
    {
      "cell_type": "markdown",
      "metadata": {
        "id": "6DWO5PgsG_x5",
        "colab_type": "text"
      },
      "source": [
        "## Dataset download to the environment"
      ]
    },
    {
      "cell_type": "code",
      "metadata": {
        "id": "GBbkUaM1E8s4",
        "colab_type": "code",
        "colab": {
          "base_uri": "https://localhost:8080/",
          "height": 51
        },
        "outputId": "11edcca9-c85b-4cb4-f3fc-0da7aade562c"
      },
      "source": [
        "train = datasets.CIFAR10(root = './data', train=True, download=True, transform=train_transforms)\n",
        "test = datasets.CIFAR10(root='./data', train=False, download=True, transform=test_transforms)"
      ],
      "execution_count": 3,
      "outputs": [
        {
          "output_type": "stream",
          "text": [
            "Files already downloaded and verified\n",
            "Files already downloaded and verified\n"
          ],
          "name": "stdout"
        }
      ]
    },
    {
      "cell_type": "markdown",
      "metadata": {
        "id": "nb7v9fxbJr7G",
        "colab_type": "text"
      },
      "source": [
        "## Dataloaders\n",
        "We have downloaded the dataset and defined some function for the image transforms (which includes the image augmentation as well). \n",
        "\n",
        "Below steps ensure that we use GPU for our training and testing (Basically we want the data to be in the GPU for getting best performance) "
      ]
    },
    {
      "cell_type": "code",
      "metadata": {
        "id": "HJOy_Gk2HpvM",
        "colab_type": "code",
        "colab": {
          "base_uri": "https://localhost:8080/",
          "height": 34
        },
        "outputId": "43617c07-2d56-4cfa-e17b-18df734f82ae"
      },
      "source": [
        "# Do we have CUDA drivers for us?\n",
        "cuda = torch.cuda.is_available()\n",
        "print (\"Cuda Available?\", cuda)\n",
        "\n",
        "dataloader_args = dict(shuffle=True, batch_size=512, num_workers=4, pin_memory=True) if cuda else dict(shuffle=True, batch_size=64)\n",
        "\n",
        "# Dataloaders\n",
        "train_loader = torch.utils.data.DataLoader(dataset=train, **dataloader_args)\n",
        "test_loader = torch.utils.data.DataLoader(dataset=test, **dataloader_args)"
      ],
      "execution_count": 4,
      "outputs": [
        {
          "output_type": "stream",
          "text": [
            "Cuda Available? True\n"
          ],
          "name": "stdout"
        }
      ]
    },
    {
      "cell_type": "markdown",
      "metadata": {
        "id": "VOL9FBb8P0H9",
        "colab_type": "text"
      },
      "source": [
        "## Number of classes\n",
        "I am not sure if is specific to CIFAR-10. Lets see afterwards"
      ]
    },
    {
      "cell_type": "code",
      "metadata": {
        "id": "4kgt_kt-NK1g",
        "colab_type": "code",
        "colab": {}
      },
      "source": [
        "classes = ('plane', 'car', 'bird', 'cat',\n",
        "           'deer', 'dog', 'frog', 'horse', 'ship', 'truck')"
      ],
      "execution_count": 0,
      "outputs": []
    },
    {
      "cell_type": "markdown",
      "metadata": {
        "id": "80Yw92fzQL0c",
        "colab_type": "text"
      },
      "source": [
        "## Data visualization"
      ]
    },
    {
      "cell_type": "code",
      "metadata": {
        "id": "SzpaMQLCQIAt",
        "colab_type": "code",
        "colab": {}
      },
      "source": [
        "def imshow(img):\n",
        "    img = img / 2 + 0.5     # unnormalize\n",
        "    npimg = img.numpy()\n",
        "    plt.imshow(np.transpose(npimg, (1, 2, 0)))\n",
        "\n",
        "\n",
        "# get some random training images\n",
        "dataiter = iter(train_loader)\n",
        "images, labels = dataiter.next()\n",
        "\n",
        "# show images <Enable below instructions if data visualization required>\n",
        "# imshow(torchvision.utils.make_grid(images))\n",
        "# print labels\n",
        "# print(' '.join('%5s' % classes[labels[j]] for j in range(4)))"
      ],
      "execution_count": 0,
      "outputs": []
    },
    {
      "cell_type": "markdown",
      "metadata": {
        "id": "lrRu8FsMRKG5",
        "colab_type": "text"
      },
      "source": [
        "# The Convolutional Neural Network Model "
      ]
    },
    {
      "cell_type": "markdown",
      "metadata": {
        "id": "Mt3s4OyqRPhN",
        "colab_type": "text"
      },
      "source": [
        "## The skeleton of the network"
      ]
    },
    {
      "cell_type": "code",
      "metadata": {
        "id": "PClmolOlRPLs",
        "colab_type": "code",
        "colab": {}
      },
      "source": [
        "class Net(nn.Module):\n",
        "    def __init__(self):\n",
        "        super(Net, self).__init__()\n",
        "        self.conv01 = nn.Conv2d(3, 16, 3, bias=False, padding=1)        \n",
        "        self.batch01 = nn.BatchNorm2d(num_features=16)    \n",
        "\n",
        "        # ---- Lets take a skip connection\n",
        "        self.skip_conv1 = nn.Conv2d(16, 16, 3, padding=0, dilation=2)\n",
        "        \n",
        "        self.conv02 = nn.Conv2d(16, 16, 3, bias=False,padding=1)        \n",
        "        self.batch02 = nn.BatchNorm2d(num_features=16)    \n",
        "        self.conv03 = nn.Conv2d(16, 16, 3, bias=False,padding=1)       \n",
        "        self.batch03 = nn.BatchNorm2d(num_features=16)   \n",
        "        self.conv04 = nn.Conv2d(16, 16, 3, bias=False,padding=1)        \n",
        "        self.batch04 = nn.BatchNorm2d(num_features=16)   \n",
        "        self.pool01 = nn.MaxPool2d(2, 2)                                #O=16\n",
        "        self.conv05 = nn.Conv2d(16, 16, 1, bias=False)\n",
        "        \n",
        "        self.conv11 = nn.Conv2d(16, 32, 3, bias=False, padding=1)       \n",
        "        self.batch11 = nn.BatchNorm2d(num_features=32)\n",
        "        self.conv12 = nn.Conv2d(32, 32, 3, bias=False, padding=1)      \n",
        "        self.batch12 = nn.BatchNorm2d(num_features=32)\n",
        "        self.conv13 = nn.Conv2d(32, 32, 3, bias=False, padding=1)       \n",
        "        self.batch13 = nn.BatchNorm2d(num_features=32)\n",
        "        self.conv14 = nn.Conv2d(32, 32, 3, bias=False, padding=1)       \n",
        "        self.batch14 = nn.BatchNorm2d(num_features=32)\n",
        "        self.pool11 = nn.MaxPool2d(2, 2)                                #O=8\n",
        "        self.conv15 = nn.Conv2d(32, 32, 1, bias=False)\n",
        "\n",
        "        self.conv21 = nn.Conv2d(32, 64, 3, bias=False, padding=1)       \n",
        "        self.batch21 = nn.BatchNorm2d(num_features=64)\n",
        "        self.conv22 = nn.Conv2d(64, 64, 3, bias=False, padding=1)       \n",
        "        self.batch22 = nn.BatchNorm2d(num_features=64)\n",
        "        self.conv23 = nn.Conv2d(64, 64, 3, bias=False, padding=1)       \n",
        "        self.batch23 = nn.BatchNorm2d(num_features=64)\n",
        "        self.conv24 = nn.Conv2d(64, 64, 3, bias=False, padding=1)       \n",
        "        self.batch24 = nn.BatchNorm2d(num_features=64)\n",
        "        self.pool21 = nn.MaxPool2d(2, 2)                                #O=4\n",
        "        self.conv25 = nn.Conv2d(64, 64, 1, bias=False)\n",
        "\n",
        "        self.conv31 = nn.Conv2d(in_channels=64, out_channels=64, kernel_size=3, groups=64, bias = False, padding = 1)\n",
        "        self.convPV1= nn.Conv2d(in_channels=64, out_channels=128, kernel_size=1, bias = False, padding = 0)       \n",
        "        self.batch31 = nn.BatchNorm2d(num_features=128)\n",
        "        self.conv32 = nn.Conv2d(in_channels=128, out_channels=128, kernel_size=3, groups=128, bias = False, padding = 1)\n",
        "        self.convPV2= nn.Conv2d(in_channels=128, out_channels=256, kernel_size=1, bias = False, padding = 0)       \n",
        "        self.batch32 = nn.BatchNorm2d(num_features=256)\n",
        "\n",
        "       \n",
        "        self.avg_pool = nn.AvgPool2d(kernel_size=4)\n",
        "        self.convx3 = nn.Conv2d(256, 10, 1, bias=False, padding=0)\n",
        "\n",
        "    def forward(self, x):\n",
        "        x = self.batch01(F.relu(self.conv01(x)))\n",
        "\n",
        "        # ---- Lets take a skip connection\n",
        "        skip_channels = self.skip_conv1(self.skip_conv1(self.skip_conv1(self.skip_conv1(x))))\n",
        "\n",
        "        x = self.batch02(F.relu(self.conv02(x)))\n",
        "        x = self.batch03(F.relu(self.conv03(x)))\n",
        "        x = self.batch04(F.relu(self.conv04(x)))\n",
        "        x = self.pool01(x)\n",
        "        x = self.conv05(x)\n",
        "        # ----------------------------------------------------------\n",
        "        \n",
        "        # ---- Lets add the skip connection here\n",
        "        x = skip_channels + x\n",
        "\n",
        "        x = self.batch11(F.relu(self.conv11(x)))\n",
        "        x = self.batch12(F.relu(self.conv12(x)))\n",
        "        x = self.batch13(F.relu(self.conv13(x)))\n",
        "        x = self.batch14(F.relu(self.conv14(x)))\n",
        "        x = self.pool11(x)\n",
        "        x = self.conv15(x)\n",
        "        # ----------------------------------------------------------\n",
        "\n",
        "        x = self.batch21(F.relu(self.conv21(x)))\n",
        "        x = self.batch22(F.relu(self.conv22(x)))\n",
        "        x = self.batch23(F.relu(self.conv23(x)))\n",
        "        x = self.batch24(F.relu(self.conv24(x)))\n",
        "        x = self.pool21(x)\n",
        "        x = self.conv25(x)\n",
        "        # ----------------------------------------------------------\n",
        "\n",
        "        x = self.batch31(F.relu(self.convPV1(F.relu(self.conv31(x)))))\n",
        "        x = self.batch32(F.relu(self.convPV2(F.relu(self.conv32(x)))))\n",
        "\n",
        "\n",
        "        x = self.avg_pool(x)\n",
        "        x = self.convx3(x)\n",
        "        x = x.view(-1, 10)                           # Don't want 10x1x1..\n",
        "        return F.log_softmax(x)"
      ],
      "execution_count": 0,
      "outputs": []
    },
    {
      "cell_type": "markdown",
      "metadata": {
        "id": "cfdSrFwoUUDV",
        "colab_type": "text"
      },
      "source": [
        "## Display model summary"
      ]
    },
    {
      "cell_type": "code",
      "metadata": {
        "id": "EcVjA5kVUTwL",
        "colab_type": "code",
        "colab": {
          "base_uri": "https://localhost:8080/",
          "height": 986
        },
        "outputId": "95fb55d7-588b-4c11-f3e3-c52c74fa69fc"
      },
      "source": [
        "!pip install torchsummary\n",
        "from torchsummary import summary\n",
        "use_cuda = torch.cuda.is_available()\n",
        "device = torch.device(\"cuda\" if use_cuda else \"cpu\")\n",
        "model = Net().to(device)\n",
        "summary(model, input_size=(3, 32, 32))"
      ],
      "execution_count": 8,
      "outputs": [
        {
          "output_type": "stream",
          "text": [
            "Requirement already satisfied: torchsummary in /usr/local/lib/python3.6/dist-packages (1.5.1)\n",
            "----------------------------------------------------------------\n",
            "        Layer (type)               Output Shape         Param #\n",
            "================================================================\n",
            "            Conv2d-1           [-1, 16, 32, 32]             432\n",
            "       BatchNorm2d-2           [-1, 16, 32, 32]              32\n",
            "            Conv2d-3           [-1, 16, 28, 28]           2,320\n",
            "            Conv2d-4           [-1, 16, 24, 24]           2,320\n",
            "            Conv2d-5           [-1, 16, 20, 20]           2,320\n",
            "            Conv2d-6           [-1, 16, 16, 16]           2,320\n",
            "            Conv2d-7           [-1, 16, 32, 32]           2,304\n",
            "       BatchNorm2d-8           [-1, 16, 32, 32]              32\n",
            "            Conv2d-9           [-1, 16, 32, 32]           2,304\n",
            "      BatchNorm2d-10           [-1, 16, 32, 32]              32\n",
            "           Conv2d-11           [-1, 16, 32, 32]           2,304\n",
            "      BatchNorm2d-12           [-1, 16, 32, 32]              32\n",
            "        MaxPool2d-13           [-1, 16, 16, 16]               0\n",
            "           Conv2d-14           [-1, 16, 16, 16]             256\n",
            "           Conv2d-15           [-1, 32, 16, 16]           4,608\n",
            "      BatchNorm2d-16           [-1, 32, 16, 16]              64\n",
            "           Conv2d-17           [-1, 32, 16, 16]           9,216\n",
            "      BatchNorm2d-18           [-1, 32, 16, 16]              64\n",
            "           Conv2d-19           [-1, 32, 16, 16]           9,216\n",
            "      BatchNorm2d-20           [-1, 32, 16, 16]              64\n",
            "           Conv2d-21           [-1, 32, 16, 16]           9,216\n",
            "      BatchNorm2d-22           [-1, 32, 16, 16]              64\n",
            "        MaxPool2d-23             [-1, 32, 8, 8]               0\n",
            "           Conv2d-24             [-1, 32, 8, 8]           1,024\n",
            "           Conv2d-25             [-1, 64, 8, 8]          18,432\n",
            "      BatchNorm2d-26             [-1, 64, 8, 8]             128\n",
            "           Conv2d-27             [-1, 64, 8, 8]          36,864\n",
            "      BatchNorm2d-28             [-1, 64, 8, 8]             128\n",
            "           Conv2d-29             [-1, 64, 8, 8]          36,864\n",
            "      BatchNorm2d-30             [-1, 64, 8, 8]             128\n",
            "           Conv2d-31             [-1, 64, 8, 8]          36,864\n",
            "      BatchNorm2d-32             [-1, 64, 8, 8]             128\n",
            "        MaxPool2d-33             [-1, 64, 4, 4]               0\n",
            "           Conv2d-34             [-1, 64, 4, 4]           4,096\n",
            "           Conv2d-35             [-1, 64, 4, 4]             576\n",
            "           Conv2d-36            [-1, 128, 4, 4]           8,192\n",
            "      BatchNorm2d-37            [-1, 128, 4, 4]             256\n",
            "           Conv2d-38            [-1, 128, 4, 4]           1,152\n",
            "           Conv2d-39            [-1, 256, 4, 4]          32,768\n",
            "      BatchNorm2d-40            [-1, 256, 4, 4]             512\n",
            "        AvgPool2d-41            [-1, 256, 1, 1]               0\n",
            "           Conv2d-42             [-1, 10, 1, 1]           2,560\n",
            "================================================================\n",
            "Total params: 230,192\n",
            "Trainable params: 230,192\n",
            "Non-trainable params: 0\n",
            "----------------------------------------------------------------\n",
            "Input size (MB): 0.01\n",
            "Forward/backward pass size (MB): 2.22\n",
            "Params size (MB): 0.88\n",
            "Estimated Total Size (MB): 3.11\n",
            "----------------------------------------------------------------\n"
          ],
          "name": "stdout"
        },
        {
          "output_type": "stream",
          "text": [
            "/usr/local/lib/python3.6/dist-packages/ipykernel_launcher.py:91: UserWarning: Implicit dimension choice for log_softmax has been deprecated. Change the call to include dim=X as an argument.\n"
          ],
          "name": "stderr"
        }
      ]
    },
    {
      "cell_type": "markdown",
      "metadata": {
        "id": "Kvq1iX62UAIu",
        "colab_type": "text"
      },
      "source": [
        "# Training and Testing"
      ]
    },
    {
      "cell_type": "markdown",
      "metadata": {
        "id": "gXRh0WfnYeSX",
        "colab_type": "text"
      },
      "source": [
        "## Setup Train and Test functions"
      ]
    },
    {
      "cell_type": "code",
      "metadata": {
        "id": "LyjfdgQJQOT7",
        "colab_type": "code",
        "colab": {}
      },
      "source": [
        "from tqdm import tqdm\n",
        "\n",
        "train_losses = []\n",
        "test_losses = []\n",
        "train_acc = []\n",
        "test_acc = []\n",
        "\n",
        "def train(model, device, train_loader, optimizer, epoch):\n",
        "  model.train()\n",
        "  pbar = tqdm(train_loader)\n",
        "\n",
        "  correct = 0\n",
        "  processed = 0\n",
        "\n",
        "  for batch_idx, (data, target) in enumerate (pbar):\n",
        "    data, target = data.to(device), target.to(device)\n",
        "\n",
        "    #Don't want history of gradients \n",
        "    optimizer.zero_grad()\n",
        "\n",
        "    y_predict = model(data)\n",
        "\n",
        "    # Caluclate loss\n",
        "    loss = F.nll_loss(y_predict, target)\n",
        "    train_losses.append(loss)\n",
        "\n",
        "    # Back propogate error\n",
        "    loss.backward()\n",
        "\n",
        "    # Take a optimzer step\n",
        "    optimizer.step()\n",
        "\n",
        "    # Update pbar-tqdm\n",
        "    \n",
        "    pred = y_predict.argmax(dim=1, keepdim=True)  # get the index of the max log-probability\n",
        "    correct += pred.eq(target.view_as(pred)).sum().item()\n",
        "    processed += len(data)\n",
        "\n",
        "    pbar.set_description(desc= f'Loss={loss.item()} Batch_id={batch_idx} Accuracy={100*correct/processed:0.2f}')\n",
        "    train_acc.append(100*correct/processed)\n",
        "\n",
        "\n",
        "def test (model, device, test_loader):\n",
        "  model.eval()\n",
        "\n",
        "  test_loss = 0\n",
        "  correct = 0\n",
        "\n",
        "  with torch.no_grad():\n",
        "    for data, target in test_loader:\n",
        "      data, target = data.to(device), target.to(device)\n",
        "\n",
        "      output = model(data)\n",
        "\n",
        "      test_loss += F.nll_loss(output, target, reduction='sum').item()  # sum up batch loss\n",
        "      pred = output.argmax(dim=1, keepdim=True)  # get the index of the max log-probability\n",
        "      correct += pred.eq(target.view_as(pred)).sum().item()\n",
        "\n",
        "  test_loss /= len(test_loader.dataset)\n",
        "  test_losses.append(test_loss)\n",
        "\n",
        "  print('\\nTest set: Average loss: {:.4f}, Accuracy: {}/{} ({:.2f}%)\\n'.format(\n",
        "    test_loss, correct, len(test_loader.dataset),\n",
        "    100. * correct / len(test_loader.dataset)))\n",
        "    \n",
        "  test_acc.append(100. * correct / len(test_loader.dataset))"
      ],
      "execution_count": 0,
      "outputs": []
    },
    {
      "cell_type": "markdown",
      "metadata": {
        "id": "TIpGilUkYWi7",
        "colab_type": "text"
      },
      "source": [
        "## Setup Optimizers"
      ]
    },
    {
      "cell_type": "code",
      "metadata": {
        "id": "duZkba4ZYMek",
        "colab_type": "code",
        "colab": {}
      },
      "source": [
        "model =  Net().to(device)\n",
        "criteria = nn.CrossEntropyLoss()\n",
        "optimizer = optim.SGD(model.parameters(), lr = 0.01, momentum=0.9)"
      ],
      "execution_count": 0,
      "outputs": []
    },
    {
      "cell_type": "code",
      "metadata": {
        "id": "l9em1z2IU1Qz",
        "colab_type": "code",
        "colab": {
          "base_uri": "https://localhost:8080/",
          "height": 1000
        },
        "outputId": "ec5a8480-4b24-41aa-c016-71fca0110c38"
      },
      "source": [
        "EPOCHS = 20\n",
        "for epoch in range(EPOCHS):\n",
        "    print(\"EPOCH:\", epoch)\n",
        "    train(model, device, train_loader, optimizer, epoch)\n",
        "    # scheduler.step()\n",
        "    test(model, device, test_loader)"
      ],
      "execution_count": 11,
      "outputs": [
        {
          "output_type": "stream",
          "text": [
            "\r  0%|          | 0/98 [00:00<?, ?it/s]"
          ],
          "name": "stderr"
        },
        {
          "output_type": "stream",
          "text": [
            "EPOCH: 0\n"
          ],
          "name": "stdout"
        },
        {
          "output_type": "stream",
          "text": [
            "/usr/local/lib/python3.6/dist-packages/ipykernel_launcher.py:91: UserWarning: Implicit dimension choice for log_softmax has been deprecated. Change the call to include dim=X as an argument.\n",
            "Loss=1.4456359148025513 Batch_id=97 Accuracy=34.76: 100%|██████████| 98/98 [00:15<00:00,  6.47it/s]\n",
            "  0%|          | 0/98 [00:00<?, ?it/s]"
          ],
          "name": "stderr"
        },
        {
          "output_type": "stream",
          "text": [
            "\n",
            "Test set: Average loss: 1.4565, Accuracy: 4769/10000 (47.69%)\n",
            "\n",
            "EPOCH: 1\n"
          ],
          "name": "stdout"
        },
        {
          "output_type": "stream",
          "text": [
            "Loss=1.2803080081939697 Batch_id=97 Accuracy=53.81: 100%|██████████| 98/98 [00:14<00:00,  6.56it/s]\n",
            "  0%|          | 0/98 [00:00<?, ?it/s]"
          ],
          "name": "stderr"
        },
        {
          "output_type": "stream",
          "text": [
            "\n",
            "Test set: Average loss: 1.3106, Accuracy: 5371/10000 (53.71%)\n",
            "\n",
            "EPOCH: 2\n"
          ],
          "name": "stdout"
        },
        {
          "output_type": "stream",
          "text": [
            "Loss=1.0501935482025146 Batch_id=97 Accuracy=60.39: 100%|██████████| 98/98 [00:15<00:00,  6.49it/s]\n",
            "  0%|          | 0/98 [00:00<?, ?it/s]"
          ],
          "name": "stderr"
        },
        {
          "output_type": "stream",
          "text": [
            "\n",
            "Test set: Average loss: 1.0797, Accuracy: 6124/10000 (61.24%)\n",
            "\n",
            "EPOCH: 3\n"
          ],
          "name": "stdout"
        },
        {
          "output_type": "stream",
          "text": [
            "Loss=0.9879357218742371 Batch_id=97 Accuracy=65.37: 100%|██████████| 98/98 [00:14<00:00,  6.57it/s]\n",
            "  0%|          | 0/98 [00:00<?, ?it/s]"
          ],
          "name": "stderr"
        },
        {
          "output_type": "stream",
          "text": [
            "\n",
            "Test set: Average loss: 0.9524, Accuracy: 6607/10000 (66.07%)\n",
            "\n",
            "EPOCH: 4\n"
          ],
          "name": "stdout"
        },
        {
          "output_type": "stream",
          "text": [
            "Loss=0.8769888877868652 Batch_id=97 Accuracy=68.39: 100%|██████████| 98/98 [00:14<00:00,  6.57it/s]\n",
            "  0%|          | 0/98 [00:00<?, ?it/s]"
          ],
          "name": "stderr"
        },
        {
          "output_type": "stream",
          "text": [
            "\n",
            "Test set: Average loss: 0.8398, Accuracy: 7016/10000 (70.16%)\n",
            "\n",
            "EPOCH: 5\n"
          ],
          "name": "stdout"
        },
        {
          "output_type": "stream",
          "text": [
            "Loss=0.7898920178413391 Batch_id=97 Accuracy=71.28: 100%|██████████| 98/98 [00:14<00:00,  6.56it/s]\n",
            "  0%|          | 0/98 [00:00<?, ?it/s]"
          ],
          "name": "stderr"
        },
        {
          "output_type": "stream",
          "text": [
            "\n",
            "Test set: Average loss: 0.8383, Accuracy: 7077/10000 (70.77%)\n",
            "\n",
            "EPOCH: 6\n"
          ],
          "name": "stdout"
        },
        {
          "output_type": "stream",
          "text": [
            "Loss=0.8020628690719604 Batch_id=97 Accuracy=73.45: 100%|██████████| 98/98 [00:15<00:00,  6.45it/s]\n",
            "  0%|          | 0/98 [00:00<?, ?it/s]"
          ],
          "name": "stderr"
        },
        {
          "output_type": "stream",
          "text": [
            "\n",
            "Test set: Average loss: 0.7749, Accuracy: 7250/10000 (72.50%)\n",
            "\n",
            "EPOCH: 7\n"
          ],
          "name": "stdout"
        },
        {
          "output_type": "stream",
          "text": [
            "Loss=0.6259720921516418 Batch_id=97 Accuracy=75.65: 100%|██████████| 98/98 [00:14<00:00,  6.54it/s]\n",
            "  0%|          | 0/98 [00:00<?, ?it/s]"
          ],
          "name": "stderr"
        },
        {
          "output_type": "stream",
          "text": [
            "\n",
            "Test set: Average loss: 0.7958, Accuracy: 7262/10000 (72.62%)\n",
            "\n",
            "EPOCH: 8\n"
          ],
          "name": "stdout"
        },
        {
          "output_type": "stream",
          "text": [
            "Loss=0.765417754650116 Batch_id=97 Accuracy=76.71: 100%|██████████| 98/98 [00:15<00:00,  6.52it/s]\n",
            "  0%|          | 0/98 [00:00<?, ?it/s]"
          ],
          "name": "stderr"
        },
        {
          "output_type": "stream",
          "text": [
            "\n",
            "Test set: Average loss: 0.7529, Accuracy: 7417/10000 (74.17%)\n",
            "\n",
            "EPOCH: 9\n"
          ],
          "name": "stdout"
        },
        {
          "output_type": "stream",
          "text": [
            "Loss=0.5989164113998413 Batch_id=97 Accuracy=78.15: 100%|██████████| 98/98 [00:15<00:00,  6.52it/s]\n",
            "  0%|          | 0/98 [00:00<?, ?it/s]"
          ],
          "name": "stderr"
        },
        {
          "output_type": "stream",
          "text": [
            "\n",
            "Test set: Average loss: 0.6650, Accuracy: 7692/10000 (76.92%)\n",
            "\n",
            "EPOCH: 10\n"
          ],
          "name": "stdout"
        },
        {
          "output_type": "stream",
          "text": [
            "Loss=0.5218091011047363 Batch_id=97 Accuracy=79.37: 100%|██████████| 98/98 [00:14<00:00,  6.55it/s]\n",
            "  0%|          | 0/98 [00:00<?, ?it/s]"
          ],
          "name": "stderr"
        },
        {
          "output_type": "stream",
          "text": [
            "\n",
            "Test set: Average loss: 0.6736, Accuracy: 7721/10000 (77.21%)\n",
            "\n",
            "EPOCH: 11\n"
          ],
          "name": "stdout"
        },
        {
          "output_type": "stream",
          "text": [
            "Loss=0.5181688666343689 Batch_id=97 Accuracy=80.18: 100%|██████████| 98/98 [00:15<00:00,  6.42it/s]\n",
            "  0%|          | 0/98 [00:00<?, ?it/s]"
          ],
          "name": "stderr"
        },
        {
          "output_type": "stream",
          "text": [
            "\n",
            "Test set: Average loss: 0.6420, Accuracy: 7809/10000 (78.09%)\n",
            "\n",
            "EPOCH: 12\n"
          ],
          "name": "stdout"
        },
        {
          "output_type": "stream",
          "text": [
            "Loss=0.5622618198394775 Batch_id=97 Accuracy=81.18: 100%|██████████| 98/98 [00:14<00:00,  6.57it/s]\n",
            "  0%|          | 0/98 [00:00<?, ?it/s]"
          ],
          "name": "stderr"
        },
        {
          "output_type": "stream",
          "text": [
            "\n",
            "Test set: Average loss: 0.6910, Accuracy: 7688/10000 (76.88%)\n",
            "\n",
            "EPOCH: 13\n"
          ],
          "name": "stdout"
        },
        {
          "output_type": "stream",
          "text": [
            "Loss=0.49800315499305725 Batch_id=97 Accuracy=81.86: 100%|██████████| 98/98 [00:14<00:00,  6.56it/s]\n",
            "  0%|          | 0/98 [00:00<?, ?it/s]"
          ],
          "name": "stderr"
        },
        {
          "output_type": "stream",
          "text": [
            "\n",
            "Test set: Average loss: 0.6833, Accuracy: 7675/10000 (76.75%)\n",
            "\n",
            "EPOCH: 14\n"
          ],
          "name": "stdout"
        },
        {
          "output_type": "stream",
          "text": [
            "Loss=0.48436468839645386 Batch_id=97 Accuracy=82.69: 100%|██████████| 98/98 [00:14<00:00,  6.63it/s]\n",
            "  0%|          | 0/98 [00:00<?, ?it/s]"
          ],
          "name": "stderr"
        },
        {
          "output_type": "stream",
          "text": [
            "\n",
            "Test set: Average loss: 0.6293, Accuracy: 7881/10000 (78.81%)\n",
            "\n",
            "EPOCH: 15\n"
          ],
          "name": "stdout"
        },
        {
          "output_type": "stream",
          "text": [
            "Loss=0.49930667877197266 Batch_id=97 Accuracy=83.40: 100%|██████████| 98/98 [00:15<00:00,  6.52it/s]\n",
            "  0%|          | 0/98 [00:00<?, ?it/s]"
          ],
          "name": "stderr"
        },
        {
          "output_type": "stream",
          "text": [
            "\n",
            "Test set: Average loss: 0.6122, Accuracy: 7879/10000 (78.79%)\n",
            "\n",
            "EPOCH: 16\n"
          ],
          "name": "stdout"
        },
        {
          "output_type": "stream",
          "text": [
            "Loss=0.49454689025878906 Batch_id=97 Accuracy=84.03: 100%|██████████| 98/98 [00:14<00:00,  6.56it/s]\n",
            "  0%|          | 0/98 [00:00<?, ?it/s]"
          ],
          "name": "stderr"
        },
        {
          "output_type": "stream",
          "text": [
            "\n",
            "Test set: Average loss: 0.6779, Accuracy: 7768/10000 (77.68%)\n",
            "\n",
            "EPOCH: 17\n"
          ],
          "name": "stdout"
        },
        {
          "output_type": "stream",
          "text": [
            "Loss=0.5063462853431702 Batch_id=97 Accuracy=84.09: 100%|██████████| 98/98 [00:14<00:00,  6.54it/s]\n",
            "  0%|          | 0/98 [00:00<?, ?it/s]"
          ],
          "name": "stderr"
        },
        {
          "output_type": "stream",
          "text": [
            "\n",
            "Test set: Average loss: 0.6488, Accuracy: 7825/10000 (78.25%)\n",
            "\n",
            "EPOCH: 18\n"
          ],
          "name": "stdout"
        },
        {
          "output_type": "stream",
          "text": [
            "Loss=0.38421666622161865 Batch_id=97 Accuracy=84.77: 100%|██████████| 98/98 [00:15<00:00,  6.52it/s]\n",
            "  0%|          | 0/98 [00:00<?, ?it/s]"
          ],
          "name": "stderr"
        },
        {
          "output_type": "stream",
          "text": [
            "\n",
            "Test set: Average loss: 0.6236, Accuracy: 7903/10000 (79.03%)\n",
            "\n",
            "EPOCH: 19\n"
          ],
          "name": "stdout"
        },
        {
          "output_type": "stream",
          "text": [
            "Loss=0.41134268045425415 Batch_id=97 Accuracy=85.41: 100%|██████████| 98/98 [00:15<00:00,  6.50it/s]\n"
          ],
          "name": "stderr"
        },
        {
          "output_type": "stream",
          "text": [
            "\n",
            "Test set: Average loss: 0.6031, Accuracy: 8006/10000 (80.06%)\n",
            "\n"
          ],
          "name": "stdout"
        }
      ]
    },
    {
      "cell_type": "markdown",
      "metadata": {
        "id": "-nrWhQXamR48",
        "colab_type": "text"
      },
      "source": [
        "# Plots"
      ]
    },
    {
      "cell_type": "code",
      "metadata": {
        "id": "fRkt4U0bmTYh",
        "colab_type": "code",
        "colab": {
          "base_uri": "https://localhost:8080/",
          "height": 624
        },
        "outputId": "cd2fe7c1-145f-4d89-efb6-d9769d1fb1ae"
      },
      "source": [
        "fig, axs = plt.subplots(2,2,figsize=(15,10))\n",
        "axs[0, 0].plot(train_losses)\n",
        "axs[0, 0].set_title(\"Training Loss\")\n",
        "axs[1, 0].plot(train_acc)\n",
        "axs[1, 0].set_title(\"Training Accuracy\")\n",
        "axs[0, 1].plot(test_losses)\n",
        "axs[0, 1].set_title(\"Test Loss\")\n",
        "axs[1, 1].plot(test_acc)\n",
        "axs[1, 1].set_title(\"Test Accuracy\")"
      ],
      "execution_count": 12,
      "outputs": [
        {
          "output_type": "execute_result",
          "data": {
            "text/plain": [
              "Text(0.5, 1.0, 'Test Accuracy')"
            ]
          },
          "metadata": {
            "tags": []
          },
          "execution_count": 12
        },
        {
          "output_type": "display_data",
          "data": {
            "image/png": "[encoded data removed]",
            "text/plain": [
              "<Figure size 1080x720 with 4 Axes>"
            ]
          },
          "metadata": {
            "tags": []
          }
        }
      ]
    }
  ]
}