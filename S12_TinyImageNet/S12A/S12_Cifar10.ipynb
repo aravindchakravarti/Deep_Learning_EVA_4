{
  "nbformat": 4,
  "nbformat_minor": 0,
  "metadata": {
    "colab": {
      "name": "S12-Cifar10.ipynb",
      "provenance": [],
      "collapsed_sections": [],
      "toc_visible": true,
      "mount_file_id": "1TtoODih_tqVHXHmVfbdk_i5LdR3rtol2",
      "authorship_tag": "ABX9TyMzupXlNj6dGOlmKw0GtKjP",
      "include_colab_link": true
    },
    "kernelspec": {
      "name": "python3",
      "display_name": "Python 3"
    },
    "accelerator": "GPU",
    "widgets": {
      "application/vnd.jupyter.widget-state+json": {
        "a7847589c5c744249a6d763168e20c42": {
          "model_module": "@jupyter-widgets/controls",
          "model_name": "HBoxModel",
          "state": {
            "_view_name": "HBoxView",
            "_dom_classes": [],
            "_model_name": "HBoxModel",
            "_view_module": "@jupyter-widgets/controls",
            "_model_module_version": "1.5.0",
            "_view_count": null,
            "_view_module_version": "1.5.0",
            "box_style": "",
            "layout": "IPY_MODEL_41928be645a84fbebeb0a544ad3aebae",
            "_model_module": "@jupyter-widgets/controls",
            "children": [
              "IPY_MODEL_ac8f0a46906e42bca45dc89eec75dbbf",
              "IPY_MODEL_1a56b4bdac924e8d8f1ced79f7b0bd28"
            ]
          }
        },
        "41928be645a84fbebeb0a544ad3aebae": {
          "model_module": "@jupyter-widgets/base",
          "model_name": "LayoutModel",
          "state": {
            "_view_name": "LayoutView",
            "grid_template_rows": null,
            "right": null,
            "justify_content": null,
            "_view_module": "@jupyter-widgets/base",
            "overflow": null,
            "_model_module_version": "1.2.0",
            "_view_count": null,
            "flex_flow": null,
            "width": null,
            "min_width": null,
            "border": null,
            "align_items": null,
            "bottom": null,
            "_model_module": "@jupyter-widgets/base",
            "top": null,
            "grid_column": null,
            "overflow_y": null,
            "overflow_x": null,
            "grid_auto_flow": null,
            "grid_area": null,
            "grid_template_columns": null,
            "flex": null,
            "_model_name": "LayoutModel",
            "justify_items": null,
            "grid_row": null,
            "max_height": null,
            "align_content": null,
            "visibility": null,
            "align_self": null,
            "height": null,
            "min_height": null,
            "padding": null,
            "grid_auto_rows": null,
            "grid_gap": null,
            "max_width": null,
            "order": null,
            "_view_module_version": "1.2.0",
            "grid_template_areas": null,
            "object_position": null,
            "object_fit": null,
            "grid_auto_columns": null,
            "margin": null,
            "display": null,
            "left": null
          }
        },
        "ac8f0a46906e42bca45dc89eec75dbbf": {
          "model_module": "@jupyter-widgets/controls",
          "model_name": "IntProgressModel",
          "state": {
            "_view_name": "ProgressView",
            "style": "IPY_MODEL_91dcb67faddf4599b2c5be32063e87e1",
            "_dom_classes": [],
            "description": "100%",
            "_model_name": "IntProgressModel",
            "bar_style": "success",
            "max": 500,
            "_view_module": "@jupyter-widgets/controls",
            "_model_module_version": "1.5.0",
            "value": 500,
            "_view_count": null,
            "_view_module_version": "1.5.0",
            "orientation": "horizontal",
            "min": 0,
            "description_tooltip": null,
            "_model_module": "@jupyter-widgets/controls",
            "layout": "IPY_MODEL_8a9b2358a8d64f309c5507b1b729ea12"
          }
        },
        "1a56b4bdac924e8d8f1ced79f7b0bd28": {
          "model_module": "@jupyter-widgets/controls",
          "model_name": "HTMLModel",
          "state": {
            "_view_name": "HTMLView",
            "style": "IPY_MODEL_aaa182258fa54b92a3533e3ee9d6350a",
            "_dom_classes": [],
            "description": "",
            "_model_name": "HTMLModel",
            "placeholder": "​",
            "_view_module": "@jupyter-widgets/controls",
            "_model_module_version": "1.5.0",
            "value": " 500/500 [16:44&lt;00:00,  2.01s/it]",
            "_view_count": null,
            "_view_module_version": "1.5.0",
            "description_tooltip": null,
            "_model_module": "@jupyter-widgets/controls",
            "layout": "IPY_MODEL_fb23a28154ab464dbd001542ff158368"
          }
        },
        "91dcb67faddf4599b2c5be32063e87e1": {
          "model_module": "@jupyter-widgets/controls",
          "model_name": "ProgressStyleModel",
          "state": {
            "_view_name": "StyleView",
            "_model_name": "ProgressStyleModel",
            "description_width": "initial",
            "_view_module": "@jupyter-widgets/base",
            "_model_module_version": "1.5.0",
            "_view_count": null,
            "_view_module_version": "1.2.0",
            "bar_color": null,
            "_model_module": "@jupyter-widgets/controls"
          }
        },
        "8a9b2358a8d64f309c5507b1b729ea12": {
          "model_module": "@jupyter-widgets/base",
          "model_name": "LayoutModel",
          "state": {
            "_view_name": "LayoutView",
            "grid_template_rows": null,
            "right": null,
            "justify_content": null,
            "_view_module": "@jupyter-widgets/base",
            "overflow": null,
            "_model_module_version": "1.2.0",
            "_view_count": null,
            "flex_flow": null,
            "width": null,
            "min_width": null,
            "border": null,
            "align_items": null,
            "bottom": null,
            "_model_module": "@jupyter-widgets/base",
            "top": null,
            "grid_column": null,
            "overflow_y": null,
            "overflow_x": null,
            "grid_auto_flow": null,
            "grid_area": null,
            "grid_template_columns": null,
            "flex": null,
            "_model_name": "LayoutModel",
            "justify_items": null,
            "grid_row": null,
            "max_height": null,
            "align_content": null,
            "visibility": null,
            "align_self": null,
            "height": null,
            "min_height": null,
            "padding": null,
            "grid_auto_rows": null,
            "grid_gap": null,
            "max_width": null,
            "order": null,
            "_view_module_version": "1.2.0",
            "grid_template_areas": null,
            "object_position": null,
            "object_fit": null,
            "grid_auto_columns": null,
            "margin": null,
            "display": null,
            "left": null
          }
        },
        "aaa182258fa54b92a3533e3ee9d6350a": {
          "model_module": "@jupyter-widgets/controls",
          "model_name": "DescriptionStyleModel",
          "state": {
            "_view_name": "StyleView",
            "_model_name": "DescriptionStyleModel",
            "description_width": "",
            "_view_module": "@jupyter-widgets/base",
            "_model_module_version": "1.5.0",
            "_view_count": null,
            "_view_module_version": "1.2.0",
            "_model_module": "@jupyter-widgets/controls"
          }
        },
        "fb23a28154ab464dbd001542ff158368": {
          "model_module": "@jupyter-widgets/base",
          "model_name": "LayoutModel",
          "state": {
            "_view_name": "LayoutView",
            "grid_template_rows": null,
            "right": null,
            "justify_content": null,
            "_view_module": "@jupyter-widgets/base",
            "overflow": null,
            "_model_module_version": "1.2.0",
            "_view_count": null,
            "flex_flow": null,
            "width": null,
            "min_width": null,
            "border": null,
            "align_items": null,
            "bottom": null,
            "_model_module": "@jupyter-widgets/base",
            "top": null,
            "grid_column": null,
            "overflow_y": null,
            "overflow_x": null,
            "grid_auto_flow": null,
            "grid_area": null,
            "grid_template_columns": null,
            "flex": null,
            "_model_name": "LayoutModel",
            "justify_items": null,
            "grid_row": null,
            "max_height": null,
            "align_content": null,
            "visibility": null,
            "align_self": null,
            "height": null,
            "min_height": null,
            "padding": null,
            "grid_auto_rows": null,
            "grid_gap": null,
            "max_width": null,
            "order": null,
            "_view_module_version": "1.2.0",
            "grid_template_areas": null,
            "object_position": null,
            "object_fit": null,
            "grid_auto_columns": null,
            "margin": null,
            "display": null,
            "left": null
          }
        }
      }
    }
  },
  "cells": [
    {
      "cell_type": "markdown",
      "metadata": {
        "id": "view-in-github",
        "colab_type": "text"
      },
      "source": [
        "<a href=\"https://colab.research.google.com/github/aravindchakravarti/Deep_Learning_EVA_4/blob/master/S12_TinyImageNet/S12A/S12_Cifar10.ipynb\" target=\"_parent\"><img src=\"https://colab.research.google.com/assets/colab-badge.svg\" alt=\"Open In Colab\"/></a>"
      ]
    },
    {
      "cell_type": "markdown",
      "metadata": {
        "id": "V3oen2MNYZvp",
        "colab_type": "text"
      },
      "source": [
        "# Setting Up Google Drive and Libraries"
      ]
    },
    {
      "cell_type": "code",
      "metadata": {
        "id": "UMdMnXt2676N",
        "colab_type": "code",
        "outputId": "cbc1081e-4cad-4adb-9f60-d6024bd66749",
        "colab": {
          "base_uri": "https://localhost:8080/",
          "height": 122
        }
      },
      "source": [
        "from google.colab import drive\n",
        "drive.mount('/content/gdrive')"
      ],
      "execution_count": 1,
      "outputs": [
        {
          "output_type": "stream",
          "text": [
            "Go to this URL in a browser: https://accounts.google.com/o/oauth2/auth?client_id=947318989803-6bn6qk8qdgf4n4g3pfee6491hc0brc4i.apps.googleusercontent.com&redirect_uri=urn%3aietf%3awg%3aoauth%3a2.0%3aoob&response_type=code&scope=email%20https%3a%2f%2fwww.googleapis.com%2fauth%2fdocs.test%20https%3a%2f%2fwww.googleapis.com%2fauth%2fdrive%20https%3a%2f%2fwww.googleapis.com%2fauth%2fdrive.photos.readonly%20https%3a%2f%2fwww.googleapis.com%2fauth%2fpeopleapi.readonly\n",
            "\n",
            "Enter your authorization code:\n",
            "··········\n",
            "Mounted at /content/gdrive\n"
          ],
          "name": "stdout"
        }
      ]
    },
    {
      "cell_type": "code",
      "metadata": {
        "id": "dlBtEs5m9VGg",
        "colab_type": "code",
        "colab": {}
      },
      "source": [
        "# to autoreload all the custom files when modified\n",
        "import autoreload\n",
        "%load_ext autoreload\n",
        "%autoreload 2"
      ],
      "execution_count": 0,
      "outputs": []
    },
    {
      "cell_type": "code",
      "metadata": {
        "id": "aLKc5lKqdm-J",
        "colab_type": "code",
        "colab": {}
      },
      "source": [
        "# All the supporting python files are saved in GDrive\n",
        "import sys\n",
        "sys.path.append('./gdrive/My Drive/EVA_Library/')"
      ],
      "execution_count": 0,
      "outputs": []
    },
    {
      "cell_type": "code",
      "metadata": {
        "id": "r2R3T8a-5F5D",
        "colab_type": "code",
        "outputId": "f9ff1805-3923-4f03-f33d-2dec36c3f94f",
        "colab": {
          "base_uri": "https://localhost:8080/",
          "height": 51
        }
      },
      "source": [
        "!pip install --no-cache-dir git+https://github.com/albu/albumentations > /dev/null && echo \"Albumentation library is successfully installed!\""
      ],
      "execution_count": 4,
      "outputs": [
        {
          "output_type": "stream",
          "text": [
            "  Running command git clone -q https://github.com/albu/albumentations /tmp/pip-req-build-i11cjtm4\n",
            "Albumentation library is successfully installed!\n"
          ],
          "name": "stdout"
        }
      ]
    },
    {
      "cell_type": "code",
      "metadata": {
        "id": "UYwMvP9p-3vi",
        "colab_type": "code",
        "outputId": "1279b7c6-6cde-43ea-ecd2-ebc22be2212e",
        "colab": {
          "base_uri": "https://localhost:8080/",
          "height": 88
        }
      },
      "source": [
        "from pyTorchChitra.datasets.dataset_loader import getCifar10Data, tiny_imagenet_with_albumentations\n",
        "from pyTorchChitra.cnnModels.resnet18 import ResNet18\n",
        "from pyTorchChitra.cnnModels.model_summary import displayModelSummary\n",
        "from pyTorchChitra.modelTraining.modelTraining import setup_ROP_Optimizer, runTheModel, modelTrainTestHistory\n",
        "from pyTorchChitra.modelTraining.modelTraining import setup_OCLR_Optimizer\n",
        "from pyTorchChitra.utils.utils import isCudaAvailable\n",
        "from pyTorchChitra.modelTraining.lrFinder import LRFinder\n",
        "from pyTorchChitra.gradCAM.visual import GradCAMView, plot_gradcam\n",
        "from pyTorchChitra.utils.misClassfiedImages import misClassfied, displayMisClassfiedImages\n",
        "from pyTorchChitra.datasets.displayImages import displayDataSetSampleImages\n",
        "!pip install torchsummary\n",
        "#!pip install -U git+https://github.com/albu/albumentations\n"
      ],
      "execution_count": 5,
      "outputs": [
        {
          "output_type": "stream",
          "text": [
            "WARNING:pyTorchChitra.modelTraining.lrFinder:To enable mixed precision training, please install `apex`. Or you can re-install this package by the following command:\n",
            "  pip install torch-lr-finder -v --global-option=\"amp\"\n"
          ],
          "name": "stderr"
        },
        {
          "output_type": "stream",
          "text": [
            "Requirement already satisfied: torchsummary in /usr/local/lib/python3.6/dist-packages (1.5.1)\n"
          ],
          "name": "stdout"
        }
      ]
    },
    {
      "cell_type": "markdown",
      "metadata": {
        "id": "xe8RMKJAYiyV",
        "colab_type": "text"
      },
      "source": [
        "# Set the Arguments for project and Setup Train/Test Dataset "
      ]
    },
    {
      "cell_type": "code",
      "metadata": {
        "id": "cSPWPW14XW-_",
        "colab_type": "code",
        "colab": {}
      },
      "source": [
        "# Arguments for the functions\n",
        "class Args:\n",
        "    # ---- Data Loader Arguments -----\n",
        "    train_batch_size = 512\n",
        "    test_batch_size = 512\n",
        "    num_workers = 4\n",
        "    dataset_mean = [0.4802, 0.4481, 0.3975]\n",
        "    dataset_std = [0.2302, 0.2265, 0.2262]\n",
        "    classes = []\n",
        "\n",
        "class modelExtraSettings:\n",
        "    '''Additional setting which are useful when debugging model '''\n",
        "    RunLRFinder = False\n",
        "    display_summary = True  "
      ],
      "execution_count": 0,
      "outputs": []
    },
    {
      "cell_type": "markdown",
      "metadata": {
        "id": "fE_Z0v1KctGy",
        "colab_type": "text"
      },
      "source": [
        ""
      ]
    },
    {
      "cell_type": "code",
      "metadata": {
        "id": "T5UHvmCFCxrf",
        "colab_type": "code",
        "outputId": "71d4f9e7-3391-4f07-ac65-4de57c6cdde9",
        "colab": {
          "base_uri": "https://localhost:8080/",
          "height": 85
        }
      },
      "source": [
        "# Get the Cifar-10 dataset and apply Ablumentation image augmentation techniques\n",
        "train_loader, test_loader = tiny_imagenet_with_albumentations(\n",
        "                            batch_size = Args.train_batch_size, \n",
        "                            number_of_workers = Args.num_workers,\n",
        "                            prob_transform = Args.num_workers  \n",
        "                            )"
      ],
      "execution_count": 7,
      "outputs": [
        {
          "output_type": "stream",
          "text": [
            "Now downloading and allocating dataset\n",
            "Cuda Available? cuda\n",
            "Downloading http://cs231n.stanford.edu/tiny-imagenet-200.zip\n",
            "Now allocating Dataloaders\n"
          ],
          "name": "stdout"
        }
      ]
    },
    {
      "cell_type": "code",
      "metadata": {
        "id": "w-4PtcUpyPKZ",
        "colab_type": "code",
        "colab": {}
      },
      "source": [
        "for batch_idx, (data, target) in enumerate (test_loader):\n",
        "    print (target)\n",
        "    break"
      ],
      "execution_count": 0,
      "outputs": []
    },
    {
      "cell_type": "code",
      "metadata": {
        "id": "yrFWvtdeUUym",
        "colab_type": "code",
        "outputId": "f2e875cb-035b-4300-a933-1aceaaa86d75",
        "colab": {
          "base_uri": "https://localhost:8080/",
          "height": 51
        }
      },
      "source": [
        "# Display the sample images. Images will be saved in current directory\n",
        "\n",
        "displayDataSetSampleImages(train_loader, Args.classes,\n",
        "                           Args.dataset_mean, Args.dataset_std, \n",
        "                           num_of_images = 20)"
      ],
      "execution_count": 0,
      "outputs": [
        {
          "output_type": "stream",
          "text": [
            "torch.Size([512, 32, 32, 3])\n"
          ],
          "name": "stdout"
        },
        {
          "output_type": "display_data",
          "data": {
            "text/plain": [
              "<Figure size 720x720 with 0 Axes>"
            ]
          },
          "metadata": {
            "tags": []
          }
        }
      ]
    },
    {
      "cell_type": "markdown",
      "metadata": {
        "id": "3Qn2Ta2KYxQa",
        "colab_type": "text"
      },
      "source": [
        "# Train the Model"
      ]
    },
    {
      "cell_type": "code",
      "metadata": {
        "id": "Lr1BUJNX_HXF",
        "colab_type": "code",
        "outputId": "13beff68-4d9f-416b-9f0f-145e818bdd22",
        "colab": {
          "base_uri": "https://localhost:8080/",
          "height": 34
        }
      },
      "source": [
        "device = isCudaAvailable()\n",
        "print (device)"
      ],
      "execution_count": 8,
      "outputs": [
        {
          "output_type": "stream",
          "text": [
            "cuda\n"
          ],
          "name": "stdout"
        }
      ]
    },
    {
      "cell_type": "code",
      "metadata": {
        "id": "sst-WMMp-WIF",
        "colab_type": "code",
        "colab": {}
      },
      "source": [
        "#from pyTorchChitra.cnnModels.vanillaCNN import plainArch"
      ],
      "execution_count": 0,
      "outputs": []
    },
    {
      "cell_type": "code",
      "metadata": {
        "id": "Pnq64AwmIJqe",
        "colab_type": "code",
        "outputId": "1c4b2e7d-dd1d-4ec8-c4c3-f3d183ea65cc",
        "colab": {
          "base_uri": "https://localhost:8080/",
          "height": 1000
        }
      },
      "source": [
        "model = ResNet18().to(device)\n",
        "if modelExtraSettings.display_summary == True:\n",
        "    displayModelSummary(model)"
      ],
      "execution_count": 9,
      "outputs": [
        {
          "output_type": "stream",
          "text": [
            "----------------------------------------------------------------\n",
            "        Layer (type)               Output Shape         Param #\n",
            "================================================================\n",
            "            Conv2d-1           [-1, 64, 32, 32]           1,728\n",
            "       BatchNorm2d-2           [-1, 64, 32, 32]             128\n",
            "            Conv2d-3           [-1, 64, 32, 32]          36,864\n",
            "       BatchNorm2d-4           [-1, 64, 32, 32]             128\n",
            "            Conv2d-5           [-1, 64, 32, 32]          36,864\n",
            "       BatchNorm2d-6           [-1, 64, 32, 32]             128\n",
            "        BasicBlock-7           [-1, 64, 32, 32]               0\n",
            "            Conv2d-8           [-1, 64, 32, 32]          36,864\n",
            "       BatchNorm2d-9           [-1, 64, 32, 32]             128\n",
            "           Conv2d-10           [-1, 64, 32, 32]          36,864\n",
            "      BatchNorm2d-11           [-1, 64, 32, 32]             128\n",
            "       BasicBlock-12           [-1, 64, 32, 32]               0\n",
            "           Conv2d-13          [-1, 128, 16, 16]          73,728\n",
            "      BatchNorm2d-14          [-1, 128, 16, 16]             256\n",
            "           Conv2d-15          [-1, 128, 16, 16]         147,456\n",
            "      BatchNorm2d-16          [-1, 128, 16, 16]             256\n",
            "           Conv2d-17          [-1, 128, 16, 16]           8,192\n",
            "      BatchNorm2d-18          [-1, 128, 16, 16]             256\n",
            "       BasicBlock-19          [-1, 128, 16, 16]               0\n",
            "           Conv2d-20          [-1, 128, 16, 16]         147,456\n",
            "      BatchNorm2d-21          [-1, 128, 16, 16]             256\n",
            "           Conv2d-22          [-1, 128, 16, 16]         147,456\n",
            "      BatchNorm2d-23          [-1, 128, 16, 16]             256\n",
            "       BasicBlock-24          [-1, 128, 16, 16]               0\n",
            "           Conv2d-25            [-1, 256, 8, 8]         294,912\n",
            "      BatchNorm2d-26            [-1, 256, 8, 8]             512\n",
            "           Conv2d-27            [-1, 256, 8, 8]         589,824\n",
            "      BatchNorm2d-28            [-1, 256, 8, 8]             512\n",
            "           Conv2d-29            [-1, 256, 8, 8]          32,768\n",
            "      BatchNorm2d-30            [-1, 256, 8, 8]             512\n",
            "       BasicBlock-31            [-1, 256, 8, 8]               0\n",
            "           Conv2d-32            [-1, 256, 8, 8]         589,824\n",
            "      BatchNorm2d-33            [-1, 256, 8, 8]             512\n",
            "           Conv2d-34            [-1, 256, 8, 8]         589,824\n",
            "      BatchNorm2d-35            [-1, 256, 8, 8]             512\n",
            "       BasicBlock-36            [-1, 256, 8, 8]               0\n",
            "           Conv2d-37            [-1, 512, 4, 4]       1,179,648\n",
            "      BatchNorm2d-38            [-1, 512, 4, 4]           1,024\n",
            "           Conv2d-39            [-1, 512, 4, 4]       2,359,296\n",
            "      BatchNorm2d-40            [-1, 512, 4, 4]           1,024\n",
            "           Conv2d-41            [-1, 512, 4, 4]         131,072\n",
            "      BatchNorm2d-42            [-1, 512, 4, 4]           1,024\n",
            "       BasicBlock-43            [-1, 512, 4, 4]               0\n",
            "           Conv2d-44            [-1, 512, 4, 4]       2,359,296\n",
            "      BatchNorm2d-45            [-1, 512, 4, 4]           1,024\n",
            "           Conv2d-46            [-1, 512, 4, 4]       2,359,296\n",
            "      BatchNorm2d-47            [-1, 512, 4, 4]           1,024\n",
            "       BasicBlock-48            [-1, 512, 4, 4]               0\n",
            "           Linear-49                  [-1, 200]         102,600\n",
            "================================================================\n",
            "Total params: 11,271,432\n",
            "Trainable params: 11,271,432\n",
            "Non-trainable params: 0\n",
            "----------------------------------------------------------------\n",
            "Input size (MB): 0.01\n",
            "Forward/backward pass size (MB): 11.25\n",
            "Params size (MB): 43.00\n",
            "Estimated Total Size (MB): 54.26\n",
            "----------------------------------------------------------------\n"
          ],
          "name": "stdout"
        },
        {
          "output_type": "stream",
          "text": [
            "./gdrive/My Drive/EVA_Library/pyTorchChitra/cnnModels/resnet18.py:89: UserWarning: Implicit dimension choice for log_softmax has been deprecated. Change the call to include dim=X as an argument.\n",
            "  return F.log_softmax(out)\n"
          ],
          "name": "stderr"
        }
      ]
    },
    {
      "cell_type": "code",
      "metadata": {
        "id": "rirHFeJ5HzJ2",
        "colab_type": "code",
        "outputId": "7cfc7504-5127-4a57-8fba-d1ca277eeb02",
        "colab": {
          "base_uri": "https://localhost:8080/",
          "height": 137,
          "referenced_widgets": [
            "a7847589c5c744249a6d763168e20c42",
            "41928be645a84fbebeb0a544ad3aebae",
            "ac8f0a46906e42bca45dc89eec75dbbf",
            "1a56b4bdac924e8d8f1ced79f7b0bd28",
            "91dcb67faddf4599b2c5be32063e87e1",
            "8a9b2358a8d64f309c5507b1b729ea12",
            "aaa182258fa54b92a3533e3ee9d6350a",
            "fb23a28154ab464dbd001542ff158368"
          ]
        }
      },
      "source": [
        "import torch.nn as nn\n",
        "from torch.optim import SGD, Adam\n",
        "\n",
        "if modelExtraSettings.RunLRFinder == True:\n",
        "    criterion = nn.NLLLoss()\n",
        "    optimizer = SGD(model.parameters(), lr=0.001)\n",
        "    lr_finder = LRFinder(model, optimizer, criterion, device=\"cuda\")\n",
        "    lr_finder.range_test(train_loader, end_lr=1, num_iter=500, step_mode=\"exp\")\n"
      ],
      "execution_count": 0,
      "outputs": [
        {
          "output_type": "display_data",
          "data": {
            "application/vnd.jupyter.widget-view+json": {
              "model_id": "a7847589c5c744249a6d763168e20c42",
              "version_minor": 0,
              "version_major": 2
            },
            "text/plain": [
              "HBox(children=(IntProgress(value=0, max=500), HTML(value='')))"
            ]
          },
          "metadata": {
            "tags": []
          }
        },
        {
          "output_type": "stream",
          "text": [
            "./gdrive/My Drive/EVA_Library/pyTorchChitra/cnnModels/resnet18.py:89: UserWarning: Implicit dimension choice for log_softmax has been deprecated. Change the call to include dim=X as an argument.\n",
            "  return F.log_softmax(out)\n"
          ],
          "name": "stderr"
        },
        {
          "output_type": "stream",
          "text": [
            "\n",
            "Learning rate search finished. See the graph with {finder_name}.plot()\n"
          ],
          "name": "stdout"
        }
      ]
    },
    {
      "cell_type": "code",
      "metadata": {
        "id": "7liK1GGGRMpy",
        "colab_type": "code",
        "outputId": "43db6d3e-2878-4322-ed05-7ab82be9c676",
        "colab": {
          "base_uri": "https://localhost:8080/",
          "height": 300
        }
      },
      "source": [
        "if modelExtraSettings.RunLRFinder == True:\n",
        "    lr = lr_finder.history['lr'][lr_finder.history['loss'].index(lr_finder.best_loss)]\n",
        "    print (lr)\n",
        "    lr_finder.plot()"
      ],
      "execution_count": 0,
      "outputs": [
        {
          "output_type": "stream",
          "text": [
            "1.0139113857366795\n"
          ],
          "name": "stdout"
        },
        {
          "output_type": "display_data",
          "data": {
            "image/png": "[encoded data removed]",
            "text/plain": [
              "<Figure size 432x288 with 1 Axes>"
            ]
          },
          "metadata": {
            "tags": [],
            "needs_background": "light"
          }
        }
      ]
    },
    {
      "cell_type": "code",
      "metadata": {
        "id": "K4BHkaBvIH48",
        "colab_type": "code",
        "colab": {}
      },
      "source": [
        "optimizer, scheduler = setup_OCLR_Optimizer(model, device, total_steps = 5880, \n",
        "                                            num_raise = 0.3, div_factor = 10, max_lr = 0.01)"
      ],
      "execution_count": 0,
      "outputs": []
    },
    {
      "cell_type": "code",
      "metadata": {
        "id": "mDQyqjqG0wDX",
        "colab_type": "code",
        "outputId": "2b9aab72-b6db-4f17-a3a5-a3563d3f2c8f",
        "colab": {
          "base_uri": "https://localhost:8080/",
          "height": 34
        }
      },
      "source": [
        "for param_group in optimizer.param_groups:\n",
        "    print(param_group['lr'])"
      ],
      "execution_count": 13,
      "outputs": [
        {
          "output_type": "stream",
          "text": [
            "0.001\n"
          ],
          "name": "stdout"
        }
      ]
    },
    {
      "cell_type": "code",
      "metadata": {
        "id": "gbGVR7q0IKKP",
        "colab_type": "code",
        "outputId": "bd077a7d-010a-4cb5-ffc2-70d720fb61a0",
        "colab": {
          "base_uri": "https://localhost:8080/",
          "height": 1000
        }
      },
      "source": [
        "train_losses, train_acc, test_losses, test_acc = runTheModel(model=model, \n",
        "                                                            device=device, \n",
        "                                                            optimizer=optimizer, \n",
        "                                                            train_loader=train_loader, \n",
        "                                                            test_loader=test_loader, \n",
        "                                                            scheduler=scheduler,\n",
        "                                                            epochs = 40, \n",
        "                                                            isOCLR = True,\n",
        "                                                            )\n"
      ],
      "execution_count": 14,
      "outputs": [
        {
          "output_type": "stream",
          "text": [
            "\r  0%|          | 0/196 [00:00<?, ?it/s]"
          ],
          "name": "stderr"
        },
        {
          "output_type": "stream",
          "text": [
            "EPOCH: 0\n"
          ],
          "name": "stdout"
        },
        {
          "output_type": "stream",
          "text": [
            "./gdrive/My Drive/EVA_Library/pyTorchChitra/cnnModels/resnet18.py:89: UserWarning: Implicit dimension choice for log_softmax has been deprecated. Change the call to include dim=X as an argument.\n",
            "  return F.log_softmax(out)\n",
            "Loss=4.844517707824707 Batch_id=195 Accuracy=2.96: 100%|██████████| 196/196 [06:21<00:00,  1.94s/it]\n",
            "  0%|          | 0/196 [00:00<?, ?it/s]"
          ],
          "name": "stderr"
        },
        {
          "output_type": "stream",
          "text": [
            "Test set: Average loss: 4.7989, Accuracy: 254/5000 (5.08%)\n",
            "Validation loss to Schedular = 4.798869799804687\n",
            "\n",
            "EPOCH: 1\n"
          ],
          "name": "stdout"
        },
        {
          "output_type": "stream",
          "text": [
            "Loss=4.391465663909912 Batch_id=195 Accuracy=6.85: 100%|██████████| 196/196 [06:21<00:00,  1.95s/it]\n",
            "  0%|          | 0/196 [00:00<?, ?it/s]"
          ],
          "name": "stderr"
        },
        {
          "output_type": "stream",
          "text": [
            "Test set: Average loss: 4.4670, Accuracy: 411/5000 (8.22%)\n",
            "Validation loss to Schedular = 4.466952685546875\n",
            "\n",
            "EPOCH: 2\n"
          ],
          "name": "stdout"
        },
        {
          "output_type": "stream",
          "text": [
            "Loss=4.199827194213867 Batch_id=195 Accuracy=10.38: 100%|██████████| 196/196 [06:21<00:00,  1.95s/it]\n",
            "  0%|          | 0/196 [00:00<?, ?it/s]"
          ],
          "name": "stderr"
        },
        {
          "output_type": "stream",
          "text": [
            "Test set: Average loss: 4.2645, Accuracy: 549/5000 (10.98%)\n",
            "Validation loss to Schedular = 4.264459106445313\n",
            "\n",
            "EPOCH: 3\n"
          ],
          "name": "stdout"
        },
        {
          "output_type": "stream",
          "text": [
            "Loss=3.95682954788208 Batch_id=195 Accuracy=13.09: 100%|██████████| 196/196 [06:21<00:00,  1.95s/it]\n",
            "  0%|          | 0/196 [00:00<?, ?it/s]"
          ],
          "name": "stderr"
        },
        {
          "output_type": "stream",
          "text": [
            "Test set: Average loss: 4.1447, Accuracy: 624/5000 (12.48%)\n",
            "Validation loss to Schedular = 4.1446908203125\n",
            "\n",
            "EPOCH: 4\n"
          ],
          "name": "stdout"
        },
        {
          "output_type": "stream",
          "text": [
            "Loss=3.900290012359619 Batch_id=195 Accuracy=15.39: 100%|██████████| 196/196 [06:23<00:00,  1.96s/it]\n",
            "  0%|          | 0/196 [00:00<?, ?it/s]"
          ],
          "name": "stderr"
        },
        {
          "output_type": "stream",
          "text": [
            "Test set: Average loss: 4.0630, Accuracy: 698/5000 (13.96%)\n",
            "Validation loss to Schedular = 4.063024975585938\n",
            "\n",
            "EPOCH: 5\n"
          ],
          "name": "stdout"
        },
        {
          "output_type": "stream",
          "text": [
            "Loss=3.6133015155792236 Batch_id=195 Accuracy=17.11: 100%|██████████| 196/196 [06:23<00:00,  1.96s/it]\n",
            "  0%|          | 0/196 [00:00<?, ?it/s]"
          ],
          "name": "stderr"
        },
        {
          "output_type": "stream",
          "text": [
            "Test set: Average loss: 3.9848, Accuracy: 709/5000 (14.18%)\n",
            "Validation loss to Schedular = 3.9847953857421876\n",
            "\n",
            "EPOCH: 6\n"
          ],
          "name": "stdout"
        },
        {
          "output_type": "stream",
          "text": [
            "Loss=3.687138319015503 Batch_id=195 Accuracy=18.84: 100%|██████████| 196/196 [06:23<00:00,  1.96s/it]\n",
            "  0%|          | 0/196 [00:00<?, ?it/s]"
          ],
          "name": "stderr"
        },
        {
          "output_type": "stream",
          "text": [
            "Test set: Average loss: 3.7865, Accuracy: 869/5000 (17.38%)\n",
            "Validation loss to Schedular = 3.7865423828125\n",
            "\n",
            "EPOCH: 7\n"
          ],
          "name": "stdout"
        },
        {
          "output_type": "stream",
          "text": [
            "Loss=3.600386381149292 Batch_id=195 Accuracy=20.80: 100%|██████████| 196/196 [06:23<00:00,  1.96s/it]\n",
            "  0%|          | 0/196 [00:00<?, ?it/s]"
          ],
          "name": "stderr"
        },
        {
          "output_type": "stream",
          "text": [
            "Test set: Average loss: 3.7490, Accuracy: 941/5000 (18.82%)\n",
            "Validation loss to Schedular = 3.7490255126953125\n",
            "\n",
            "EPOCH: 8\n"
          ],
          "name": "stdout"
        },
        {
          "output_type": "stream",
          "text": [
            "Loss=3.2851061820983887 Batch_id=195 Accuracy=22.32: 100%|██████████| 196/196 [06:23<00:00,  1.96s/it]\n",
            "  0%|          | 0/196 [00:00<?, ?it/s]"
          ],
          "name": "stderr"
        },
        {
          "output_type": "stream",
          "text": [
            "Test set: Average loss: 3.7738, Accuracy: 929/5000 (18.58%)\n",
            "Validation loss to Schedular = 3.773811474609375\n",
            "\n",
            "EPOCH: 9\n"
          ],
          "name": "stdout"
        },
        {
          "output_type": "stream",
          "text": [
            "Loss=3.409442186355591 Batch_id=195 Accuracy=23.80: 100%|██████████| 196/196 [06:23<00:00,  1.96s/it]\n",
            "  0%|          | 0/196 [00:00<?, ?it/s]"
          ],
          "name": "stderr"
        },
        {
          "output_type": "stream",
          "text": [
            "Test set: Average loss: 3.6078, Accuracy: 1011/5000 (20.22%)\n",
            "Validation loss to Schedular = 3.60782021484375\n",
            "\n",
            "EPOCH: 10\n"
          ],
          "name": "stdout"
        },
        {
          "output_type": "stream",
          "text": [
            "Loss=3.29036283493042 Batch_id=195 Accuracy=25.12: 100%|██████████| 196/196 [06:23<00:00,  1.95s/it]\n",
            "  0%|          | 0/196 [00:00<?, ?it/s]"
          ],
          "name": "stderr"
        },
        {
          "output_type": "stream",
          "text": [
            "Test set: Average loss: 3.5704, Accuracy: 1083/5000 (21.66%)\n",
            "Validation loss to Schedular = 3.5703529052734373\n",
            "\n",
            "EPOCH: 11\n"
          ],
          "name": "stdout"
        },
        {
          "output_type": "stream",
          "text": [
            "Loss=3.3736863136291504 Batch_id=195 Accuracy=26.54: 100%|██████████| 196/196 [06:23<00:00,  1.96s/it]\n",
            "  0%|          | 0/196 [00:00<?, ?it/s]"
          ],
          "name": "stderr"
        },
        {
          "output_type": "stream",
          "text": [
            "Test set: Average loss: 3.4618, Accuracy: 1159/5000 (23.18%)\n",
            "Validation loss to Schedular = 3.4618148681640624\n",
            "\n",
            "EPOCH: 12\n"
          ],
          "name": "stdout"
        },
        {
          "output_type": "stream",
          "text": [
            "Loss=3.2038681507110596 Batch_id=195 Accuracy=27.42: 100%|██████████| 196/196 [06:23<00:00,  1.95s/it]\n",
            "  0%|          | 0/196 [00:00<?, ?it/s]"
          ],
          "name": "stderr"
        },
        {
          "output_type": "stream",
          "text": [
            "Test set: Average loss: 3.3690, Accuracy: 1233/5000 (24.66%)\n",
            "Validation loss to Schedular = 3.36897998046875\n",
            "\n",
            "EPOCH: 13\n"
          ],
          "name": "stdout"
        },
        {
          "output_type": "stream",
          "text": [
            "Loss=3.2627646923065186 Batch_id=195 Accuracy=28.79: 100%|██████████| 196/196 [06:23<00:00,  1.95s/it]\n",
            "  0%|          | 0/196 [00:00<?, ?it/s]"
          ],
          "name": "stderr"
        },
        {
          "output_type": "stream",
          "text": [
            "Test set: Average loss: 3.3111, Accuracy: 1319/5000 (26.38%)\n",
            "Validation loss to Schedular = 3.3111258056640627\n",
            "\n",
            "EPOCH: 14\n"
          ],
          "name": "stdout"
        },
        {
          "output_type": "stream",
          "text": [
            "Loss=3.2689521312713623 Batch_id=195 Accuracy=29.86: 100%|██████████| 196/196 [06:22<00:00,  1.95s/it]\n",
            "  0%|          | 0/196 [00:00<?, ?it/s]"
          ],
          "name": "stderr"
        },
        {
          "output_type": "stream",
          "text": [
            "Test set: Average loss: 3.2464, Accuracy: 1305/5000 (26.10%)\n",
            "Validation loss to Schedular = 3.246447412109375\n",
            "\n",
            "EPOCH: 15\n"
          ],
          "name": "stdout"
        },
        {
          "output_type": "stream",
          "text": [
            "Loss=3.177945613861084 Batch_id=195 Accuracy=30.58: 100%|██████████| 196/196 [06:23<00:00,  1.96s/it]\n",
            "  0%|          | 0/196 [00:00<?, ?it/s]"
          ],
          "name": "stderr"
        },
        {
          "output_type": "stream",
          "text": [
            "Test set: Average loss: 3.2678, Accuracy: 1293/5000 (25.86%)\n",
            "Validation loss to Schedular = 3.267813671875\n",
            "\n",
            "EPOCH: 16\n"
          ],
          "name": "stdout"
        },
        {
          "output_type": "stream",
          "text": [
            "Loss=2.9659059047698975 Batch_id=195 Accuracy=31.73: 100%|██████████| 196/196 [06:22<00:00,  1.95s/it]\n",
            "  0%|          | 0/196 [00:00<?, ?it/s]"
          ],
          "name": "stderr"
        },
        {
          "output_type": "stream",
          "text": [
            "Test set: Average loss: 3.1466, Accuracy: 1474/5000 (29.48%)\n",
            "Validation loss to Schedular = 3.146611181640625\n",
            "\n",
            "EPOCH: 17\n"
          ],
          "name": "stdout"
        },
        {
          "output_type": "stream",
          "text": [
            "Loss=3.0235095024108887 Batch_id=195 Accuracy=32.38: 100%|██████████| 196/196 [06:22<00:00,  1.95s/it]\n",
            "  0%|          | 0/196 [00:00<?, ?it/s]"
          ],
          "name": "stderr"
        },
        {
          "output_type": "stream",
          "text": [
            "Test set: Average loss: 3.1782, Accuracy: 1448/5000 (28.96%)\n",
            "Validation loss to Schedular = 3.1782220458984374\n",
            "\n",
            "EPOCH: 18\n"
          ],
          "name": "stdout"
        },
        {
          "output_type": "stream",
          "text": [
            "Loss=3.192631721496582 Batch_id=195 Accuracy=33.17: 100%|██████████| 196/196 [06:24<00:00,  1.96s/it]\n",
            "  0%|          | 0/196 [00:00<?, ?it/s]"
          ],
          "name": "stderr"
        },
        {
          "output_type": "stream",
          "text": [
            "Test set: Average loss: 3.1886, Accuracy: 1417/5000 (28.34%)\n",
            "Validation loss to Schedular = 3.188637841796875\n",
            "\n",
            "EPOCH: 19\n"
          ],
          "name": "stdout"
        },
        {
          "output_type": "stream",
          "text": [
            "Loss=2.825874090194702 Batch_id=195 Accuracy=34.00: 100%|██████████| 196/196 [06:24<00:00,  1.96s/it]\n",
            "  0%|          | 0/196 [00:00<?, ?it/s]"
          ],
          "name": "stderr"
        },
        {
          "output_type": "stream",
          "text": [
            "Test set: Average loss: 3.0371, Accuracy: 1521/5000 (30.42%)\n",
            "Validation loss to Schedular = 3.0371004150390624\n",
            "\n",
            "EPOCH: 20\n"
          ],
          "name": "stdout"
        },
        {
          "output_type": "stream",
          "text": [
            "Loss=2.7464663982391357 Batch_id=195 Accuracy=34.71: 100%|██████████| 196/196 [06:23<00:00,  1.95s/it]\n",
            "  0%|          | 0/196 [00:00<?, ?it/s]"
          ],
          "name": "stderr"
        },
        {
          "output_type": "stream",
          "text": [
            "Test set: Average loss: 3.0750, Accuracy: 1494/5000 (29.88%)\n",
            "Validation loss to Schedular = 3.0749627685546876\n",
            "\n",
            "EPOCH: 21\n"
          ],
          "name": "stdout"
        },
        {
          "output_type": "stream",
          "text": [
            "Loss=3.1026670932769775 Batch_id=195 Accuracy=35.39: 100%|██████████| 196/196 [06:22<00:00,  1.95s/it]\n",
            "  0%|          | 0/196 [00:00<?, ?it/s]"
          ],
          "name": "stderr"
        },
        {
          "output_type": "stream",
          "text": [
            "Test set: Average loss: 2.9976, Accuracy: 1546/5000 (30.92%)\n",
            "Validation loss to Schedular = 2.9976149658203126\n",
            "\n",
            "EPOCH: 22\n"
          ],
          "name": "stdout"
        },
        {
          "output_type": "stream",
          "text": [
            "Loss=2.594473361968994 Batch_id=195 Accuracy=36.16: 100%|██████████| 196/196 [06:23<00:00,  1.96s/it]\n",
            "  0%|          | 0/196 [00:00<?, ?it/s]"
          ],
          "name": "stderr"
        },
        {
          "output_type": "stream",
          "text": [
            "Test set: Average loss: 3.0665, Accuracy: 1505/5000 (30.10%)\n",
            "Validation loss to Schedular = 3.0665242431640625\n",
            "\n",
            "EPOCH: 23\n"
          ],
          "name": "stdout"
        },
        {
          "output_type": "stream",
          "text": [
            "Loss=2.607027769088745 Batch_id=195 Accuracy=36.83: 100%|██████████| 196/196 [06:24<00:00,  1.96s/it]\n",
            "  0%|          | 0/196 [00:00<?, ?it/s]"
          ],
          "name": "stderr"
        },
        {
          "output_type": "stream",
          "text": [
            "Test set: Average loss: 2.9933, Accuracy: 1600/5000 (32.00%)\n",
            "Validation loss to Schedular = 2.9933216552734376\n",
            "\n",
            "EPOCH: 24\n"
          ],
          "name": "stdout"
        },
        {
          "output_type": "stream",
          "text": [
            "Loss=2.7922611236572266 Batch_id=195 Accuracy=37.89: 100%|██████████| 196/196 [06:24<00:00,  1.96s/it]\n",
            "  0%|          | 0/196 [00:00<?, ?it/s]"
          ],
          "name": "stderr"
        },
        {
          "output_type": "stream",
          "text": [
            "Test set: Average loss: 2.9102, Accuracy: 1626/5000 (32.52%)\n",
            "Validation loss to Schedular = 2.91017998046875\n",
            "\n",
            "EPOCH: 25\n"
          ],
          "name": "stdout"
        },
        {
          "output_type": "stream",
          "text": [
            "Loss=2.6576757431030273 Batch_id=195 Accuracy=38.26: 100%|██████████| 196/196 [06:22<00:00,  1.95s/it]\n",
            "  0%|          | 0/196 [00:00<?, ?it/s]"
          ],
          "name": "stderr"
        },
        {
          "output_type": "stream",
          "text": [
            "Test set: Average loss: 2.9266, Accuracy: 1653/5000 (33.06%)\n",
            "Validation loss to Schedular = 2.9266414794921873\n",
            "\n",
            "EPOCH: 26\n"
          ],
          "name": "stdout"
        },
        {
          "output_type": "stream",
          "text": [
            "Loss=2.200917959213257 Batch_id=195 Accuracy=39.20: 100%|██████████| 196/196 [06:22<00:00,  1.95s/it]\n",
            "  0%|          | 0/196 [00:00<?, ?it/s]"
          ],
          "name": "stderr"
        },
        {
          "output_type": "stream",
          "text": [
            "Test set: Average loss: 2.9209, Accuracy: 1685/5000 (33.70%)\n",
            "Validation loss to Schedular = 2.920860302734375\n",
            "\n",
            "EPOCH: 27\n"
          ],
          "name": "stdout"
        },
        {
          "output_type": "stream",
          "text": [
            "Loss=2.64414381980896 Batch_id=195 Accuracy=39.96: 100%|██████████| 196/196 [06:21<00:00,  1.95s/it]\n",
            "  0%|          | 0/196 [00:00<?, ?it/s]"
          ],
          "name": "stderr"
        },
        {
          "output_type": "stream",
          "text": [
            "Test set: Average loss: 2.9333, Accuracy: 1657/5000 (33.14%)\n",
            "Validation loss to Schedular = 2.93327451171875\n",
            "\n",
            "EPOCH: 28\n"
          ],
          "name": "stdout"
        },
        {
          "output_type": "stream",
          "text": [
            "Loss=2.5273897647857666 Batch_id=195 Accuracy=40.66: 100%|██████████| 196/196 [06:22<00:00,  1.95s/it]\n",
            "  0%|          | 0/196 [00:00<?, ?it/s]"
          ],
          "name": "stderr"
        },
        {
          "output_type": "stream",
          "text": [
            "Test set: Average loss: 2.8603, Accuracy: 1731/5000 (34.62%)\n",
            "Validation loss to Schedular = 2.8603188232421877\n",
            "\n",
            "EPOCH: 29\n"
          ],
          "name": "stdout"
        },
        {
          "output_type": "stream",
          "text": [
            "Loss=2.6406352519989014 Batch_id=195 Accuracy=41.57: 100%|██████████| 196/196 [06:22<00:00,  1.95s/it]\n",
            "  0%|          | 0/196 [00:00<?, ?it/s]"
          ],
          "name": "stderr"
        },
        {
          "output_type": "stream",
          "text": [
            "Test set: Average loss: 2.8131, Accuracy: 1754/5000 (35.08%)\n",
            "Validation loss to Schedular = 2.8130781494140624\n",
            "\n",
            "EPOCH: 30\n"
          ],
          "name": "stdout"
        },
        {
          "output_type": "stream",
          "text": [
            "\rLoss=2.4677894115448 Batch_id=0 Accuracy=43.75:   0%|          | 0/196 [00:03<?, ?it/s]"
          ],
          "name": "stderr"
        },
        {
          "output_type": "error",
          "ename": "UnboundLocalError",
          "evalue": "ignored",
          "traceback": [
            "\u001b[0;31m---------------------------------------------------------------------------\u001b[0m",
            "\u001b[0;31mUnboundLocalError\u001b[0m                         Traceback (most recent call last)",
            "\u001b[0;32m<ipython-input-14-ede1caf84354>\u001b[0m in \u001b[0;36m<module>\u001b[0;34m()\u001b[0m\n\u001b[1;32m      6\u001b[0m                                                             \u001b[0mscheduler\u001b[0m\u001b[0;34m=\u001b[0m\u001b[0mscheduler\u001b[0m\u001b[0;34m,\u001b[0m\u001b[0;34m\u001b[0m\u001b[0;34m\u001b[0m\u001b[0m\n\u001b[1;32m      7\u001b[0m                                                             \u001b[0mepochs\u001b[0m \u001b[0;34m=\u001b[0m \u001b[0;36m40\u001b[0m\u001b[0;34m,\u001b[0m\u001b[0;34m\u001b[0m\u001b[0;34m\u001b[0m\u001b[0m\n\u001b[0;32m----> 8\u001b[0;31m                                                             \u001b[0misOCLR\u001b[0m \u001b[0;34m=\u001b[0m \u001b[0;32mTrue\u001b[0m\u001b[0;34m,\u001b[0m\u001b[0;34m\u001b[0m\u001b[0;34m\u001b[0m\u001b[0m\n\u001b[0m\u001b[1;32m      9\u001b[0m                                                             )\n",
            "\u001b[0;32m/content/gdrive/My Drive/EVA_Library/pyTorchChitra/modelTraining/modelTraining.py\u001b[0m in \u001b[0;36mrunTheModel\u001b[0;34m(model, device, optimizer, train_loader, test_loader, scheduler, epochs, isOCLR)\u001b[0m\n\u001b[1;32m     35\u001b[0m     \u001b[0;32mfor\u001b[0m \u001b[0mepoch\u001b[0m \u001b[0;32min\u001b[0m \u001b[0mrange\u001b[0m\u001b[0;34m(\u001b[0m\u001b[0mepochs\u001b[0m\u001b[0;34m)\u001b[0m\u001b[0;34m:\u001b[0m\u001b[0;34m\u001b[0m\u001b[0;34m\u001b[0m\u001b[0m\n\u001b[1;32m     36\u001b[0m         \u001b[0mprint\u001b[0m\u001b[0;34m(\u001b[0m\u001b[0;34m\"EPOCH:\"\u001b[0m\u001b[0;34m,\u001b[0m \u001b[0mepoch\u001b[0m\u001b[0;34m)\u001b[0m\u001b[0;34m\u001b[0m\u001b[0;34m\u001b[0m\u001b[0m\n\u001b[0;32m---> 37\u001b[0;31m         \u001b[0mplot_train_losses\u001b[0m\u001b[0;34m,\u001b[0m \u001b[0mplot_train_acc\u001b[0m \u001b[0;34m=\u001b[0m \u001b[0mtrain\u001b[0m\u001b[0;34m(\u001b[0m\u001b[0mmodel\u001b[0m\u001b[0;34m,\u001b[0m \u001b[0mdevice\u001b[0m\u001b[0;34m,\u001b[0m \u001b[0mtrain_loader\u001b[0m\u001b[0;34m,\u001b[0m \u001b[0moptimizer\u001b[0m\u001b[0;34m,\u001b[0m \u001b[0mepoch\u001b[0m\u001b[0;34m,\u001b[0m \u001b[0mscheduler\u001b[0m\u001b[0;34m,\u001b[0m \u001b[0misOCLR\u001b[0m\u001b[0;34m=\u001b[0m\u001b[0misOCLR\u001b[0m\u001b[0;34m)\u001b[0m\u001b[0;34m\u001b[0m\u001b[0;34m\u001b[0m\u001b[0m\n\u001b[0m\u001b[1;32m     38\u001b[0m         \u001b[0mval_loss\u001b[0m\u001b[0;34m,\u001b[0m \u001b[0mplot_test_losses\u001b[0m\u001b[0;34m,\u001b[0m \u001b[0mplot_test_acc\u001b[0m \u001b[0;34m=\u001b[0m \u001b[0mtest\u001b[0m\u001b[0;34m(\u001b[0m\u001b[0mmodel\u001b[0m\u001b[0;34m,\u001b[0m \u001b[0mdevice\u001b[0m\u001b[0;34m,\u001b[0m \u001b[0mtest_loader\u001b[0m\u001b[0;34m)\u001b[0m\u001b[0;34m\u001b[0m\u001b[0;34m\u001b[0m\u001b[0m\n\u001b[1;32m     39\u001b[0m         \u001b[0mprint\u001b[0m\u001b[0;34m(\u001b[0m\u001b[0;34m'Validation loss to Schedular = '\u001b[0m\u001b[0;34m+\u001b[0m\u001b[0mstr\u001b[0m\u001b[0;34m(\u001b[0m\u001b[0mval_loss\u001b[0m\u001b[0;34m)\u001b[0m\u001b[0;34m+\u001b[0m\u001b[0;34m'\\n'\u001b[0m\u001b[0;34m)\u001b[0m\u001b[0;34m\u001b[0m\u001b[0;34m\u001b[0m\u001b[0m\n",
            "\u001b[0;32m/content/gdrive/My Drive/EVA_Library/pyTorchChitra/modelTraining/CNNTrainTest.py\u001b[0m in \u001b[0;36mtrain\u001b[0;34m(model, device, train_loader, optimizer, epoch, scheduler, isOCLR)\u001b[0m\n\u001b[1;32m     53\u001b[0m \u001b[0;34m\u001b[0m\u001b[0m\n\u001b[1;32m     54\u001b[0m     \u001b[0;32mif\u001b[0m \u001b[0misOCLR\u001b[0m \u001b[0;34m==\u001b[0m \u001b[0;32mTrue\u001b[0m\u001b[0;34m:\u001b[0m\u001b[0;34m\u001b[0m\u001b[0;34m\u001b[0m\u001b[0m\n\u001b[0;32m---> 55\u001b[0;31m         \u001b[0mscheduler\u001b[0m\u001b[0;34m.\u001b[0m\u001b[0mstep\u001b[0m\u001b[0;34m(\u001b[0m\u001b[0;34m)\u001b[0m\u001b[0;34m\u001b[0m\u001b[0;34m\u001b[0m\u001b[0m\n\u001b[0m\u001b[1;32m     56\u001b[0m         \u001b[0;32mfor\u001b[0m \u001b[0mparam_group\u001b[0m \u001b[0;32min\u001b[0m \u001b[0moptimizer\u001b[0m\u001b[0;34m.\u001b[0m\u001b[0mparam_groups\u001b[0m\u001b[0;34m:\u001b[0m\u001b[0;34m\u001b[0m\u001b[0;34m\u001b[0m\u001b[0m\n\u001b[1;32m     57\u001b[0m             \u001b[0mcyclic_LR_history\u001b[0m\u001b[0;34m.\u001b[0m\u001b[0mappend\u001b[0m\u001b[0;34m(\u001b[0m\u001b[0mparam_group\u001b[0m\u001b[0;34m[\u001b[0m\u001b[0;34m'lr'\u001b[0m\u001b[0;34m]\u001b[0m\u001b[0;34m)\u001b[0m\u001b[0;34m\u001b[0m\u001b[0;34m\u001b[0m\u001b[0m\n",
            "\u001b[0;32m/usr/local/lib/python3.6/dist-packages/torch/optim/lr_scheduler.py\u001b[0m in \u001b[0;36mstep\u001b[0;34m(self, epoch)\u001b[0m\n\u001b[1;32m    148\u001b[0m                     \u001b[0mvalues\u001b[0m \u001b[0;34m=\u001b[0m \u001b[0mself\u001b[0m\u001b[0;34m.\u001b[0m\u001b[0mget_lr\u001b[0m\u001b[0;34m(\u001b[0m\u001b[0;34m)\u001b[0m\u001b[0;34m\u001b[0m\u001b[0;34m\u001b[0m\u001b[0m\n\u001b[1;32m    149\u001b[0m \u001b[0;34m\u001b[0m\u001b[0m\n\u001b[0;32m--> 150\u001b[0;31m         \u001b[0;32mfor\u001b[0m \u001b[0mparam_group\u001b[0m\u001b[0;34m,\u001b[0m \u001b[0mlr\u001b[0m \u001b[0;32min\u001b[0m \u001b[0mzip\u001b[0m\u001b[0;34m(\u001b[0m\u001b[0mself\u001b[0m\u001b[0;34m.\u001b[0m\u001b[0moptimizer\u001b[0m\u001b[0;34m.\u001b[0m\u001b[0mparam_groups\u001b[0m\u001b[0;34m,\u001b[0m \u001b[0mvalues\u001b[0m\u001b[0;34m)\u001b[0m\u001b[0;34m:\u001b[0m\u001b[0;34m\u001b[0m\u001b[0;34m\u001b[0m\u001b[0m\n\u001b[0m\u001b[1;32m    151\u001b[0m             \u001b[0mparam_group\u001b[0m\u001b[0;34m[\u001b[0m\u001b[0;34m'lr'\u001b[0m\u001b[0;34m]\u001b[0m \u001b[0;34m=\u001b[0m \u001b[0mlr\u001b[0m\u001b[0;34m\u001b[0m\u001b[0;34m\u001b[0m\u001b[0m\n\u001b[1;32m    152\u001b[0m \u001b[0;34m\u001b[0m\u001b[0m\n",
            "\u001b[0;31mUnboundLocalError\u001b[0m: local variable 'values' referenced before assignment"
          ]
        }
      ]
    },
    {
      "cell_type": "code",
      "metadata": {
        "id": "dhrCNszjQ_qK",
        "colab_type": "code",
        "colab": {
          "base_uri": "https://localhost:8080/"
        },
        "outputId": "e86c590d-2251-49f1-a0ee-6188c0c9418b"
      },
      "source": [
        "import matplotlib.pyplot as plt\n",
        "from pyTorchChitra.utils.global_vars import cyclic_LR_history\n",
        "\n",
        "print(len(cyclic_LR_history))\n",
        "plt.plot(cyclic_LR_history)\n",
        "plt.grid('both')"
      ],
      "execution_count": 15,
      "outputs": [
        {
          "output_type": "stream",
          "text": [
            "5880\n"
          ],
          "name": "stdout"
        },
        {
          "output_type": "display_data",
          "data": {
            "image/png": "[encoded data removed]",
            "text/plain": [
              "<Figure size 432x288 with 1 Axes>"
            ]
          },
          "metadata": {
            "tags": [],
            "needs_background": "light"
          }
        }
      ]
    },
    {
      "cell_type": "code",
      "metadata": {
        "id": "gpJh2UTbWar6",
        "colab_type": "code",
        "colab": {}
      },
      "source": [
        "# Final Test Accuracy\n",
        "test_acc[-1]"
      ],
      "execution_count": 0,
      "outputs": []
    },
    {
      "cell_type": "code",
      "metadata": {
        "id": "YxfFXD2Yvdcx",
        "colab_type": "code",
        "colab": {}
      },
      "source": [
        "modelTrainTestHistory (train_losses, train_acc, test_losses, test_acc)"
      ],
      "execution_count": 0,
      "outputs": []
    },
    {
      "cell_type": "code",
      "metadata": {
        "id": "U4L5omFE7EY0",
        "colab_type": "code",
        "colab": {}
      },
      "source": [
        "import torch\n",
        "torch.save(model, './gdrive/My Drive/EVA_Library/for_testing_gradCam.pth')"
      ],
      "execution_count": 0,
      "outputs": []
    },
    {
      "cell_type": "code",
      "metadata": {
        "id": "qWf7cUJNBzhC",
        "colab_type": "code",
        "colab": {}
      },
      "source": [
        "#import torch\n",
        "#torch.load('./gdrive/My Drive/EVA_Library/for_testing_gradCam.pth')"
      ],
      "execution_count": 0,
      "outputs": []
    }
  ]
}