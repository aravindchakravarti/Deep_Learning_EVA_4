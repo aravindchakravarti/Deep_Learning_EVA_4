{
  "nbformat": 4,
  "nbformat_minor": 0,
  "metadata": {
    "colab": {
      "name": "dog-bbox-kmeans.ipynb",
      "provenance": [],
      "collapsed_sections": [],
      "authorship_tag": "ABX9TyO/qNzNsaEInMr/HGSabVzU",
      "include_colab_link": true
    },
    "kernelspec": {
      "name": "python3",
      "display_name": "Python 3"
    }
  },
  "cells": [
    {
      "cell_type": "markdown",
      "metadata": {
        "id": "view-in-github",
        "colab_type": "text"
      },
      "source": [
        "<a href=\"https://colab.research.google.com/github/aravindchakravarti/Deep_Learning_EVA_4/blob/master/S12_TinyImageNet/S12B/dog_bbox_kmeans.ipynb\" target=\"_parent\"><img src=\"https://colab.research.google.com/assets/colab-badge.svg\" alt=\"Open In Colab\"/></a>"
      ]
    },
    {
      "cell_type": "markdown",
      "metadata": {
        "id": "9Y38Kom_KGow",
        "colab_type": "text"
      },
      "source": [
        "# What is JSON File?\n",
        "\n",
        "* JSON stands for \"JavaScript Object Notation (JSON) format\"\n",
        "* In Python primarly used for 'Object Serialization' i.e., for saving the objects\n",
        "* JSON stores everything in terms of **Dictionaries**. \n",
        "\n",
        "# Example JSON File:\n",
        "\n",
        "```\n",
        "{\n",
        "  \"info\": {\n",
        "    \"year\": 2020,\n",
        "    \"version\": \"1\",\n",
        "    \"description\": \"Exported using VGG Image Annotator (http://www.robots.ox.ac.uk/~vgg/software/via/)\",\n",
        "    \"contributor\": \"\",\n",
        "    \"url\": \"http://www.robots.ox.ac.uk/~vgg/software/via/\",\n",
        "    \"date_created\": \"Sun Apr 19 2020 20:30:25 GMT+0530 (IST)\"\n",
        "  },\n",
        "  \"images\": [\n",
        "    {\n",
        "      \"id\": 0,\n",
        "      \"width\": 729,\n",
        "      \"height\": 486,\n",
        "      \"file_name\": \"dog-1.jpg\",\n",
        "      \"license\": 1,\n",
        "      \"date_captured\": \"\"\n",
        "    },\n",
        "    {\n",
        "      \"id\": 1,\n",
        "      \"width\": 645,\n",
        "      \"height\": 380,\n",
        "      \"file_name\": \"dog-2.jpg\",\n",
        "      \"license\": 1,\n",
        "      \"date_captured\": \"\"\n",
        "    },\n",
        "```\n",
        "In the above file we can see that, there are some **keys** and related **values**. For example, ***info***, ***year***, ***version*** etc are keys. Under each key there are some values.\n",
        "\n",
        "Lets see some specific details present in current JSON file.\n",
        " 1. info  : Information about the file, authors, and date of creation\n",
        " 2. images : Contains information about the \n",
        "  * id : Image ID (which starts from zero and counts number of images)\n",
        "  * width: Width of the image\n",
        "  * height: Height of the image\n",
        "  * file_name: Name of the image file\n",
        "  * licence : (if any) licences\n",
        "  * date_captured: Some EXIF data\n",
        "\n",
        "```\n",
        "\"annotations\": [\n",
        "    {\n",
        "      \"id\": 0,\n",
        "      \"image_id\": \"0\",\n",
        "      \"segmentation\": [\n",
        "        83,\n",
        "        13,\n",
        "        618,\n",
        "        13,\n",
        "        618,\n",
        "        475,\n",
        "        83,\n",
        "        475\n",
        "      ],\n",
        "      \"area\": 247170,\n",
        "      \"bbox\": [\n",
        "        83,\n",
        "        13,\n",
        "        535,\n",
        "        462\n",
        "      ],\n",
        "      \"iscrowd\": 0\n",
        "    },\n",
        "    {\n",
        "      \"id\": 1,\n",
        "      \"image_id\": \"1\",\n",
        "\n",
        "```\n",
        "\n",
        "Above JSON file provies some more information about annotation:\n",
        "* id : Unique ID\n",
        "* image_id : ID number corresponding to image\n",
        "* Segmentation: Co-ordinates of bounding box. In the current file it says, \n",
        "  * 83 - 13 : Top left X axis and Y Axis\n",
        "  * 618 - 13 : Top right X axis and Y Axis\n",
        "  * 618 - 475 : Bottom right X axis and Y Axis\n",
        "  * 83 - 475 : Bottom left X axis and Y Axis\n",
        "* area : Area of the segmentation. May useful for calculating IOU\n",
        "* bbox : Bounding box co-ordinates \n",
        "  * 83 - 13 : Start point of bonding box\n",
        "  * 535 - 462: Width and height of bonding box from starting point\n",
        "* iscrowd : Whether it is a single object or group of objects\n",
        "  "
      ]
    },
    {
      "cell_type": "code",
      "metadata": {
        "id": "QJTtLcpORv-v",
        "colab_type": "code",
        "colab": {
          "base_uri": "https://localhost:8080/",
          "height": 71
        },
        "outputId": "df241157-6bc8-4e44-a2f5-a83bdcaada96"
      },
      "source": [
        "import json\n",
        "import pandas as pd\n",
        "from matplotlib import pyplot as plt\n",
        "from sklearn.datasets.samples_generator import make_blobs\n",
        "from sklearn.cluster import KMeans\n",
        "import numpy as np\n"
      ],
      "execution_count": 12,
      "outputs": [
        {
          "output_type": "stream",
          "text": [
            "/usr/local/lib/python3.6/dist-packages/sklearn/utils/deprecation.py:144: FutureWarning: The sklearn.datasets.samples_generator module is  deprecated in version 0.22 and will be removed in version 0.24. The corresponding classes / functions should instead be imported from sklearn.datasets. Anything that cannot be imported from sklearn.datasets is now part of the private API.\n",
            "  warnings.warn(message, FutureWarning)\n"
          ],
          "name": "stderr"
        }
      ]
    },
    {
      "cell_type": "code",
      "metadata": {
        "id": "C0hrDY95WJeV",
        "colab_type": "code",
        "colab": {}
      },
      "source": [
        "# Loading the JSON file \n",
        "with open ('via_export_coco.json') as fh:\n",
        "  data = json.load(fh)"
      ],
      "execution_count": 0,
      "outputs": []
    },
    {
      "cell_type": "code",
      "metadata": {
        "id": "iFziiC1bSBeK",
        "colab_type": "code",
        "colab": {
          "base_uri": "https://localhost:8080/",
          "height": 34
        },
        "outputId": "58e7cba8-28f2-447e-8219-d5bf1ff6a7b6"
      },
      "source": [
        "# See the data\n",
        "print (data.keys())"
      ],
      "execution_count": 4,
      "outputs": [
        {
          "output_type": "stream",
          "text": [
            "dict_keys(['info', 'images', 'annotations', 'licenses', 'categories'])\n"
          ],
          "name": "stdout"
        }
      ]
    },
    {
      "cell_type": "code",
      "metadata": {
        "id": "YcVBjYt4SFJO",
        "colab_type": "code",
        "colab": {
          "base_uri": "https://localhost:8080/",
          "height": 204
        },
        "outputId": "10b497a5-7445-4b28-d2eb-41befc09f43d"
      },
      "source": [
        "# Getting the images and its annotations\n",
        "image_details = pd.DataFrame(data['images'], columns = data['images'][0].keys())\n",
        "annotation_details = pd.DataFrame(data['annotations'], columns = data['annotations'][0].keys())\n",
        "\n",
        "image_details.head()"
      ],
      "execution_count": 14,
      "outputs": [
        {
          "output_type": "execute_result",
          "data": {
            "text/html": [
              "<div>\n",
              "<style scoped>\n",
              "    .dataframe tbody tr th:only-of-type {\n",
              "        vertical-align: middle;\n",
              "    }\n",
              "\n",
              "    .dataframe tbody tr th {\n",
              "        vertical-align: top;\n",
              "    }\n",
              "\n",
              "    .dataframe thead th {\n",
              "        text-align: right;\n",
              "    }\n",
              "</style>\n",
              "<table border=\"1\" class=\"dataframe\">\n",
              "  <thead>\n",
              "    <tr style=\"text-align: right;\">\n",
              "      <th></th>\n",
              "      <th>id</th>\n",
              "      <th>width</th>\n",
              "      <th>height</th>\n",
              "      <th>file_name</th>\n",
              "      <th>license</th>\n",
              "      <th>date_captured</th>\n",
              "    </tr>\n",
              "  </thead>\n",
              "  <tbody>\n",
              "    <tr>\n",
              "      <th>0</th>\n",
              "      <td>0</td>\n",
              "      <td>729</td>\n",
              "      <td>486</td>\n",
              "      <td>dog-1.jpg</td>\n",
              "      <td>1</td>\n",
              "      <td></td>\n",
              "    </tr>\n",
              "    <tr>\n",
              "      <th>1</th>\n",
              "      <td>1</td>\n",
              "      <td>645</td>\n",
              "      <td>380</td>\n",
              "      <td>dog-2.jpg</td>\n",
              "      <td>1</td>\n",
              "      <td></td>\n",
              "    </tr>\n",
              "    <tr>\n",
              "      <th>2</th>\n",
              "      <td>2</td>\n",
              "      <td>729</td>\n",
              "      <td>486</td>\n",
              "      <td>dog-3.jpg</td>\n",
              "      <td>1</td>\n",
              "      <td></td>\n",
              "    </tr>\n",
              "    <tr>\n",
              "      <th>3</th>\n",
              "      <td>3</td>\n",
              "      <td>272</td>\n",
              "      <td>185</td>\n",
              "      <td>dog-4.jpg</td>\n",
              "      <td>1</td>\n",
              "      <td></td>\n",
              "    </tr>\n",
              "    <tr>\n",
              "      <th>4</th>\n",
              "      <td>4</td>\n",
              "      <td>730</td>\n",
              "      <td>455</td>\n",
              "      <td>dog-5.jpg</td>\n",
              "      <td>1</td>\n",
              "      <td></td>\n",
              "    </tr>\n",
              "  </tbody>\n",
              "</table>\n",
              "</div>"
            ],
            "text/plain": [
              "   id  width  height  file_name  license date_captured\n",
              "0   0    729     486  dog-1.jpg        1              \n",
              "1   1    645     380  dog-2.jpg        1              \n",
              "2   2    729     486  dog-3.jpg        1              \n",
              "3   3    272     185  dog-4.jpg        1              \n",
              "4   4    730     455  dog-5.jpg        1              "
            ]
          },
          "metadata": {
            "tags": []
          },
          "execution_count": 14
        }
      ]
    },
    {
      "cell_type": "code",
      "metadata": {
        "id": "oM5QFpGPSmnL",
        "colab_type": "code",
        "colab": {
          "base_uri": "https://localhost:8080/",
          "height": 204
        },
        "outputId": "3780d9a3-3e4f-408e-c30f-560ce956652b"
      },
      "source": [
        "annotation_details.head()"
      ],
      "execution_count": 15,
      "outputs": [
        {
          "output_type": "execute_result",
          "data": {
            "text/html": [
              "<div>\n",
              "<style scoped>\n",
              "    .dataframe tbody tr th:only-of-type {\n",
              "        vertical-align: middle;\n",
              "    }\n",
              "\n",
              "    .dataframe tbody tr th {\n",
              "        vertical-align: top;\n",
              "    }\n",
              "\n",
              "    .dataframe thead th {\n",
              "        text-align: right;\n",
              "    }\n",
              "</style>\n",
              "<table border=\"1\" class=\"dataframe\">\n",
              "  <thead>\n",
              "    <tr style=\"text-align: right;\">\n",
              "      <th></th>\n",
              "      <th>id</th>\n",
              "      <th>image_id</th>\n",
              "      <th>segmentation</th>\n",
              "      <th>area</th>\n",
              "      <th>bbox</th>\n",
              "      <th>iscrowd</th>\n",
              "    </tr>\n",
              "  </thead>\n",
              "  <tbody>\n",
              "    <tr>\n",
              "      <th>0</th>\n",
              "      <td>0</td>\n",
              "      <td>0</td>\n",
              "      <td>[83, 13, 618, 13, 618, 475, 83, 475]</td>\n",
              "      <td>247170</td>\n",
              "      <td>[83, 13, 535, 462]</td>\n",
              "      <td>0</td>\n",
              "    </tr>\n",
              "    <tr>\n",
              "      <th>1</th>\n",
              "      <td>1</td>\n",
              "      <td>1</td>\n",
              "      <td>[5, 52, 622, 52, 622, 364, 5, 364]</td>\n",
              "      <td>192504</td>\n",
              "      <td>[5, 52, 617, 312]</td>\n",
              "      <td>0</td>\n",
              "    </tr>\n",
              "    <tr>\n",
              "      <th>2</th>\n",
              "      <td>2</td>\n",
              "      <td>2</td>\n",
              "      <td>[41, 14, 696, 14, 696, 477, 41, 477]</td>\n",
              "      <td>303265</td>\n",
              "      <td>[41, 14, 655, 463]</td>\n",
              "      <td>0</td>\n",
              "    </tr>\n",
              "    <tr>\n",
              "      <th>3</th>\n",
              "      <td>3</td>\n",
              "      <td>3</td>\n",
              "      <td>[4, 8, 260, 8, 260, 174, 4, 174]</td>\n",
              "      <td>42496</td>\n",
              "      <td>[4, 8, 256, 166]</td>\n",
              "      <td>0</td>\n",
              "    </tr>\n",
              "    <tr>\n",
              "      <th>4</th>\n",
              "      <td>4</td>\n",
              "      <td>4</td>\n",
              "      <td>[123, 112, 389, 112, 389, 452, 123, 452]</td>\n",
              "      <td>90440</td>\n",
              "      <td>[123, 112, 266, 340]</td>\n",
              "      <td>0</td>\n",
              "    </tr>\n",
              "  </tbody>\n",
              "</table>\n",
              "</div>"
            ],
            "text/plain": [
              "   id image_id  ...                  bbox  iscrowd\n",
              "0   0        0  ...    [83, 13, 535, 462]        0\n",
              "1   1        1  ...     [5, 52, 617, 312]        0\n",
              "2   2        2  ...    [41, 14, 655, 463]        0\n",
              "3   3        3  ...      [4, 8, 256, 166]        0\n",
              "4   4        4  ...  [123, 112, 266, 340]        0\n",
              "\n",
              "[5 rows x 6 columns]"
            ]
          },
          "metadata": {
            "tags": []
          },
          "execution_count": 15
        }
      ]
    },
    {
      "cell_type": "code",
      "metadata": {
        "id": "qFQ6xRs1S0By",
        "colab_type": "code",
        "colab": {}
      },
      "source": [
        "# Extracting bonding box dimensions\n",
        "\n",
        "BBox_df = pd.concat([image_details, annotation_details], 1)[['file_name', 'width', 'height', 'bbox']]\n",
        "\n",
        "x_list = []\n",
        "y_list = []\n",
        "w_list = []\n",
        "h_list = []\n",
        "\n",
        "for row in range (BBox_df.shape[0]):\n",
        "  x = BBox_df['bbox'][row][0]\n",
        "  y = BBox_df['bbox'][row][1]\n",
        "  w = BBox_df['bbox'][row][2]\n",
        "  h = BBox_df['bbox'][row][3]\n",
        "  x_list.append(x)\n",
        "  y_list.append(y)\n",
        "  w_list.append(w)\n",
        "  h_list.append(h)\n",
        "\n",
        "box_df = pd.DataFrame(list(zip(x_list, y_list, w_list, h_list)), columns =['x', 'y', 'box_width', 'box_height'])\n",
        "BBox_df = pd.concat([BBox_df, box_df], 1)\n",
        "BBox_df = BBox_df.drop('bbox', axis =1)"
      ],
      "execution_count": 0,
      "outputs": []
    },
    {
      "cell_type": "code",
      "metadata": {
        "id": "Xzwt-XOWXTFi",
        "colab_type": "code",
        "colab": {
          "base_uri": "https://localhost:8080/",
          "height": 204
        },
        "outputId": "b9850b9d-9d06-4934-ac5b-1375e8b56f31"
      },
      "source": [
        "BBox_df.head()\n"
      ],
      "execution_count": 21,
      "outputs": [
        {
          "output_type": "execute_result",
          "data": {
            "text/html": [
              "<div>\n",
              "<style scoped>\n",
              "    .dataframe tbody tr th:only-of-type {\n",
              "        vertical-align: middle;\n",
              "    }\n",
              "\n",
              "    .dataframe tbody tr th {\n",
              "        vertical-align: top;\n",
              "    }\n",
              "\n",
              "    .dataframe thead th {\n",
              "        text-align: right;\n",
              "    }\n",
              "</style>\n",
              "<table border=\"1\" class=\"dataframe\">\n",
              "  <thead>\n",
              "    <tr style=\"text-align: right;\">\n",
              "      <th></th>\n",
              "      <th>file_name</th>\n",
              "      <th>width</th>\n",
              "      <th>height</th>\n",
              "      <th>x</th>\n",
              "      <th>y</th>\n",
              "      <th>box_width</th>\n",
              "      <th>box_height</th>\n",
              "    </tr>\n",
              "  </thead>\n",
              "  <tbody>\n",
              "    <tr>\n",
              "      <th>0</th>\n",
              "      <td>dog-1.jpg</td>\n",
              "      <td>729</td>\n",
              "      <td>486</td>\n",
              "      <td>83</td>\n",
              "      <td>13</td>\n",
              "      <td>535</td>\n",
              "      <td>462</td>\n",
              "    </tr>\n",
              "    <tr>\n",
              "      <th>1</th>\n",
              "      <td>dog-2.jpg</td>\n",
              "      <td>645</td>\n",
              "      <td>380</td>\n",
              "      <td>5</td>\n",
              "      <td>52</td>\n",
              "      <td>617</td>\n",
              "      <td>312</td>\n",
              "    </tr>\n",
              "    <tr>\n",
              "      <th>2</th>\n",
              "      <td>dog-3.jpg</td>\n",
              "      <td>729</td>\n",
              "      <td>486</td>\n",
              "      <td>41</td>\n",
              "      <td>14</td>\n",
              "      <td>655</td>\n",
              "      <td>463</td>\n",
              "    </tr>\n",
              "    <tr>\n",
              "      <th>3</th>\n",
              "      <td>dog-4.jpg</td>\n",
              "      <td>272</td>\n",
              "      <td>185</td>\n",
              "      <td>4</td>\n",
              "      <td>8</td>\n",
              "      <td>256</td>\n",
              "      <td>166</td>\n",
              "    </tr>\n",
              "    <tr>\n",
              "      <th>4</th>\n",
              "      <td>dog-5.jpg</td>\n",
              "      <td>730</td>\n",
              "      <td>455</td>\n",
              "      <td>123</td>\n",
              "      <td>112</td>\n",
              "      <td>266</td>\n",
              "      <td>340</td>\n",
              "    </tr>\n",
              "  </tbody>\n",
              "</table>\n",
              "</div>"
            ],
            "text/plain": [
              "   file_name  width  height    x    y  box_width  box_height\n",
              "0  dog-1.jpg    729     486   83   13        535         462\n",
              "1  dog-2.jpg    645     380    5   52        617         312\n",
              "2  dog-3.jpg    729     486   41   14        655         463\n",
              "3  dog-4.jpg    272     185    4    8        256         166\n",
              "4  dog-5.jpg    730     455  123  112        266         340"
            ]
          },
          "metadata": {
            "tags": []
          },
          "execution_count": 21
        }
      ]
    },
    {
      "cell_type": "code",
      "metadata": {
        "id": "KZZJc3mhYmDH",
        "colab_type": "code",
        "colab": {}
      },
      "source": [
        "# Lets normalize the data\n",
        "#Normalize the Box Dimensions based on Image Height and Width\n",
        "BBox_df['x'] = BBox_df['x'] / BBox_df['width']\n",
        "BBox_df['y'] = BBox_df['y'] / BBox_df['height']\n",
        "BBox_df['box_width'] = BBox_df['box_width'] / BBox_df['width']\n",
        "BBox_df['box_height'] = BBox_df['box_height'] / BBox_df['height']\n"
      ],
      "execution_count": 0,
      "outputs": []
    },
    {
      "cell_type": "code",
      "metadata": {
        "id": "Z-H8F3zAa708",
        "colab_type": "code",
        "colab": {
          "base_uri": "https://localhost:8080/",
          "height": 204
        },
        "outputId": "eaab97ac-f957-44c3-9bc2-e26cd2dea9fe"
      },
      "source": [
        "BBox_df.head()"
      ],
      "execution_count": 23,
      "outputs": [
        {
          "output_type": "execute_result",
          "data": {
            "text/html": [
              "<div>\n",
              "<style scoped>\n",
              "    .dataframe tbody tr th:only-of-type {\n",
              "        vertical-align: middle;\n",
              "    }\n",
              "\n",
              "    .dataframe tbody tr th {\n",
              "        vertical-align: top;\n",
              "    }\n",
              "\n",
              "    .dataframe thead th {\n",
              "        text-align: right;\n",
              "    }\n",
              "</style>\n",
              "<table border=\"1\" class=\"dataframe\">\n",
              "  <thead>\n",
              "    <tr style=\"text-align: right;\">\n",
              "      <th></th>\n",
              "      <th>file_name</th>\n",
              "      <th>width</th>\n",
              "      <th>height</th>\n",
              "      <th>x</th>\n",
              "      <th>y</th>\n",
              "      <th>box_width</th>\n",
              "      <th>box_height</th>\n",
              "    </tr>\n",
              "  </thead>\n",
              "  <tbody>\n",
              "    <tr>\n",
              "      <th>0</th>\n",
              "      <td>dog-1.jpg</td>\n",
              "      <td>729</td>\n",
              "      <td>486</td>\n",
              "      <td>0.113855</td>\n",
              "      <td>0.026749</td>\n",
              "      <td>0.733882</td>\n",
              "      <td>0.950617</td>\n",
              "    </tr>\n",
              "    <tr>\n",
              "      <th>1</th>\n",
              "      <td>dog-2.jpg</td>\n",
              "      <td>645</td>\n",
              "      <td>380</td>\n",
              "      <td>0.007752</td>\n",
              "      <td>0.136842</td>\n",
              "      <td>0.956589</td>\n",
              "      <td>0.821053</td>\n",
              "    </tr>\n",
              "    <tr>\n",
              "      <th>2</th>\n",
              "      <td>dog-3.jpg</td>\n",
              "      <td>729</td>\n",
              "      <td>486</td>\n",
              "      <td>0.056241</td>\n",
              "      <td>0.028807</td>\n",
              "      <td>0.898491</td>\n",
              "      <td>0.952675</td>\n",
              "    </tr>\n",
              "    <tr>\n",
              "      <th>3</th>\n",
              "      <td>dog-4.jpg</td>\n",
              "      <td>272</td>\n",
              "      <td>185</td>\n",
              "      <td>0.014706</td>\n",
              "      <td>0.043243</td>\n",
              "      <td>0.941176</td>\n",
              "      <td>0.897297</td>\n",
              "    </tr>\n",
              "    <tr>\n",
              "      <th>4</th>\n",
              "      <td>dog-5.jpg</td>\n",
              "      <td>730</td>\n",
              "      <td>455</td>\n",
              "      <td>0.168493</td>\n",
              "      <td>0.246154</td>\n",
              "      <td>0.364384</td>\n",
              "      <td>0.747253</td>\n",
              "    </tr>\n",
              "  </tbody>\n",
              "</table>\n",
              "</div>"
            ],
            "text/plain": [
              "   file_name  width  height         x         y  box_width  box_height\n",
              "0  dog-1.jpg    729     486  0.113855  0.026749   0.733882    0.950617\n",
              "1  dog-2.jpg    645     380  0.007752  0.136842   0.956589    0.821053\n",
              "2  dog-3.jpg    729     486  0.056241  0.028807   0.898491    0.952675\n",
              "3  dog-4.jpg    272     185  0.014706  0.043243   0.941176    0.897297\n",
              "4  dog-5.jpg    730     455  0.168493  0.246154   0.364384    0.747253"
            ]
          },
          "metadata": {
            "tags": []
          },
          "execution_count": 23
        }
      ]
    },
    {
      "cell_type": "code",
      "metadata": {
        "id": "TEYJZBfra9zQ",
        "colab_type": "code",
        "colab": {
          "base_uri": "https://localhost:8080/",
          "height": 34
        },
        "outputId": "6b56495a-07b4-43b3-b136-42ca2f13896a"
      },
      "source": [
        "hw_array = BBox_df[[\"box_width\", \"box_height\"]].to_numpy()\n",
        "hw_array.shape"
      ],
      "execution_count": 24,
      "outputs": [
        {
          "output_type": "execute_result",
          "data": {
            "text/plain": [
              "(50, 2)"
            ]
          },
          "metadata": {
            "tags": []
          },
          "execution_count": 24
        }
      ]
    },
    {
      "cell_type": "code",
      "metadata": {
        "id": "Eb3lYYbwbTQL",
        "colab_type": "code",
        "colab": {
          "base_uri": "https://localhost:8080/",
          "height": 282
        },
        "outputId": "baa8b952-08ae-4cb1-a4c3-5d49c2dfe015"
      },
      "source": [
        "# Visualize the data\n",
        "plt.scatter(hw_array[:,0], hw_array[:,1])"
      ],
      "execution_count": 33,
      "outputs": [
        {
          "output_type": "execute_result",
          "data": {
            "text/plain": [
              "<matplotlib.collections.PathCollection at 0x7fc3cb23ce80>"
            ]
          },
          "metadata": {
            "tags": []
          },
          "execution_count": 33
        },
        {
          "output_type": "display_data",
          "data": {
            "image/png": "[encoded data removed]",
            "text/plain": [
              "<Figure size 432x288 with 1 Axes>"
            ]
          },
          "metadata": {
            "tags": [],
            "needs_background": "light"
          }
        }
      ]
    },
    {
      "cell_type": "code",
      "metadata": {
        "id": "tL3L8qlmbaY8",
        "colab_type": "code",
        "colab": {
          "base_uri": "https://localhost:8080/",
          "height": 295
        },
        "outputId": "4bad4926-ef53-44c0-9f7c-10afdcf727f6"
      },
      "source": [
        "#Elbow Method\n",
        "#Determine the optimal number of clusters\n",
        "\n",
        "wcss = []\n",
        "for i in range(1, 11):\n",
        "    kmeans = KMeans(n_clusters=i, init='k-means++', max_iter=300, n_init=10, random_state=0)\n",
        "    kmeans.fit(hw_array)\n",
        "    wcss.append(kmeans.inertia_)\n",
        "plt.plot(range(1, 11), wcss)\n",
        "plt.title('Elbow Method')\n",
        "plt.xlabel('Number of clusters')\n",
        "plt.ylabel('WCSS')\n",
        "plt.show()"
      ],
      "execution_count": 35,
      "outputs": [
        {
          "output_type": "display_data",
          "data": {
            "image/png": "[encoded data removed]",
            "text/plain": [
              "<Figure size 432x288 with 1 Axes>"
            ]
          },
          "metadata": {
            "tags": [],
            "needs_background": "light"
          }
        }
      ]
    },
    {
      "cell_type": "code",
      "metadata": {
        "id": "9-BaK2CTcgTN",
        "colab_type": "code",
        "colab": {}
      },
      "source": [
        "# find cluster centers for selected number of clusters\n",
        "kmeans = KMeans(n_clusters=3, init='k-means++', max_iter=300, n_init=10, random_state=0)\n",
        "pred_y = kmeans.fit_predict(hw_array)"
      ],
      "execution_count": 0,
      "outputs": []
    },
    {
      "cell_type": "code",
      "metadata": {
        "id": "nDPxPFX-cvL2",
        "colab_type": "code",
        "colab": {
          "base_uri": "https://localhost:8080/",
          "height": 68
        },
        "outputId": "8eb235eb-b36d-45d8-a2d3-9f3f7305dea3"
      },
      "source": [
        "kmeans.cluster_centers_"
      ],
      "execution_count": 37,
      "outputs": [
        {
          "output_type": "execute_result",
          "data": {
            "text/plain": [
              "array([[0.64212148, 0.84488542],\n",
              "       [0.41330322, 0.78853922],\n",
              "       [0.87588088, 0.87157261]])"
            ]
          },
          "metadata": {
            "tags": []
          },
          "execution_count": 37
        }
      ]
    },
    {
      "cell_type": "code",
      "metadata": {
        "id": "DCm1iBfCdw2E",
        "colab_type": "code",
        "colab": {
          "base_uri": "https://localhost:8080/",
          "height": 265
        },
        "outputId": "e2b57543-8b98-408b-966b-361d58884270"
      },
      "source": [
        "plt.scatter(hw_array[:,0], hw_array[:,1])\n",
        "plt.scatter(kmeans.cluster_centers_[:, 0], kmeans.cluster_centers_[:, 1], s=300, c='red')\n",
        "plt.show()"
      ],
      "execution_count": 38,
      "outputs": [
        {
          "output_type": "display_data",
          "data": {
            "image/png": "[encoded data removed]",
            "text/plain": [
              "<Figure size 432x288 with 1 Axes>"
            ]
          },
          "metadata": {
            "tags": [],
            "needs_background": "light"
          }
        }
      ]
    }
  ]
}