{
  "nbformat": 4,
  "nbformat_minor": 0,
  "metadata": {
    "colab": {
      "name": "EVA4-Session 6.ipynb",
      "provenance": [],
      "collapsed_sections": [],
      "include_colab_link": true
    },
    "kernelspec": {
      "name": "python3",
      "display_name": "Python 3"
    },
    "accelerator": "GPU"
  },
  "cells": [
    {
      "cell_type": "markdown",
      "metadata": {
        "id": "view-in-github",
        "colab_type": "text"
      },
      "source": [
        "<a href=\"https://colab.research.google.com/github/aravindchakravarti/Deep_Learning_EVA_4/blob/master/S6_Regularization/EVA4_Session_6.ipynb\" target=\"_parent\"><img src=\"https://colab.research.google.com/assets/colab-badge.svg\" alt=\"Open In Colab\"/></a>"
      ]
    },
    {
      "cell_type": "markdown",
      "metadata": {
        "id": "6L2W2qcOINo8",
        "colab_type": "text"
      },
      "source": [
        "# Import Libraries"
      ]
    },
    {
      "cell_type": "code",
      "metadata": {
        "id": "0m2JWFliFfKT",
        "colab_type": "code",
        "colab": {}
      },
      "source": [
        "from __future__ import print_function\n",
        "import torch\n",
        "# Import core module\n",
        "import torch.nn as nn\n",
        "# We need support for functional programming\n",
        "import torch.nn.functional as F\n",
        "import torch.optim as optim\n",
        "# For MNIST dataset\n",
        "from torchvision import datasets, transforms\n",
        "# For Global Average Pooling\n",
        "from torch.nn import AvgPool2d\n",
        "# Plotting purpose\n",
        "%matplotlib inline\n",
        "import matplotlib.pyplot as plt"
      ],
      "execution_count": 0,
      "outputs": []
    },
    {
      "cell_type": "markdown",
      "metadata": {
        "id": "M6uKcwclITyH",
        "colab_type": "text"
      },
      "source": [
        "# Data Transformations\n",
        "We first start with defining our data transformations. Image augmentation techniques are great and we need to keep it ready by the time we hit overfitting!"
      ]
    },
    {
      "cell_type": "code",
      "metadata": {
        "id": "dycRAYR2Inxv",
        "colab_type": "code",
        "colab": {}
      },
      "source": [
        "# Train Phase transformations\n",
        "train_transforms = transforms.Compose([\n",
        "                                      #  transforms.Resize((28, 28)),\n",
        "                                      #  transforms.ColorJitter(brightness=0.10, contrast=0.1, saturation=0.10, hue=0.1),\n",
        "                                      #  transforms.RandomRotation((-7.0, 7.0), fill=(1,)),\n",
        "                                       transforms.RandomAffine(degrees=10, shear = 10),\n",
        "                                       transforms.ToTensor(),\n",
        "                                       transforms.Normalize((0.1307,), (0.3081,)) # The mean and std have to be sequences (e.g., tuples), therefore you should add a comma after the values. \n",
        "                                       # Note the difference between (0.1307) and (0.1307,)\n",
        "                                       ])\n",
        "\n",
        "# Test Phase transformations\n",
        "test_transforms = transforms.Compose([\n",
        "                                      #  transforms.Resize((28, 28)),\n",
        "                                      #  transforms.ColorJitter(brightness=0.10, contrast=0.1, saturation=0.10, hue=0.1),\n",
        "                                       transforms.ToTensor(),\n",
        "                                       transforms.Normalize((0.1307,), (0.3081,))\n",
        "                                       ])\n"
      ],
      "execution_count": 0,
      "outputs": []
    },
    {
      "cell_type": "markdown",
      "metadata": {
        "id": "LZ_-IJPUI0yU",
        "colab_type": "text"
      },
      "source": [
        "# Dataset and Creating Train and Test Split"
      ]
    },
    {
      "cell_type": "code",
      "metadata": {
        "id": "jPhcenY6Ivf5",
        "colab_type": "code",
        "colab": {}
      },
      "source": [
        "train = datasets.MNIST('./data', train=True, download=True, transform=train_transforms)\n",
        "test = datasets.MNIST('./data', train=False, download=True, transform=test_transforms)"
      ],
      "execution_count": 0,
      "outputs": []
    },
    {
      "cell_type": "markdown",
      "metadata": {
        "id": "5DehiSB9I8yb",
        "colab_type": "text"
      },
      "source": [
        "# Dataloader Arguments & Test/Train Dataloaders"
      ]
    },
    {
      "cell_type": "code",
      "metadata": {
        "id": "0fn7LY1PJC1c",
        "colab_type": "code",
        "outputId": "404343be-460b-4fce-ed0c-115706b660d0",
        "colab": {
          "base_uri": "https://localhost:8080/",
          "height": 34
        }
      },
      "source": [
        "# SEED = 1\n",
        "\n",
        "# CUDA?\n",
        "cuda = torch.cuda.is_available()\n",
        "print(\"CUDA Available?\", cuda)\n",
        "\n",
        "# For reproducibility\n",
        "# torch.manual_seed(SEED)\n",
        "\n",
        "#if cuda:\n",
        "#    torch.cuda.manual_seed(SEED)\n",
        "\n",
        "# dataloader arguments - something you'll fetch these from cmdprmt\n",
        "dataloader_args = dict(shuffle=True, batch_size=128, num_workers=4, pin_memory=True) if cuda else dict(shuffle=True, batch_size=64)\n",
        "\n",
        "# train dataloader\n",
        "train_loader = torch.utils.data.DataLoader(train, **dataloader_args)\n",
        "\n",
        "# test dataloader\n",
        "test_loader = torch.utils.data.DataLoader(test, **dataloader_args)"
      ],
      "execution_count": 207,
      "outputs": [
        {
          "output_type": "stream",
          "text": [
            "CUDA Available? True\n"
          ],
          "name": "stdout"
        }
      ]
    },
    {
      "cell_type": "markdown",
      "metadata": {
        "id": "ua9WmYbnJMVn",
        "colab_type": "text"
      },
      "source": [
        "# The Model\n",
        "\u0010\n",
        "I like the model definition like below, not with nn.Sequential() way. So, I am going to keep it same "
      ]
    },
    {
      "cell_type": "code",
      "metadata": {
        "id": "h_Cx9q2QFgM7",
        "colab_type": "code",
        "colab": {}
      },
      "source": [
        "class Net(nn.Module):\n",
        "    def __init__(self):\n",
        "        super(Net, self).__init__()\n",
        "        self.conv01 = nn.Conv2d(1, 6, 3, bias=False, padding=1)        #O=28\n",
        "        self.batch01 = nn.BatchNorm2d(num_features=6)    \n",
        "        self.conv02 = nn.Conv2d(6, 8, 3, bias=False,padding=1)        #O=28\n",
        "        self.batch02 = nn.BatchNorm2d(num_features=8)    \n",
        "        self.conv03 = nn.Conv2d(8, 10, 3, bias=False,padding=1)        #O=28\n",
        "        self.batch03 = nn.BatchNorm2d(num_features=10)   \n",
        "        self.conv04 = nn.Conv2d(10, 10, 3, bias=False,padding=0)        #O=26\n",
        "        self.batch04 = nn.BatchNorm2d(num_features=10)   \n",
        "        self.pool01 = nn.MaxPool2d(2, 2)                                #O=13\n",
        "       # self.conv05 = nn.Conv2d(12, 10, 1, bias=False)\n",
        "\n",
        "        self.conv11 = nn.Conv2d(10, 10, 3, bias=False, padding=1)       #O=13\n",
        "        self.batch11 = nn.BatchNorm2d(num_features=10)\n",
        "        self.conv12 = nn.Conv2d(10, 10, 3, bias=False, padding=0)       #O=11\n",
        "        self.batch12 = nn.BatchNorm2d(num_features=10)\n",
        "        self.conv13 = nn.Conv2d(10, 14, 3, bias=False, padding=0)       #O=09\n",
        "        self.batch13 = nn.BatchNorm2d(num_features=14)\n",
        "        self.conv14 = nn.Conv2d(14, 14, 3, bias=False, padding=0)       #O=07\n",
        "        self.batch14 = nn.BatchNorm2d(num_features=14)\n",
        "        self.conv15 = nn.Conv2d(14, 16, 3, bias=False, padding=0)       #O=05\n",
        "        self.batch15 = nn.BatchNorm2d(num_features=16)\n",
        "    \n",
        "        self.avg_pool = nn.AvgPool2d(kernel_size=5)\n",
        "        self.conv23 = nn.Conv2d(16, 10, 1, bias=False, padding=0)\n",
        "\n",
        "    def forward(self, x):\n",
        "        x = self.batch01(F.dropout(F.relu(self.conv01(x)), 0.01))        \n",
        "        x = self.batch02(F.dropout(F.relu(self.conv02(x)), 0.01))\n",
        "        x = self.batch03(F.dropout(F.relu(self.conv03(x)), 0.01))\n",
        "        x = self.batch04(F.dropout(F.relu(self.conv04(x)), 0.01))\n",
        "        x = self.pool01(x)\n",
        "        #x = F.relu(self.conv05(x))\n",
        "\n",
        "        x = self.batch11(F.dropout(F.relu(self.conv11(x)), 0.02))\n",
        "        x = self.batch12(F.dropout(F.relu(self.conv12(x)), 0.02))\n",
        "        x = self.batch13(F.dropout(F.relu(self.conv13(x)), 0.02))\n",
        "        x = self.batch14(F.dropout(F.relu(self.conv14(x)), 0.02))\n",
        "        x = self.batch15(F.dropout(F.relu(self.conv15(x)), 0.02))\n",
        "\n",
        "        x = self.avg_pool(x)\n",
        "        x = F.relu(self.conv23(x))\n",
        "        x = x.view(-1, 10)                           # Don't want 10x1x1..\n",
        "        return F.log_softmax(x)"
      ],
      "execution_count": 0,
      "outputs": []
    },
    {
      "cell_type": "markdown",
      "metadata": {
        "id": "442Nb6MfJPYw",
        "colab_type": "text"
      },
      "source": [
        "# Model Parameters and other details"
      ]
    },
    {
      "cell_type": "code",
      "metadata": {
        "colab_type": "code",
        "id": "xdydjYTZFyi3",
        "outputId": "e0c538a0-be0a-42e1-bcd5-21a69abacf2e",
        "colab": {
          "base_uri": "https://localhost:8080/",
          "height": 629
        }
      },
      "source": [
        "!pip install torchsummary\n",
        "from torchsummary import summary\n",
        "use_cuda = torch.cuda.is_available()\n",
        "device = torch.device(\"cuda\" if use_cuda else \"cpu\")\n",
        "model = Net().to(device)\n",
        "summary(model, input_size=(1, 28, 28))"
      ],
      "execution_count": 209,
      "outputs": [
        {
          "output_type": "stream",
          "text": [
            "Requirement already satisfied: torchsummary in /usr/local/lib/python3.6/dist-packages (1.5.1)\n",
            "----------------------------------------------------------------\n",
            "        Layer (type)               Output Shape         Param #\n",
            "================================================================\n",
            "            Conv2d-1            [-1, 6, 28, 28]              54\n",
            "       BatchNorm2d-2            [-1, 6, 28, 28]              12\n",
            "            Conv2d-3            [-1, 8, 28, 28]             432\n",
            "       BatchNorm2d-4            [-1, 8, 28, 28]              16\n",
            "            Conv2d-5           [-1, 10, 28, 28]             720\n",
            "       BatchNorm2d-6           [-1, 10, 28, 28]              20\n",
            "            Conv2d-7           [-1, 10, 26, 26]             900\n",
            "       BatchNorm2d-8           [-1, 10, 26, 26]              20\n",
            "         MaxPool2d-9           [-1, 10, 13, 13]               0\n",
            "           Conv2d-10           [-1, 10, 13, 13]             900\n",
            "      BatchNorm2d-11           [-1, 10, 13, 13]              20\n",
            "           Conv2d-12           [-1, 10, 11, 11]             900\n",
            "      BatchNorm2d-13           [-1, 10, 11, 11]              20\n",
            "           Conv2d-14             [-1, 14, 9, 9]           1,260\n",
            "      BatchNorm2d-15             [-1, 14, 9, 9]              28\n",
            "           Conv2d-16             [-1, 14, 7, 7]           1,764\n",
            "      BatchNorm2d-17             [-1, 14, 7, 7]              28\n",
            "           Conv2d-18             [-1, 16, 5, 5]           2,016\n",
            "      BatchNorm2d-19             [-1, 16, 5, 5]              32\n",
            "        AvgPool2d-20             [-1, 16, 1, 1]               0\n",
            "           Conv2d-21             [-1, 10, 1, 1]             160\n",
            "================================================================\n",
            "Total params: 9,302\n",
            "Trainable params: 9,302\n",
            "Non-trainable params: 0\n",
            "----------------------------------------------------------------\n",
            "Input size (MB): 0.00\n",
            "Forward/backward pass size (MB): 0.48\n",
            "Params size (MB): 0.04\n",
            "Estimated Total Size (MB): 0.52\n",
            "----------------------------------------------------------------\n"
          ],
          "name": "stdout"
        },
        {
          "output_type": "stream",
          "text": [
            "/usr/local/lib/python3.6/dist-packages/ipykernel_launcher.py:46: UserWarning: Implicit dimension choice for log_softmax has been deprecated. Change the call to include dim=X as an argument.\n"
          ],
          "name": "stderr"
        }
      ]
    },
    {
      "cell_type": "markdown",
      "metadata": {
        "id": "72dkablCJXgj",
        "colab_type": "text"
      },
      "source": [
        "# Training and Testing\u0010"
      ]
    },
    {
      "cell_type": "code",
      "metadata": {
        "id": "btTqS6AMJUli",
        "colab_type": "code",
        "colab": {}
      },
      "source": [
        "from tqdm import tqdm\n",
        "\n",
        "train_losses = []\n",
        "test_losses = [[],[],[],[]]\n",
        "train_acc = []\n",
        "test_acc = [[],[],[],[]]\n",
        "\n",
        "def train(model, device, train_loader, optimizer, epoch, is_L1_loss = False):\n",
        "  model.train()\n",
        "  #pbar = tqdm(train_loader)\n",
        "  correct = 0\n",
        "  processed = 0\n",
        "  loss = 0  # <- added by Aravind. Probably we should not add? Not sure yet\n",
        "\n",
        "  for batch_idx, (data, target) in enumerate(train_loader):\n",
        "    # get samples\n",
        "    data, target = data.to(device), target.to(device)\n",
        "    \n",
        "    # Init\n",
        "    optimizer.zero_grad()\n",
        "    # In PyTorch, we need to set the gradients to zero before starting to do backpropragation because PyTorch accumulates the gradients on subsequent backward passes. \n",
        "    # Because of this, when you start your training loop, ideally you should zero out the gradients so that you do the parameter update correctly.\n",
        "\n",
        "    # Predict\n",
        "    y_pred = model(data)\n",
        "\n",
        "    reg_loss = 0 \n",
        "\n",
        "    # Calculate loss\n",
        "    loss = F.nll_loss(y_pred, target)\n",
        "\n",
        "    if (is_L1_loss == True):\n",
        "        l1_crit = nn.L1Loss(size_average=False)\n",
        "        for param in model.parameters(): \n",
        "            zero_vector = torch.rand_like(param) * 0\n",
        "            reg_loss += l1_crit(param,zero_vector) \n",
        "\n",
        "        \n",
        "    factor = 0.0005 \n",
        "    loss += factor * reg_loss \n",
        "\n",
        "    train_losses.append(loss)\n",
        "\n",
        "    # Backpropagation\n",
        "    loss.backward()\n",
        "    optimizer.step()\n",
        "\n",
        "    # Update pbar-tqdm\n",
        "    \n",
        "    pred = y_pred.argmax(dim=1, keepdim=True)  # get the index of the max log-probability\n",
        "    correct += pred.eq(target.view_as(pred)).sum().item()\n",
        "    processed += len(data)\n",
        "\n",
        "    #pbar.set_description(desc= f'Loss={loss.item()} Batch_id={batch_idx} Accuracy={100*correct/processed:0.2f}')\n",
        "    train_acc.append(100*correct/processed)\n",
        "\n",
        "def test(model, device, test_loader, select_list = 0):\n",
        "    '''\n",
        "    select_list = 0: Test Loss and Test Accuracy without L1 and L2 regularization\n",
        "    select_list = 1: Test Loss and Test Accuracy with L1 regularization\n",
        "    select_list = 2: Test Loss and Test Accuracy with L2 regularization\n",
        "    select_list = 3: Test Loss and Test Accuracy with L1 and L2 regularization\n",
        "    '''\n",
        "    model.eval()\n",
        "    test_loss = 0\n",
        "    correct = 0\n",
        "    with torch.no_grad():\n",
        "        for data, target in test_loader:\n",
        "            data, target = data.to(device), target.to(device)\n",
        "            output = model(data)\n",
        "            test_loss += F.nll_loss(output, target, reduction='sum').item()  # sum up batch loss\n",
        "            pred = output.argmax(dim=1, keepdim=True)  # get the index of the max log-probability\n",
        "            correct += pred.eq(target.view_as(pred)).sum().item()\n",
        "\n",
        "    test_loss /= len(test_loader.dataset)\n",
        "    test_losses[select_list].append(test_loss)\n",
        "\n",
        "    print('\\nTest set: Average loss: {:.4f}, Accuracy: {}/{} ({:.2f}%)\\n'.format(\n",
        "        test_loss, correct, len(test_loader.dataset),\n",
        "        100. * correct / len(test_loader.dataset)))\n",
        "    \n",
        "    test_acc[select_list].append(100. * correct / len(test_loader.dataset))"
      ],
      "execution_count": 0,
      "outputs": []
    },
    {
      "cell_type": "markdown",
      "metadata": {
        "id": "FZGWOFsvJ4h3",
        "colab_type": "text"
      },
      "source": [
        "# Train the model"
      ]
    },
    {
      "cell_type": "markdown",
      "metadata": {
        "id": "LiX5ehSaf4Gi",
        "colab_type": "text"
      },
      "source": [
        "## Without L1/L2 Regularization "
      ]
    },
    {
      "cell_type": "code",
      "metadata": {
        "id": "fuPalcwBNT6I",
        "colab_type": "code",
        "outputId": "5a194157-8445-4436-e3c1-4a38f2721bfc",
        "colab": {
          "base_uri": "https://localhost:8080/",
          "height": 714
        }
      },
      "source": [
        "from torch.optim.lr_scheduler import StepLR\n",
        "\n",
        "model_1 =  Net().to(device)\n",
        "optimizer = optim.SGD(model_1.parameters(), lr=0.01, momentum=0.9, weight_decay=0)\n",
        "# scheduler = StepLR(optimizer, step_size=8, gamma=0.95)\n",
        "\n",
        "EPOCHS = 10\n",
        "for epoch in range(EPOCHS):\n",
        "    print(\"EPOCH:\", epoch)\n",
        "    train(model_1, device, train_loader, optimizer, epoch, is_L1_loss = False)\n",
        "    # scheduler.step()\n",
        "    test(model_1, device, test_loader, select_list=0)"
      ],
      "execution_count": 233,
      "outputs": [
        {
          "output_type": "stream",
          "text": [
            "EPOCH: 0\n"
          ],
          "name": "stdout"
        },
        {
          "output_type": "stream",
          "text": [
            "/usr/local/lib/python3.6/dist-packages/ipykernel_launcher.py:46: UserWarning: Implicit dimension choice for log_softmax has been deprecated. Change the call to include dim=X as an argument.\n"
          ],
          "name": "stderr"
        },
        {
          "output_type": "stream",
          "text": [
            "\n",
            "Test set: Average loss: 0.0891, Accuracy: 9765/10000 (97.65%)\n",
            "\n",
            "EPOCH: 1\n",
            "\n",
            "Test set: Average loss: 0.0500, Accuracy: 9852/10000 (98.52%)\n",
            "\n",
            "EPOCH: 2\n",
            "\n",
            "Test set: Average loss: 0.0376, Accuracy: 9894/10000 (98.94%)\n",
            "\n",
            "EPOCH: 3\n",
            "\n",
            "Test set: Average loss: 0.0302, Accuracy: 9906/10000 (99.06%)\n",
            "\n",
            "EPOCH: 4\n",
            "\n",
            "Test set: Average loss: 0.0268, Accuracy: 9909/10000 (99.09%)\n",
            "\n",
            "EPOCH: 5\n",
            "\n",
            "Test set: Average loss: 0.0291, Accuracy: 9910/10000 (99.10%)\n",
            "\n",
            "EPOCH: 6\n",
            "\n",
            "Test set: Average loss: 0.0246, Accuracy: 9921/10000 (99.21%)\n",
            "\n",
            "EPOCH: 7\n",
            "\n",
            "Test set: Average loss: 0.0228, Accuracy: 9931/10000 (99.31%)\n",
            "\n",
            "EPOCH: 8\n",
            "\n",
            "Test set: Average loss: 0.0241, Accuracy: 9924/10000 (99.24%)\n",
            "\n",
            "EPOCH: 9\n",
            "\n",
            "Test set: Average loss: 0.0243, Accuracy: 9921/10000 (99.21%)\n",
            "\n"
          ],
          "name": "stdout"
        }
      ]
    },
    {
      "cell_type": "markdown",
      "metadata": {
        "id": "4_Vlr65Aio1Y",
        "colab_type": "text"
      },
      "source": [
        "## With L1 Regularization"
      ]
    },
    {
      "cell_type": "code",
      "metadata": {
        "id": "Ijc7CkJxii8d",
        "colab_type": "code",
        "outputId": "abe5c930-dde8-4b1a-94f4-46f7546a1542",
        "colab": {
          "base_uri": "https://localhost:8080/",
          "height": 1000
        }
      },
      "source": [
        "from torch.optim.lr_scheduler import StepLR\n",
        "\n",
        "model_2 =  Net().to(device)\n",
        "optimizer = optim.SGD(model_2.parameters(), lr=0.01, momentum=0.9, weight_decay=0)\n",
        "# scheduler = StepLR(optimizer, step_size=8, gamma=0.95)\n",
        "\n",
        "EPOCHS = 40\n",
        "for epoch in range(EPOCHS):\n",
        "    print(\"EPOCH:\", epoch)\n",
        "    train(model_2, device, train_loader, optimizer, epoch, is_L1_loss=True)\n",
        "    # scheduler.step()\n",
        "    test(model_2, device, test_loader, select_list=1)"
      ],
      "execution_count": 0,
      "outputs": [
        {
          "output_type": "stream",
          "text": [
            "EPOCH: 0\n"
          ],
          "name": "stdout"
        },
        {
          "output_type": "stream",
          "text": [
            "/usr/local/lib/python3.6/dist-packages/ipykernel_launcher.py:46: UserWarning: Implicit dimension choice for log_softmax has been deprecated. Change the call to include dim=X as an argument.\n",
            "/usr/local/lib/python3.6/dist-packages/torch/nn/_reduction.py:43: UserWarning: size_average and reduce args will be deprecated, please use reduction='sum' instead.\n",
            "  warnings.warn(warning.format(ret))\n"
          ],
          "name": "stderr"
        },
        {
          "output_type": "stream",
          "text": [
            "\n",
            "Test set: Average loss: 0.0960, Accuracy: 9732/10000 (97.32%)\n",
            "\n",
            "EPOCH: 1\n",
            "\n",
            "Test set: Average loss: 0.0616, Accuracy: 9833/10000 (98.33%)\n",
            "\n",
            "EPOCH: 2\n",
            "\n",
            "Test set: Average loss: 0.0846, Accuracy: 9754/10000 (97.54%)\n",
            "\n",
            "EPOCH: 3\n",
            "\n",
            "Test set: Average loss: 0.0453, Accuracy: 9874/10000 (98.74%)\n",
            "\n",
            "EPOCH: 4\n",
            "\n",
            "Test set: Average loss: 0.0530, Accuracy: 9842/10000 (98.42%)\n",
            "\n",
            "EPOCH: 5\n",
            "\n",
            "Test set: Average loss: 0.0408, Accuracy: 9889/10000 (98.89%)\n",
            "\n",
            "EPOCH: 6\n",
            "\n",
            "Test set: Average loss: 0.0666, Accuracy: 9803/10000 (98.03%)\n",
            "\n",
            "EPOCH: 7\n",
            "\n",
            "Test set: Average loss: 0.0425, Accuracy: 9867/10000 (98.67%)\n",
            "\n",
            "EPOCH: 8\n",
            "\n",
            "Test set: Average loss: 0.0692, Accuracy: 9783/10000 (97.83%)\n",
            "\n",
            "EPOCH: 9\n",
            "\n",
            "Test set: Average loss: 0.0401, Accuracy: 9880/10000 (98.80%)\n",
            "\n",
            "EPOCH: 10\n",
            "\n",
            "Test set: Average loss: 0.0437, Accuracy: 9859/10000 (98.59%)\n",
            "\n",
            "EPOCH: 11\n",
            "\n",
            "Test set: Average loss: 0.0827, Accuracy: 9759/10000 (97.59%)\n",
            "\n",
            "EPOCH: 12\n",
            "\n",
            "Test set: Average loss: 0.0553, Accuracy: 9833/10000 (98.33%)\n",
            "\n",
            "EPOCH: 13\n",
            "\n",
            "Test set: Average loss: 0.0355, Accuracy: 9899/10000 (98.99%)\n",
            "\n",
            "EPOCH: 14\n",
            "\n",
            "Test set: Average loss: 0.0410, Accuracy: 9885/10000 (98.85%)\n",
            "\n",
            "EPOCH: 15\n",
            "\n",
            "Test set: Average loss: 0.0637, Accuracy: 9809/10000 (98.09%)\n",
            "\n",
            "EPOCH: 16\n",
            "\n",
            "Test set: Average loss: 0.0550, Accuracy: 9836/10000 (98.36%)\n",
            "\n",
            "EPOCH: 17\n",
            "\n",
            "Test set: Average loss: 0.0398, Accuracy: 9881/10000 (98.81%)\n",
            "\n",
            "EPOCH: 18\n",
            "\n",
            "Test set: Average loss: 0.0647, Accuracy: 9808/10000 (98.08%)\n",
            "\n",
            "EPOCH: 19\n",
            "\n",
            "Test set: Average loss: 0.0519, Accuracy: 9845/10000 (98.45%)\n",
            "\n",
            "EPOCH: 20\n",
            "\n",
            "Test set: Average loss: 0.0480, Accuracy: 9857/10000 (98.57%)\n",
            "\n",
            "EPOCH: 21\n",
            "\n",
            "Test set: Average loss: 0.0406, Accuracy: 9878/10000 (98.78%)\n",
            "\n",
            "EPOCH: 22\n",
            "\n",
            "Test set: Average loss: 0.0404, Accuracy: 9890/10000 (98.90%)\n",
            "\n",
            "EPOCH: 23\n",
            "\n",
            "Test set: Average loss: 0.0418, Accuracy: 9886/10000 (98.86%)\n",
            "\n",
            "EPOCH: 24\n",
            "\n",
            "Test set: Average loss: 0.0458, Accuracy: 9863/10000 (98.63%)\n",
            "\n",
            "EPOCH: 25\n",
            "\n",
            "Test set: Average loss: 0.0465, Accuracy: 9851/10000 (98.51%)\n",
            "\n",
            "EPOCH: 26\n",
            "\n",
            "Test set: Average loss: 0.0402, Accuracy: 9874/10000 (98.74%)\n",
            "\n",
            "EPOCH: 27\n",
            "\n",
            "Test set: Average loss: 0.0593, Accuracy: 9820/10000 (98.20%)\n",
            "\n",
            "EPOCH: 28\n",
            "\n",
            "Test set: Average loss: 0.0557, Accuracy: 9834/10000 (98.34%)\n",
            "\n",
            "EPOCH: 29\n",
            "\n",
            "Test set: Average loss: 0.0747, Accuracy: 9774/10000 (97.74%)\n",
            "\n",
            "EPOCH: 30\n",
            "\n",
            "Test set: Average loss: 0.0373, Accuracy: 9895/10000 (98.95%)\n",
            "\n",
            "EPOCH: 31\n",
            "\n",
            "Test set: Average loss: 0.0593, Accuracy: 9817/10000 (98.17%)\n",
            "\n",
            "EPOCH: 32\n",
            "\n",
            "Test set: Average loss: 0.0336, Accuracy: 9895/10000 (98.95%)\n",
            "\n",
            "EPOCH: 33\n",
            "\n",
            "Test set: Average loss: 0.0546, Accuracy: 9838/10000 (98.38%)\n",
            "\n",
            "EPOCH: 34\n",
            "\n",
            "Test set: Average loss: 0.0463, Accuracy: 9862/10000 (98.62%)\n",
            "\n",
            "EPOCH: 35\n",
            "\n",
            "Test set: Average loss: 0.0491, Accuracy: 9842/10000 (98.42%)\n",
            "\n",
            "EPOCH: 36\n",
            "\n",
            "Test set: Average loss: 0.0571, Accuracy: 9830/10000 (98.30%)\n",
            "\n",
            "EPOCH: 37\n",
            "\n",
            "Test set: Average loss: 0.0366, Accuracy: 9885/10000 (98.85%)\n",
            "\n",
            "EPOCH: 38\n",
            "\n",
            "Test set: Average loss: 0.0622, Accuracy: 9815/10000 (98.15%)\n",
            "\n",
            "EPOCH: 39\n",
            "\n",
            "Test set: Average loss: 0.0397, Accuracy: 9878/10000 (98.78%)\n",
            "\n"
          ],
          "name": "stdout"
        }
      ]
    },
    {
      "cell_type": "markdown",
      "metadata": {
        "id": "866UDg1Oi2Nq",
        "colab_type": "text"
      },
      "source": [
        "## With L2 Regularization"
      ]
    },
    {
      "cell_type": "code",
      "metadata": {
        "id": "_bIeN5wLi7R4",
        "colab_type": "code",
        "outputId": "f836dfbc-be28-4bde-fb33-59865852264a",
        "colab": {
          "base_uri": "https://localhost:8080/",
          "height": 1000
        }
      },
      "source": [
        "from torch.optim.lr_scheduler import StepLR\n",
        "\n",
        "model_3 =  Net().to(device)\n",
        "optimizer = optim.SGD(model_3.parameters(), lr=0.01, momentum=0.9, weight_decay=0.0005)\n",
        "# scheduler = StepLR(optimizer, step_size=8, gamma=0.95)\n",
        "\n",
        "EPOCHS = 40\n",
        "for epoch in range(EPOCHS):\n",
        "    print(\"EPOCH:\", epoch)\n",
        "    train(model_3, device, train_loader, optimizer, epoch, is_L1_loss = False)\n",
        "    # scheduler.step()\n",
        "    test(model_3, device, test_loader, select_list=2)"
      ],
      "execution_count": 0,
      "outputs": [
        {
          "output_type": "stream",
          "text": [
            "EPOCH: 0\n"
          ],
          "name": "stdout"
        },
        {
          "output_type": "stream",
          "text": [
            "/usr/local/lib/python3.6/dist-packages/ipykernel_launcher.py:46: UserWarning: Implicit dimension choice for log_softmax has been deprecated. Change the call to include dim=X as an argument.\n"
          ],
          "name": "stderr"
        },
        {
          "output_type": "stream",
          "text": [
            "\n",
            "Test set: Average loss: 0.0938, Accuracy: 9750/10000 (97.50%)\n",
            "\n",
            "EPOCH: 1\n",
            "\n",
            "Test set: Average loss: 0.0971, Accuracy: 9707/10000 (97.07%)\n",
            "\n",
            "EPOCH: 2\n",
            "\n",
            "Test set: Average loss: 0.0368, Accuracy: 9894/10000 (98.94%)\n",
            "\n",
            "EPOCH: 3\n",
            "\n",
            "Test set: Average loss: 0.0374, Accuracy: 9887/10000 (98.87%)\n",
            "\n",
            "EPOCH: 4\n",
            "\n",
            "Test set: Average loss: 0.0303, Accuracy: 9915/10000 (99.15%)\n",
            "\n",
            "EPOCH: 5\n",
            "\n",
            "Test set: Average loss: 0.0361, Accuracy: 9892/10000 (98.92%)\n",
            "\n",
            "EPOCH: 6\n",
            "\n",
            "Test set: Average loss: 0.0324, Accuracy: 9897/10000 (98.97%)\n",
            "\n",
            "EPOCH: 7\n",
            "\n",
            "Test set: Average loss: 0.0256, Accuracy: 9931/10000 (99.31%)\n",
            "\n",
            "EPOCH: 8\n",
            "\n",
            "Test set: Average loss: 0.0277, Accuracy: 9913/10000 (99.13%)\n",
            "\n",
            "EPOCH: 9\n",
            "\n",
            "Test set: Average loss: 0.0328, Accuracy: 9902/10000 (99.02%)\n",
            "\n",
            "EPOCH: 10\n",
            "\n",
            "Test set: Average loss: 0.0228, Accuracy: 9934/10000 (99.34%)\n",
            "\n",
            "EPOCH: 11\n",
            "\n",
            "Test set: Average loss: 0.0228, Accuracy: 9933/10000 (99.33%)\n",
            "\n",
            "EPOCH: 12\n",
            "\n",
            "Test set: Average loss: 0.0258, Accuracy: 9920/10000 (99.20%)\n",
            "\n",
            "EPOCH: 13\n",
            "\n",
            "Test set: Average loss: 0.0251, Accuracy: 9927/10000 (99.27%)\n",
            "\n",
            "EPOCH: 14\n",
            "\n",
            "Test set: Average loss: 0.0224, Accuracy: 9939/10000 (99.39%)\n",
            "\n",
            "EPOCH: 15\n",
            "\n",
            "Test set: Average loss: 0.0268, Accuracy: 9919/10000 (99.19%)\n",
            "\n",
            "EPOCH: 16\n",
            "\n",
            "Test set: Average loss: 0.0206, Accuracy: 9934/10000 (99.34%)\n",
            "\n",
            "EPOCH: 17\n",
            "\n",
            "Test set: Average loss: 0.0200, Accuracy: 9940/10000 (99.40%)\n",
            "\n",
            "EPOCH: 18\n",
            "\n",
            "Test set: Average loss: 0.0203, Accuracy: 9939/10000 (99.39%)\n",
            "\n",
            "EPOCH: 19\n",
            "\n",
            "Test set: Average loss: 0.0219, Accuracy: 9930/10000 (99.30%)\n",
            "\n",
            "EPOCH: 20\n",
            "\n",
            "Test set: Average loss: 0.0191, Accuracy: 9946/10000 (99.46%)\n",
            "\n",
            "EPOCH: 21\n",
            "\n",
            "Test set: Average loss: 0.0207, Accuracy: 9939/10000 (99.39%)\n",
            "\n",
            "EPOCH: 22\n",
            "\n",
            "Test set: Average loss: 0.0228, Accuracy: 9936/10000 (99.36%)\n",
            "\n",
            "EPOCH: 23\n",
            "\n",
            "Test set: Average loss: 0.0221, Accuracy: 9942/10000 (99.42%)\n",
            "\n",
            "EPOCH: 24\n",
            "\n",
            "Test set: Average loss: 0.0231, Accuracy: 9940/10000 (99.40%)\n",
            "\n",
            "EPOCH: 25\n",
            "\n",
            "Test set: Average loss: 0.0221, Accuracy: 9930/10000 (99.30%)\n",
            "\n",
            "EPOCH: 26\n",
            "\n",
            "Test set: Average loss: 0.0215, Accuracy: 9939/10000 (99.39%)\n",
            "\n",
            "EPOCH: 27\n",
            "\n",
            "Test set: Average loss: 0.0227, Accuracy: 9930/10000 (99.30%)\n",
            "\n",
            "EPOCH: 28\n",
            "\n",
            "Test set: Average loss: 0.0221, Accuracy: 9932/10000 (99.32%)\n",
            "\n",
            "EPOCH: 29\n",
            "\n",
            "Test set: Average loss: 0.0202, Accuracy: 9933/10000 (99.33%)\n",
            "\n",
            "EPOCH: 30\n",
            "\n",
            "Test set: Average loss: 0.0208, Accuracy: 9943/10000 (99.43%)\n",
            "\n",
            "EPOCH: 31\n",
            "\n",
            "Test set: Average loss: 0.0248, Accuracy: 9925/10000 (99.25%)\n",
            "\n",
            "EPOCH: 32\n",
            "\n",
            "Test set: Average loss: 0.0220, Accuracy: 9934/10000 (99.34%)\n",
            "\n",
            "EPOCH: 33\n",
            "\n",
            "Test set: Average loss: 0.0182, Accuracy: 9952/10000 (99.52%)\n",
            "\n",
            "EPOCH: 34\n",
            "\n",
            "Test set: Average loss: 0.0186, Accuracy: 9950/10000 (99.50%)\n",
            "\n",
            "EPOCH: 35\n",
            "\n",
            "Test set: Average loss: 0.0181, Accuracy: 9942/10000 (99.42%)\n",
            "\n",
            "EPOCH: 36\n",
            "\n",
            "Test set: Average loss: 0.0262, Accuracy: 9924/10000 (99.24%)\n",
            "\n",
            "EPOCH: 37\n",
            "\n",
            "Test set: Average loss: 0.0212, Accuracy: 9939/10000 (99.39%)\n",
            "\n",
            "EPOCH: 38\n",
            "\n",
            "Test set: Average loss: 0.0166, Accuracy: 9949/10000 (99.49%)\n",
            "\n",
            "EPOCH: 39\n",
            "\n",
            "Test set: Average loss: 0.0189, Accuracy: 9949/10000 (99.49%)\n",
            "\n"
          ],
          "name": "stdout"
        }
      ]
    },
    {
      "cell_type": "markdown",
      "metadata": {
        "id": "rmjCJPwli97x",
        "colab_type": "text"
      },
      "source": [
        "## With both L1 and L2 Regularization"
      ]
    },
    {
      "cell_type": "code",
      "metadata": {
        "id": "GQnHAVdni9pQ",
        "colab_type": "code",
        "outputId": "69595fc1-5629-4b11-f89b-908448cb0ed8",
        "colab": {
          "base_uri": "https://localhost:8080/",
          "height": 1000
        }
      },
      "source": [
        "from torch.optim.lr_scheduler import StepLR\n",
        "\n",
        "model_4 =  Net().to(device)\n",
        "optimizer = optim.SGD(model_4.parameters(), lr=0.01, momentum=0.9, weight_decay=0.0005)\n",
        "# scheduler = StepLR(optimizer, step_size=8, gamma=0.95)\n",
        "\n",
        "EPOCHS = 40\n",
        "for epoch in range(EPOCHS):\n",
        "    print(\"EPOCH:\", epoch)\n",
        "    train(model_4, device, train_loader, optimizer, epoch, is_L1_loss=True)\n",
        "    # scheduler.step()\n",
        "    test(model_4, device, test_loader, select_list=3)"
      ],
      "execution_count": 0,
      "outputs": [
        {
          "output_type": "stream",
          "text": [
            "EPOCH: 0\n"
          ],
          "name": "stdout"
        },
        {
          "output_type": "stream",
          "text": [
            "/usr/local/lib/python3.6/dist-packages/ipykernel_launcher.py:46: UserWarning: Implicit dimension choice for log_softmax has been deprecated. Change the call to include dim=X as an argument.\n",
            "/usr/local/lib/python3.6/dist-packages/torch/nn/_reduction.py:43: UserWarning: size_average and reduce args will be deprecated, please use reduction='sum' instead.\n",
            "  warnings.warn(warning.format(ret))\n"
          ],
          "name": "stderr"
        },
        {
          "output_type": "stream",
          "text": [
            "\n",
            "Test set: Average loss: 0.0783, Accuracy: 9810/10000 (98.10%)\n",
            "\n",
            "EPOCH: 1\n",
            "\n",
            "Test set: Average loss: 0.1055, Accuracy: 9708/10000 (97.08%)\n",
            "\n",
            "EPOCH: 2\n",
            "\n",
            "Test set: Average loss: 0.0495, Accuracy: 9872/10000 (98.72%)\n",
            "\n",
            "EPOCH: 3\n",
            "\n",
            "Test set: Average loss: 0.0794, Accuracy: 9780/10000 (97.80%)\n",
            "\n",
            "EPOCH: 4\n",
            "\n",
            "Test set: Average loss: 0.0710, Accuracy: 9800/10000 (98.00%)\n",
            "\n",
            "EPOCH: 5\n",
            "\n",
            "Test set: Average loss: 0.0609, Accuracy: 9838/10000 (98.38%)\n",
            "\n",
            "EPOCH: 6\n",
            "\n",
            "Test set: Average loss: 0.0386, Accuracy: 9908/10000 (99.08%)\n",
            "\n",
            "EPOCH: 7\n",
            "\n",
            "Test set: Average loss: 0.0458, Accuracy: 9873/10000 (98.73%)\n",
            "\n",
            "EPOCH: 8\n",
            "\n",
            "Test set: Average loss: 0.0427, Accuracy: 9880/10000 (98.80%)\n",
            "\n",
            "EPOCH: 9\n",
            "\n",
            "Test set: Average loss: 0.0485, Accuracy: 9877/10000 (98.77%)\n",
            "\n",
            "EPOCH: 10\n",
            "\n",
            "Test set: Average loss: 0.0431, Accuracy: 9892/10000 (98.92%)\n",
            "\n",
            "EPOCH: 11\n",
            "\n",
            "Test set: Average loss: 0.0487, Accuracy: 9862/10000 (98.62%)\n",
            "\n",
            "EPOCH: 12\n",
            "\n",
            "Test set: Average loss: 0.0414, Accuracy: 9881/10000 (98.81%)\n",
            "\n",
            "EPOCH: 13\n",
            "\n",
            "Test set: Average loss: 0.0504, Accuracy: 9866/10000 (98.66%)\n",
            "\n",
            "EPOCH: 14\n",
            "\n",
            "Test set: Average loss: 0.0439, Accuracy: 9868/10000 (98.68%)\n",
            "\n",
            "EPOCH: 15\n",
            "\n",
            "Test set: Average loss: 0.0388, Accuracy: 9886/10000 (98.86%)\n",
            "\n",
            "EPOCH: 16\n",
            "\n",
            "Test set: Average loss: 0.0356, Accuracy: 9900/10000 (99.00%)\n",
            "\n",
            "EPOCH: 17\n",
            "\n",
            "Test set: Average loss: 0.0373, Accuracy: 9892/10000 (98.92%)\n",
            "\n",
            "EPOCH: 18\n",
            "\n",
            "Test set: Average loss: 0.0500, Accuracy: 9851/10000 (98.51%)\n",
            "\n",
            "EPOCH: 19\n",
            "\n",
            "Test set: Average loss: 0.0579, Accuracy: 9817/10000 (98.17%)\n",
            "\n",
            "EPOCH: 20\n",
            "\n",
            "Test set: Average loss: 0.0447, Accuracy: 9868/10000 (98.68%)\n",
            "\n",
            "EPOCH: 21\n",
            "\n",
            "Test set: Average loss: 0.0442, Accuracy: 9869/10000 (98.69%)\n",
            "\n",
            "EPOCH: 22\n",
            "\n",
            "Test set: Average loss: 0.0568, Accuracy: 9840/10000 (98.40%)\n",
            "\n",
            "EPOCH: 23\n",
            "\n",
            "Test set: Average loss: 0.0507, Accuracy: 9858/10000 (98.58%)\n",
            "\n",
            "EPOCH: 24\n",
            "\n",
            "Test set: Average loss: 0.0454, Accuracy: 9876/10000 (98.76%)\n",
            "\n",
            "EPOCH: 25\n",
            "\n",
            "Test set: Average loss: 0.0455, Accuracy: 9870/10000 (98.70%)\n",
            "\n",
            "EPOCH: 26\n",
            "\n",
            "Test set: Average loss: 0.0551, Accuracy: 9834/10000 (98.34%)\n",
            "\n",
            "EPOCH: 27\n",
            "\n",
            "Test set: Average loss: 0.0460, Accuracy: 9862/10000 (98.62%)\n",
            "\n",
            "EPOCH: 28\n",
            "\n",
            "Test set: Average loss: 0.0497, Accuracy: 9848/10000 (98.48%)\n",
            "\n",
            "EPOCH: 29\n",
            "\n",
            "Test set: Average loss: 0.0675, Accuracy: 9800/10000 (98.00%)\n",
            "\n",
            "EPOCH: 30\n",
            "\n",
            "Test set: Average loss: 0.0894, Accuracy: 9716/10000 (97.16%)\n",
            "\n",
            "EPOCH: 31\n",
            "\n",
            "Test set: Average loss: 0.0518, Accuracy: 9848/10000 (98.48%)\n",
            "\n",
            "EPOCH: 32\n",
            "\n",
            "Test set: Average loss: 0.0432, Accuracy: 9866/10000 (98.66%)\n",
            "\n",
            "EPOCH: 33\n",
            "\n",
            "Test set: Average loss: 0.0462, Accuracy: 9861/10000 (98.61%)\n",
            "\n",
            "EPOCH: 34\n",
            "\n",
            "Test set: Average loss: 0.0419, Accuracy: 9882/10000 (98.82%)\n",
            "\n",
            "EPOCH: 35\n",
            "\n",
            "Test set: Average loss: 0.0467, Accuracy: 9860/10000 (98.60%)\n",
            "\n",
            "EPOCH: 36\n",
            "\n",
            "Test set: Average loss: 0.0478, Accuracy: 9868/10000 (98.68%)\n",
            "\n",
            "EPOCH: 37\n",
            "\n",
            "Test set: Average loss: 0.0408, Accuracy: 9883/10000 (98.83%)\n",
            "\n",
            "EPOCH: 38\n",
            "\n",
            "Test set: Average loss: 0.0500, Accuracy: 9861/10000 (98.61%)\n",
            "\n",
            "EPOCH: 39\n",
            "\n",
            "Test set: Average loss: 0.0395, Accuracy: 9883/10000 (98.83%)\n",
            "\n"
          ],
          "name": "stdout"
        }
      ]
    },
    {
      "cell_type": "markdown",
      "metadata": {
        "id": "qghWmjUuVyQX",
        "colab_type": "text"
      },
      "source": [
        "# Plots\n"
      ]
    },
    {
      "cell_type": "code",
      "metadata": {
        "id": "SFbE8WC_V1mK",
        "colab_type": "code",
        "outputId": "f753caae-f860-4abf-cfb5-417a1043ebb6",
        "colab": {
          "base_uri": "https://localhost:8080/",
          "height": 573
        }
      },
      "source": [
        "# summarize history for accuracy\n",
        "plt.plot(test_losses[0])\n",
        "plt.plot(test_losses[1])\n",
        "plt.plot(test_losses[2])\n",
        "plt.plot(test_losses[3])\n",
        "\n",
        "plt.title('Model Loss')\n",
        "plt.ylabel('Loss')\n",
        "plt.xlabel('epoch')\n",
        "plt.legend(['Plain', 'L1', 'L2', 'L1+L2'], loc='best')\n",
        "plt.show()\n",
        "\n",
        "# summarize history for loss\n",
        "plt.plot(test_acc[0])\n",
        "plt.plot(test_acc[1])\n",
        "plt.plot(test_acc[2])\n",
        "plt.plot(test_acc[3])\n",
        "\n",
        "plt.title('Model Accuracy')\n",
        "plt.ylabel('Accuracy')\n",
        "plt.xlabel('epoch')\n",
        "plt.legend(['Plain', 'L1', 'L2', 'L1+L2'], loc='best')\n",
        "plt.show()"
      ],
      "execution_count": 0,
      "outputs": [
        {
          "output_type": "display_data",
          "data": {
            "image/png": "[encoded data removed]",
            "text/plain": [
              "<Figure size 432x288 with 1 Axes>"
            ]
          },
          "metadata": {
            "tags": []
          }
        },
        {
          "output_type": "display_data",
          "data": {
            "image/png": "[encoded data removed]",
            "text/plain": [
              "<Figure size 432x288 with 1 Axes>"
            ]
          },
          "metadata": {
            "tags": []
          }
        }
      ]
    },
    {
      "cell_type": "markdown",
      "metadata": {
        "id": "GQPC53WQCbS8",
        "colab_type": "text"
      },
      "source": [
        "## Misclassfied images"
      ]
    },
    {
      "cell_type": "code",
      "metadata": {
        "id": "kJtq-1gmX0qM",
        "colab_type": "code",
        "outputId": "99acc18a-e4ca-4644-eb4a-03eac61f981d",
        "colab": {
          "base_uri": "https://localhost:8080/",
          "height": 34
        }
      },
      "source": [
        "my_misclassified_images = torch.rand(25,28,28) * 0\n",
        "ground_truth = torch.rand(25,1)*0\n",
        "classified_lie = torch.rand(25,1)*0\n",
        "num_false_images = 0\n",
        "\n",
        "def mis_classfied(model, device, test_loader):\n",
        "    global num_false_images\n",
        "    global ground_truth\n",
        "    global classified_lie\n",
        "    \n",
        "    model.eval()\n",
        "\n",
        "    with torch.no_grad():\n",
        "        for data, target in test_loader:\n",
        "            data, target = data.to(device), target.to(device)\n",
        "            output = model(data)\n",
        "            pred = output.argmax(dim=1, keepdim=True)  # get the index of the max log-probability\n",
        "            false_picker = torch.flatten(pred)-target\n",
        "            index = 0\n",
        "            for val in false_picker:\n",
        "                if (val != 0):\n",
        "                    my_misclassified_images[num_false_images] = data[index, 0, :, :]\n",
        "                    ground_truth[num_false_images] = target[index]\n",
        "                    classified_lie[num_false_images] = pred[index]\n",
        "                    num_false_images = num_false_images + 1\n",
        "                    if (num_false_images >= 25): \n",
        "                        break\n",
        "\n",
        "                index = index + 1\n",
        "               \n",
        "            if (num_false_images >= 25):\n",
        "                  break\n",
        "\n",
        "\n",
        "mis_classfied(model_1, device, test_loader)"
      ],
      "execution_count": 234,
      "outputs": [
        {
          "output_type": "stream",
          "text": [
            "/usr/local/lib/python3.6/dist-packages/ipykernel_launcher.py:46: UserWarning: Implicit dimension choice for log_softmax has been deprecated. Change the call to include dim=X as an argument.\n"
          ],
          "name": "stderr"
        }
      ]
    },
    {
      "cell_type": "code",
      "metadata": {
        "id": "2BnSiMaIxrLf",
        "colab_type": "code",
        "outputId": "0a832ed7-a851-4e93-bef8-b93b4f1196c8",
        "colab": {
          "base_uri": "https://localhost:8080/",
          "height": 716
        }
      },
      "source": [
        "num_img_rows = 5\n",
        "num_img_cols = 5\n",
        "\n",
        "fig = plt.figure()\n",
        "fig.set_figheight(10)\n",
        "fig.set_figwidth(10)\n",
        "\n",
        "for i in range(25):\n",
        "  plt.subplot(5,5,i+1)\n",
        "  plt.tight_layout()\n",
        "  plt.imshow(my_misclassified_images[i,:,:], cmap='gray', interpolation='none')\n",
        "  plt.title(\"GT:{}, Pred:{}\".format(ground_truth[i].numpy(), classified_lie[i].numpy()))\n",
        "  plt.xticks([])\n",
        "  plt.yticks([])\n"
      ],
      "execution_count": 235,
      "outputs": [
        {
          "output_type": "display_data",
          "data": {
            "image/png": "[encoded data removed]",
            "text/plain": [
              "<Figure size 720x720 with 25 Axes>"
            ]
          },
          "metadata": {
            "tags": []
          }
        }
      ]
    }
  ]
}