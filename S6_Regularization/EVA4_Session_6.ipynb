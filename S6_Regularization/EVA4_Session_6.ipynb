{
  "nbformat": 4,
  "nbformat_minor": 0,
  "metadata": {
    "colab": {
      "name": "EVA4-Session 6.ipynb",
      "provenance": [],
      "collapsed_sections": [],
      "include_colab_link": true
    },
    "kernelspec": {
      "name": "python3",
      "display_name": "Python 3"
    },
    "accelerator": "GPU",
    "widgets": {
      "application/vnd.jupyter.widget-state+json": {
        "946e5ed3dd714ac685a9dd0e3ab9fa43": {
          "model_module": "@jupyter-widgets/controls",
          "model_name": "HBoxModel",
          "state": {
            "_view_name": "HBoxView",
            "_dom_classes": [],
            "_model_name": "HBoxModel",
            "_view_module": "@jupyter-widgets/controls",
            "_model_module_version": "1.5.0",
            "_view_count": null,
            "_view_module_version": "1.5.0",
            "box_style": "",
            "layout": "IPY_MODEL_31dfb7b997554efbb3c4136157ee07a9",
            "_model_module": "@jupyter-widgets/controls",
            "children": [
              "IPY_MODEL_04da8a89000d4551ba2a353c9e6e013f",
              "IPY_MODEL_0f1b2d1811974c54879c0999f47f1b65"
            ]
          }
        },
        "1818dd3c306242d0bc1fb6a6bb48c82a": {
          "model_module": "@jupyter-widgets/controls",
          "model_name": "HBoxModel",
          "state": {
            "_view_name": "HBoxView",
            "_dom_classes": [],
            "_model_name": "HBoxModel",
            "_view_module": "@jupyter-widgets/controls",
            "_model_module_version": "1.5.0",
            "_view_count": null,
            "_view_module_version": "1.5.0",
            "box_style": "",
            "layout": "IPY_MODEL_4df6334d76634d8c8f3af046cb50b164",
            "_model_module": "@jupyter-widgets/controls",
            "children": [
              "IPY_MODEL_a4e1e97078864678884d15254e25cf8b",
              "IPY_MODEL_f205cc2e7c6a419d84bbaacb6cc17b00"
            ]
          }
        },
        "3431372ce89942debffb8112191abca8": {
          "model_module": "@jupyter-widgets/controls",
          "model_name": "HBoxModel",
          "state": {
            "_view_name": "HBoxView",
            "_dom_classes": [],
            "_model_name": "HBoxModel",
            "_view_module": "@jupyter-widgets/controls",
            "_model_module_version": "1.5.0",
            "_view_count": null,
            "_view_module_version": "1.5.0",
            "box_style": "",
            "layout": "IPY_MODEL_a1a5263a89fc4c7cb75a16d7eed20ec1",
            "_model_module": "@jupyter-widgets/controls",
            "children": [
              "IPY_MODEL_db1bb5c7d98e4d06b5e7304bf6ad5ce7",
              "IPY_MODEL_9e5186ea4cf1495eb02c97c7db0c1655"
            ]
          }
        },
        "956dba663b294b4ca744e87ed61211b2": {
          "model_module": "@jupyter-widgets/controls",
          "model_name": "HBoxModel",
          "state": {
            "_view_name": "HBoxView",
            "_dom_classes": [],
            "_model_name": "HBoxModel",
            "_view_module": "@jupyter-widgets/controls",
            "_model_module_version": "1.5.0",
            "_view_count": null,
            "_view_module_version": "1.5.0",
            "box_style": "",
            "layout": "IPY_MODEL_0534c0aeccce4ddc98c16d6937021a7d",
            "_model_module": "@jupyter-widgets/controls",
            "children": [
              "IPY_MODEL_8d6a7925191f4600896ab51f1d92078d",
              "IPY_MODEL_1c573063108a4af9b3d41d68e2067a10"
            ]
          }
        }
      }
    }
  },
  "cells": [
    {
      "cell_type": "markdown",
      "metadata": {
        "id": "view-in-github",
        "colab_type": "text"
      },
      "source": [
        "<a href=\"https://colab.research.google.com/github/aravindchakravarti/Deep_Learning_EVA_4/blob/master/S6_Regularization/EVA4_Session_6.ipynb\" target=\"_parent\"><img src=\"https://colab.research.google.com/assets/colab-badge.svg\" alt=\"Open In Colab\"/></a>"
      ]
    },
    {
      "cell_type": "markdown",
      "metadata": {
        "id": "6L2W2qcOINo8",
        "colab_type": "text"
      },
      "source": [
        "# Import Libraries"
      ]
    },
    {
      "cell_type": "code",
      "metadata": {
        "id": "0m2JWFliFfKT",
        "colab_type": "code",
        "colab": {}
      },
      "source": [
        "from __future__ import print_function\n",
        "import torch\n",
        "# Import core module\n",
        "import torch.nn as nn\n",
        "# We need support for functional programming\n",
        "import torch.nn.functional as F\n",
        "import torch.optim as optim\n",
        "# For MNIST dataset\n",
        "from torchvision import datasets, transforms\n",
        "# For Global Average Pooling\n",
        "from torch.nn import AvgPool2d\n",
        "# Plotting purpose\n",
        "%matplotlib inline\n",
        "import matplotlib.pyplot as plt"
      ],
      "execution_count": 0,
      "outputs": []
    },
    {
      "cell_type": "markdown",
      "metadata": {
        "id": "M6uKcwclITyH",
        "colab_type": "text"
      },
      "source": [
        "# Data Transformations\n",
        "We first start with defining our data transformations. Image augmentation techniques are great and we need to keep it ready by the time we hit overfitting!"
      ]
    },
    {
      "cell_type": "code",
      "metadata": {
        "id": "dycRAYR2Inxv",
        "colab_type": "code",
        "colab": {}
      },
      "source": [
        "# Train Phase transformations\n",
        "train_transforms = transforms.Compose([\n",
        "                                      #  transforms.Resize((28, 28)),\n",
        "                                      #  transforms.ColorJitter(brightness=0.10, contrast=0.1, saturation=0.10, hue=0.1),\n",
        "                                      #  transforms.RandomRotation((-7.0, 7.0), fill=(1,)),\n",
        "                                       transforms.RandomAffine(degrees=10, shear = 10),\n",
        "                                       transforms.ToTensor(),\n",
        "                                       transforms.Normalize((0.1307,), (0.3081,)) # The mean and std have to be sequences (e.g., tuples), therefore you should add a comma after the values. \n",
        "                                       # Note the difference between (0.1307) and (0.1307,)\n",
        "                                       ])\n",
        "\n",
        "# Test Phase transformations\n",
        "test_transforms = transforms.Compose([\n",
        "                                      #  transforms.Resize((28, 28)),\n",
        "                                      #  transforms.ColorJitter(brightness=0.10, contrast=0.1, saturation=0.10, hue=0.1),\n",
        "                                       transforms.ToTensor(),\n",
        "                                       transforms.Normalize((0.1307,), (0.3081,))\n",
        "                                       ])\n"
      ],
      "execution_count": 0,
      "outputs": []
    },
    {
      "cell_type": "markdown",
      "metadata": {
        "id": "LZ_-IJPUI0yU",
        "colab_type": "text"
      },
      "source": [
        "# Dataset and Creating Train and Test Split"
      ]
    },
    {
      "cell_type": "code",
      "metadata": {
        "id": "jPhcenY6Ivf5",
        "colab_type": "code",
        "colab": {
          "base_uri": "https://localhost:8080/",
          "height": 255,
          "referenced_widgets": [
            "946e5ed3dd714ac685a9dd0e3ab9fa43",
            "1818dd3c306242d0bc1fb6a6bb48c82a",
            "3431372ce89942debffb8112191abca8",
            "956dba663b294b4ca744e87ed61211b2"
          ]
        },
        "outputId": "ffcf6c47-ed55-4129-d1a0-80bed405d180"
      },
      "source": [
        "train = datasets.MNIST('./data', train=True, download=True, transform=train_transforms)\n",
        "test = datasets.MNIST('./data', train=False, download=True, transform=test_transforms)"
      ],
      "execution_count": 3,
      "outputs": [
        {
          "output_type": "stream",
          "text": [
            "Downloading http://yann.lecun.com/exdb/mnist/train-images-idx3-ubyte.gz to ./data/MNIST/raw/train-images-idx3-ubyte.gz\n"
          ],
          "name": "stdout"
        },
        {
          "output_type": "display_data",
          "data": {
            "application/vnd.jupyter.widget-view+json": {
              "model_id": "946e5ed3dd714ac685a9dd0e3ab9fa43",
              "version_minor": 0,
              "version_major": 2
            },
            "text/plain": [
              "HBox(children=(IntProgress(value=1, bar_style='info', max=1), HTML(value='')))"
            ]
          },
          "metadata": {
            "tags": []
          }
        },
        {
          "output_type": "stream",
          "text": [
            "\n",
            "Extracting ./data/MNIST/raw/train-images-idx3-ubyte.gz to ./data/MNIST/raw\n",
            "Downloading http://yann.lecun.com/exdb/mnist/train-labels-idx1-ubyte.gz to ./data/MNIST/raw/train-labels-idx1-ubyte.gz\n"
          ],
          "name": "stdout"
        },
        {
          "output_type": "display_data",
          "data": {
            "application/vnd.jupyter.widget-view+json": {
              "model_id": "1818dd3c306242d0bc1fb6a6bb48c82a",
              "version_minor": 0,
              "version_major": 2
            },
            "text/plain": [
              "HBox(children=(IntProgress(value=1, bar_style='info', max=1), HTML(value='')))"
            ]
          },
          "metadata": {
            "tags": []
          }
        },
        {
          "output_type": "stream",
          "text": [
            "\n",
            "Extracting ./data/MNIST/raw/train-labels-idx1-ubyte.gz to ./data/MNIST/raw\n",
            "Downloading http://yann.lecun.com/exdb/mnist/t10k-images-idx3-ubyte.gz to ./data/MNIST/raw/t10k-images-idx3-ubyte.gz\n"
          ],
          "name": "stdout"
        },
        {
          "output_type": "display_data",
          "data": {
            "application/vnd.jupyter.widget-view+json": {
              "model_id": "3431372ce89942debffb8112191abca8",
              "version_minor": 0,
              "version_major": 2
            },
            "text/plain": [
              "HBox(children=(IntProgress(value=1, bar_style='info', max=1), HTML(value='')))"
            ]
          },
          "metadata": {
            "tags": []
          }
        },
        {
          "output_type": "stream",
          "text": [
            "\n",
            "Extracting ./data/MNIST/raw/t10k-images-idx3-ubyte.gz to ./data/MNIST/raw\n",
            "Downloading http://yann.lecun.com/exdb/mnist/t10k-labels-idx1-ubyte.gz to ./data/MNIST/raw/t10k-labels-idx1-ubyte.gz\n"
          ],
          "name": "stdout"
        },
        {
          "output_type": "display_data",
          "data": {
            "application/vnd.jupyter.widget-view+json": {
              "model_id": "956dba663b294b4ca744e87ed61211b2",
              "version_minor": 0,
              "version_major": 2
            },
            "text/plain": [
              "HBox(children=(IntProgress(value=1, bar_style='info', max=1), HTML(value='')))"
            ]
          },
          "metadata": {
            "tags": []
          }
        },
        {
          "output_type": "stream",
          "text": [
            "\n",
            "Extracting ./data/MNIST/raw/t10k-labels-idx1-ubyte.gz to ./data/MNIST/raw\n",
            "Processing...\n",
            "Done!\n"
          ],
          "name": "stdout"
        }
      ]
    },
    {
      "cell_type": "markdown",
      "metadata": {
        "id": "5DehiSB9I8yb",
        "colab_type": "text"
      },
      "source": [
        "# Dataloader Arguments & Test/Train Dataloaders"
      ]
    },
    {
      "cell_type": "code",
      "metadata": {
        "id": "0fn7LY1PJC1c",
        "colab_type": "code",
        "outputId": "5b97281f-b972-4954-8538-8f8d0848e952",
        "colab": {
          "base_uri": "https://localhost:8080/",
          "height": 34
        }
      },
      "source": [
        "# SEED = 1\n",
        "\n",
        "# CUDA?\n",
        "cuda = torch.cuda.is_available()\n",
        "print(\"CUDA Available?\", cuda)\n",
        "\n",
        "# For reproducibility\n",
        "# torch.manual_seed(SEED)\n",
        "\n",
        "#if cuda:\n",
        "#    torch.cuda.manual_seed(SEED)\n",
        "\n",
        "# dataloader arguments - something you'll fetch these from cmdprmt\n",
        "dataloader_args = dict(shuffle=True, batch_size=128, num_workers=4, pin_memory=True) if cuda else dict(shuffle=True, batch_size=64)\n",
        "\n",
        "# train dataloader\n",
        "train_loader = torch.utils.data.DataLoader(train, **dataloader_args)\n",
        "\n",
        "# test dataloader\n",
        "test_loader = torch.utils.data.DataLoader(test, **dataloader_args)"
      ],
      "execution_count": 4,
      "outputs": [
        {
          "output_type": "stream",
          "text": [
            "CUDA Available? True\n"
          ],
          "name": "stdout"
        }
      ]
    },
    {
      "cell_type": "markdown",
      "metadata": {
        "id": "ua9WmYbnJMVn",
        "colab_type": "text"
      },
      "source": [
        "# The Model\n",
        "\u0010\n",
        "I like the model definition like below, not with nn.Sequential() way. So, I am going to keep it same "
      ]
    },
    {
      "cell_type": "code",
      "metadata": {
        "id": "h_Cx9q2QFgM7",
        "colab_type": "code",
        "colab": {}
      },
      "source": [
        "class Net(nn.Module):\n",
        "    def __init__(self):\n",
        "        super(Net, self).__init__()\n",
        "        self.conv01 = nn.Conv2d(1, 6, 3, bias=False, padding=1)        #O=28\n",
        "        self.batch01 = nn.BatchNorm2d(num_features=6)    \n",
        "        self.conv02 = nn.Conv2d(6, 8, 3, bias=False,padding=1)        #O=28\n",
        "        self.batch02 = nn.BatchNorm2d(num_features=8)    \n",
        "        self.conv03 = nn.Conv2d(8, 10, 3, bias=False,padding=1)        #O=28\n",
        "        self.batch03 = nn.BatchNorm2d(num_features=10)   \n",
        "        self.conv04 = nn.Conv2d(10, 10, 3, bias=False,padding=0)        #O=26\n",
        "        self.batch04 = nn.BatchNorm2d(num_features=10)   \n",
        "        self.pool01 = nn.MaxPool2d(2, 2)                                #O=13\n",
        "       # self.conv05 = nn.Conv2d(12, 10, 1, bias=False)\n",
        "\n",
        "        self.conv11 = nn.Conv2d(10, 10, 3, bias=False, padding=1)       #O=13\n",
        "        self.batch11 = nn.BatchNorm2d(num_features=10)\n",
        "        self.conv12 = nn.Conv2d(10, 10, 3, bias=False, padding=0)       #O=11\n",
        "        self.batch12 = nn.BatchNorm2d(num_features=10)\n",
        "        self.conv13 = nn.Conv2d(10, 14, 3, bias=False, padding=0)       #O=09\n",
        "        self.batch13 = nn.BatchNorm2d(num_features=14)\n",
        "        self.conv14 = nn.Conv2d(14, 14, 3, bias=False, padding=0)       #O=07\n",
        "        self.batch14 = nn.BatchNorm2d(num_features=14)\n",
        "        self.conv15 = nn.Conv2d(14, 16, 3, bias=False, padding=0)       #O=05\n",
        "        self.batch15 = nn.BatchNorm2d(num_features=16)\n",
        "    \n",
        "        self.avg_pool = nn.AvgPool2d(kernel_size=5)\n",
        "        self.conv23 = nn.Conv2d(16, 10, 1, bias=False, padding=0)\n",
        "\n",
        "    def forward(self, x):\n",
        "        x = self.batch01(F.dropout(F.relu(self.conv01(x)), 0.01))        \n",
        "        x = self.batch02(F.dropout(F.relu(self.conv02(x)), 0.01))\n",
        "        x = self.batch03(F.dropout(F.relu(self.conv03(x)), 0.01))\n",
        "        x = self.batch04(F.dropout(F.relu(self.conv04(x)), 0.01))\n",
        "        x = self.pool01(x)\n",
        "        #x = F.relu(self.conv05(x))\n",
        "\n",
        "        x = self.batch11(F.dropout(F.relu(self.conv11(x)), 0.02))\n",
        "        x = self.batch12(F.dropout(F.relu(self.conv12(x)), 0.02))\n",
        "        x = self.batch13(F.dropout(F.relu(self.conv13(x)), 0.02))\n",
        "        x = self.batch14(F.dropout(F.relu(self.conv14(x)), 0.02))\n",
        "        x = self.batch15(F.dropout(F.relu(self.conv15(x)), 0.02))\n",
        "\n",
        "        x = self.avg_pool(x)\n",
        "        x = F.relu(self.conv23(x))\n",
        "        x = x.view(-1, 10)                           # Don't want 10x1x1..\n",
        "        return F.log_softmax(x)"
      ],
      "execution_count": 0,
      "outputs": []
    },
    {
      "cell_type": "markdown",
      "metadata": {
        "id": "442Nb6MfJPYw",
        "colab_type": "text"
      },
      "source": [
        "# Model Parameters and other details"
      ]
    },
    {
      "cell_type": "code",
      "metadata": {
        "colab_type": "code",
        "id": "xdydjYTZFyi3",
        "outputId": "130c8b17-fff5-4274-ca69-2ec3442ad30a",
        "colab": {
          "base_uri": "https://localhost:8080/",
          "height": 649
        }
      },
      "source": [
        "!pip install torchsummary\n",
        "from torchsummary import summary\n",
        "use_cuda = torch.cuda.is_available()\n",
        "device = torch.device(\"cuda\" if use_cuda else \"cpu\")\n",
        "model = Net().to(device)\n",
        "summary(model, input_size=(1, 28, 28))"
      ],
      "execution_count": 6,
      "outputs": [
        {
          "output_type": "stream",
          "text": [
            "Requirement already satisfied: torchsummary in /usr/local/lib/python3.6/dist-packages (1.5.1)\n",
            "----------------------------------------------------------------\n",
            "        Layer (type)               Output Shape         Param #\n",
            "================================================================\n",
            "            Conv2d-1            [-1, 6, 28, 28]              54\n",
            "       BatchNorm2d-2            [-1, 6, 28, 28]              12\n",
            "            Conv2d-3            [-1, 8, 28, 28]             432\n",
            "       BatchNorm2d-4            [-1, 8, 28, 28]              16\n",
            "            Conv2d-5           [-1, 10, 28, 28]             720\n",
            "       BatchNorm2d-6           [-1, 10, 28, 28]              20\n",
            "            Conv2d-7           [-1, 10, 26, 26]             900\n",
            "       BatchNorm2d-8           [-1, 10, 26, 26]              20\n",
            "         MaxPool2d-9           [-1, 10, 13, 13]               0\n",
            "           Conv2d-10           [-1, 10, 13, 13]             900\n",
            "      BatchNorm2d-11           [-1, 10, 13, 13]              20\n",
            "           Conv2d-12           [-1, 10, 11, 11]             900\n",
            "      BatchNorm2d-13           [-1, 10, 11, 11]              20\n",
            "           Conv2d-14             [-1, 14, 9, 9]           1,260\n",
            "      BatchNorm2d-15             [-1, 14, 9, 9]              28\n",
            "           Conv2d-16             [-1, 14, 7, 7]           1,764\n",
            "      BatchNorm2d-17             [-1, 14, 7, 7]              28\n",
            "           Conv2d-18             [-1, 16, 5, 5]           2,016\n",
            "      BatchNorm2d-19             [-1, 16, 5, 5]              32\n",
            "        AvgPool2d-20             [-1, 16, 1, 1]               0\n",
            "           Conv2d-21             [-1, 10, 1, 1]             160\n",
            "================================================================\n",
            "Total params: 9,302\n",
            "Trainable params: 9,302\n",
            "Non-trainable params: 0\n",
            "----------------------------------------------------------------\n",
            "Input size (MB): 0.00\n",
            "Forward/backward pass size (MB): 0.48\n",
            "Params size (MB): 0.04\n",
            "Estimated Total Size (MB): 0.52\n",
            "----------------------------------------------------------------\n"
          ],
          "name": "stdout"
        },
        {
          "output_type": "stream",
          "text": [
            "/usr/local/lib/python3.6/dist-packages/ipykernel_launcher.py:46: UserWarning: Implicit dimension choice for log_softmax has been deprecated. Change the call to include dim=X as an argument.\n"
          ],
          "name": "stderr"
        }
      ]
    },
    {
      "cell_type": "markdown",
      "metadata": {
        "id": "72dkablCJXgj",
        "colab_type": "text"
      },
      "source": [
        "# Training and Testing\u0010"
      ]
    },
    {
      "cell_type": "code",
      "metadata": {
        "id": "btTqS6AMJUli",
        "colab_type": "code",
        "colab": {}
      },
      "source": [
        "from tqdm import tqdm\n",
        "\n",
        "train_losses = []\n",
        "test_losses = [[],[],[],[]]\n",
        "train_acc = []\n",
        "test_acc = [[],[],[],[]]\n",
        "\n",
        "def train(model, device, train_loader, optimizer, epoch, is_L1_loss = False):\n",
        "  model.train()\n",
        "  #pbar = tqdm(train_loader)\n",
        "  correct = 0\n",
        "  processed = 0\n",
        "  loss = 0  # <- added by Aravind. Probably we should not add? Not sure yet\n",
        "\n",
        "  for batch_idx, (data, target) in enumerate(train_loader):\n",
        "    # get samples\n",
        "    data, target = data.to(device), target.to(device)\n",
        "    \n",
        "    # Init\n",
        "    optimizer.zero_grad()\n",
        "    # In PyTorch, we need to set the gradients to zero before starting to do backpropragation because PyTorch accumulates the gradients on subsequent backward passes. \n",
        "    # Because of this, when you start your training loop, ideally you should zero out the gradients so that you do the parameter update correctly.\n",
        "\n",
        "    # Predict\n",
        "    y_pred = model(data)\n",
        "\n",
        "    reg_loss = 0 \n",
        "\n",
        "    # Calculate loss\n",
        "    loss = F.nll_loss(y_pred, target)\n",
        "\n",
        "    if (is_L1_loss == True):\n",
        "        l1_crit = nn.L1Loss(size_average=False)\n",
        "        for param in model.parameters(): \n",
        "            zero_vector = torch.rand_like(param) * 0\n",
        "            reg_loss += l1_crit(param,zero_vector) \n",
        "\n",
        "        \n",
        "    factor = 0.0005 \n",
        "    loss += factor * reg_loss \n",
        "\n",
        "    train_losses.append(loss)\n",
        "\n",
        "    # Backpropagation\n",
        "    loss.backward()\n",
        "    optimizer.step()\n",
        "\n",
        "    # Update pbar-tqdm\n",
        "    \n",
        "    pred = y_pred.argmax(dim=1, keepdim=True)  # get the index of the max log-probability\n",
        "    correct += pred.eq(target.view_as(pred)).sum().item()\n",
        "    processed += len(data)\n",
        "\n",
        "    #pbar.set_description(desc= f'Loss={loss.item()} Batch_id={batch_idx} Accuracy={100*correct/processed:0.2f}')\n",
        "    train_acc.append(100*correct/processed)\n",
        "\n",
        "def test(model, device, test_loader, select_list = 0):\n",
        "    '''\n",
        "    select_list = 0: Test Loss and Test Accuracy without L1 and L2 regularization\n",
        "    select_list = 1: Test Loss and Test Accuracy with L1 regularization\n",
        "    select_list = 2: Test Loss and Test Accuracy with L2 regularization\n",
        "    select_list = 3: Test Loss and Test Accuracy with L1 and L2 regularization\n",
        "    '''\n",
        "    model.eval()\n",
        "    test_loss = 0\n",
        "    correct = 0\n",
        "    with torch.no_grad():\n",
        "        for data, target in test_loader:\n",
        "            data, target = data.to(device), target.to(device)\n",
        "            output = model(data)\n",
        "            test_loss += F.nll_loss(output, target, reduction='sum').item()  # sum up batch loss\n",
        "            pred = output.argmax(dim=1, keepdim=True)  # get the index of the max log-probability\n",
        "            correct += pred.eq(target.view_as(pred)).sum().item()\n",
        "\n",
        "    test_loss /= len(test_loader.dataset)\n",
        "    test_losses[select_list].append(test_loss)\n",
        "\n",
        "    print('\\nTest set: Average loss: {:.4f}, Accuracy: {}/{} ({:.2f}%)\\n'.format(\n",
        "        test_loss, correct, len(test_loader.dataset),\n",
        "        100. * correct / len(test_loader.dataset)))\n",
        "    \n",
        "    test_acc[select_list].append(100. * correct / len(test_loader.dataset))"
      ],
      "execution_count": 0,
      "outputs": []
    },
    {
      "cell_type": "markdown",
      "metadata": {
        "id": "FZGWOFsvJ4h3",
        "colab_type": "text"
      },
      "source": [
        "# Train the model"
      ]
    },
    {
      "cell_type": "markdown",
      "metadata": {
        "id": "LiX5ehSaf4Gi",
        "colab_type": "text"
      },
      "source": [
        "## Without L1/L2 Regularization "
      ]
    },
    {
      "cell_type": "code",
      "metadata": {
        "id": "fuPalcwBNT6I",
        "colab_type": "code",
        "outputId": "8c1160ba-79f4-4dcc-9790-478cefe4ebec",
        "colab": {
          "base_uri": "https://localhost:8080/",
          "height": 1000
        }
      },
      "source": [
        "from torch.optim.lr_scheduler import StepLR\n",
        "\n",
        "model_1 =  Net().to(device)\n",
        "optimizer = optim.SGD(model_1.parameters(), lr=0.01, momentum=0.9, weight_decay=0)\n",
        "# scheduler = StepLR(optimizer, step_size=8, gamma=0.95)\n",
        "\n",
        "EPOCHS = 40\n",
        "for epoch in range(EPOCHS):\n",
        "    print(\"EPOCH:\", epoch)\n",
        "    train(model_1, device, train_loader, optimizer, epoch, is_L1_loss = False)\n",
        "    # scheduler.step()\n",
        "    test(model_1, device, test_loader, select_list=0)"
      ],
      "execution_count": 8,
      "outputs": [
        {
          "output_type": "stream",
          "text": [
            "EPOCH: 0\n"
          ],
          "name": "stdout"
        },
        {
          "output_type": "stream",
          "text": [
            "/usr/local/lib/python3.6/dist-packages/ipykernel_launcher.py:46: UserWarning: Implicit dimension choice for log_softmax has been deprecated. Change the call to include dim=X as an argument.\n"
          ],
          "name": "stderr"
        },
        {
          "output_type": "stream",
          "text": [
            "\n",
            "Test set: Average loss: 0.0839, Accuracy: 9758/10000 (97.58%)\n",
            "\n",
            "EPOCH: 1\n",
            "\n",
            "Test set: Average loss: 0.0439, Accuracy: 9875/10000 (98.75%)\n",
            "\n",
            "EPOCH: 2\n",
            "\n",
            "Test set: Average loss: 0.0381, Accuracy: 9897/10000 (98.97%)\n",
            "\n",
            "EPOCH: 3\n",
            "\n",
            "Test set: Average loss: 0.0354, Accuracy: 9892/10000 (98.92%)\n",
            "\n",
            "EPOCH: 4\n",
            "\n",
            "Test set: Average loss: 0.0298, Accuracy: 9912/10000 (99.12%)\n",
            "\n",
            "EPOCH: 5\n",
            "\n",
            "Test set: Average loss: 0.0276, Accuracy: 9907/10000 (99.07%)\n",
            "\n",
            "EPOCH: 6\n",
            "\n",
            "Test set: Average loss: 0.0252, Accuracy: 9921/10000 (99.21%)\n",
            "\n",
            "EPOCH: 7\n",
            "\n",
            "Test set: Average loss: 0.0233, Accuracy: 9930/10000 (99.30%)\n",
            "\n",
            "EPOCH: 8\n",
            "\n",
            "Test set: Average loss: 0.0222, Accuracy: 9930/10000 (99.30%)\n",
            "\n",
            "EPOCH: 9\n",
            "\n",
            "Test set: Average loss: 0.0237, Accuracy: 9931/10000 (99.31%)\n",
            "\n",
            "EPOCH: 10\n",
            "\n",
            "Test set: Average loss: 0.0228, Accuracy: 9921/10000 (99.21%)\n",
            "\n",
            "EPOCH: 11\n",
            "\n",
            "Test set: Average loss: 0.0190, Accuracy: 9938/10000 (99.38%)\n",
            "\n",
            "EPOCH: 12\n",
            "\n",
            "Test set: Average loss: 0.0202, Accuracy: 9936/10000 (99.36%)\n",
            "\n",
            "EPOCH: 13\n",
            "\n",
            "Test set: Average loss: 0.0214, Accuracy: 9932/10000 (99.32%)\n",
            "\n",
            "EPOCH: 14\n",
            "\n",
            "Test set: Average loss: 0.0198, Accuracy: 9937/10000 (99.37%)\n",
            "\n",
            "EPOCH: 15\n",
            "\n",
            "Test set: Average loss: 0.0236, Accuracy: 9931/10000 (99.31%)\n",
            "\n",
            "EPOCH: 16\n",
            "\n",
            "Test set: Average loss: 0.0191, Accuracy: 9934/10000 (99.34%)\n",
            "\n",
            "EPOCH: 17\n",
            "\n",
            "Test set: Average loss: 0.0197, Accuracy: 9930/10000 (99.30%)\n",
            "\n",
            "EPOCH: 18\n",
            "\n",
            "Test set: Average loss: 0.0195, Accuracy: 9935/10000 (99.35%)\n",
            "\n",
            "EPOCH: 19\n",
            "\n",
            "Test set: Average loss: 0.0171, Accuracy: 9940/10000 (99.40%)\n",
            "\n",
            "EPOCH: 20\n",
            "\n",
            "Test set: Average loss: 0.0190, Accuracy: 9934/10000 (99.34%)\n",
            "\n",
            "EPOCH: 21\n",
            "\n",
            "Test set: Average loss: 0.0210, Accuracy: 9927/10000 (99.27%)\n",
            "\n",
            "EPOCH: 22\n",
            "\n",
            "Test set: Average loss: 0.0170, Accuracy: 9946/10000 (99.46%)\n",
            "\n",
            "EPOCH: 23\n",
            "\n",
            "Test set: Average loss: 0.0202, Accuracy: 9942/10000 (99.42%)\n",
            "\n",
            "EPOCH: 24\n",
            "\n",
            "Test set: Average loss: 0.0183, Accuracy: 9937/10000 (99.37%)\n",
            "\n",
            "EPOCH: 25\n",
            "\n",
            "Test set: Average loss: 0.0172, Accuracy: 9936/10000 (99.36%)\n",
            "\n",
            "EPOCH: 26\n",
            "\n",
            "Test set: Average loss: 0.0173, Accuracy: 9940/10000 (99.40%)\n",
            "\n",
            "EPOCH: 27\n",
            "\n",
            "Test set: Average loss: 0.0160, Accuracy: 9946/10000 (99.46%)\n",
            "\n",
            "EPOCH: 28\n",
            "\n",
            "Test set: Average loss: 0.0172, Accuracy: 9945/10000 (99.45%)\n",
            "\n",
            "EPOCH: 29\n",
            "\n",
            "Test set: Average loss: 0.0164, Accuracy: 9945/10000 (99.45%)\n",
            "\n",
            "EPOCH: 30\n",
            "\n",
            "Test set: Average loss: 0.0142, Accuracy: 9954/10000 (99.54%)\n",
            "\n",
            "EPOCH: 31\n",
            "\n",
            "Test set: Average loss: 0.0175, Accuracy: 9945/10000 (99.45%)\n",
            "\n",
            "EPOCH: 32\n",
            "\n",
            "Test set: Average loss: 0.0169, Accuracy: 9944/10000 (99.44%)\n",
            "\n",
            "EPOCH: 33\n",
            "\n",
            "Test set: Average loss: 0.0145, Accuracy: 9953/10000 (99.53%)\n",
            "\n",
            "EPOCH: 34\n",
            "\n",
            "Test set: Average loss: 0.0176, Accuracy: 9949/10000 (99.49%)\n",
            "\n",
            "EPOCH: 35\n",
            "\n",
            "Test set: Average loss: 0.0194, Accuracy: 9945/10000 (99.45%)\n",
            "\n",
            "EPOCH: 36\n",
            "\n",
            "Test set: Average loss: 0.0178, Accuracy: 9950/10000 (99.50%)\n",
            "\n",
            "EPOCH: 37\n",
            "\n",
            "Test set: Average loss: 0.0164, Accuracy: 9951/10000 (99.51%)\n",
            "\n",
            "EPOCH: 38\n",
            "\n",
            "Test set: Average loss: 0.0201, Accuracy: 9932/10000 (99.32%)\n",
            "\n",
            "EPOCH: 39\n",
            "\n",
            "Test set: Average loss: 0.0154, Accuracy: 9952/10000 (99.52%)\n",
            "\n"
          ],
          "name": "stdout"
        }
      ]
    },
    {
      "cell_type": "markdown",
      "metadata": {
        "id": "4_Vlr65Aio1Y",
        "colab_type": "text"
      },
      "source": [
        "## With L1 Regularization"
      ]
    },
    {
      "cell_type": "code",
      "metadata": {
        "id": "Ijc7CkJxii8d",
        "colab_type": "code",
        "outputId": "bd84cb60-cd28-4352-acd2-556c17a3a06a",
        "colab": {
          "base_uri": "https://localhost:8080/",
          "height": 1000
        }
      },
      "source": [
        "from torch.optim.lr_scheduler import StepLR\n",
        "\n",
        "model_2 =  Net().to(device)\n",
        "optimizer = optim.SGD(model_2.parameters(), lr=0.01, momentum=0.9, weight_decay=0)\n",
        "# scheduler = StepLR(optimizer, step_size=8, gamma=0.95)\n",
        "\n",
        "EPOCHS = 40\n",
        "for epoch in range(EPOCHS):\n",
        "    print(\"EPOCH:\", epoch)\n",
        "    train(model_2, device, train_loader, optimizer, epoch, is_L1_loss=True)\n",
        "    # scheduler.step()\n",
        "    test(model_2, device, test_loader, select_list=1)"
      ],
      "execution_count": 9,
      "outputs": [
        {
          "output_type": "stream",
          "text": [
            "EPOCH: 0\n"
          ],
          "name": "stdout"
        },
        {
          "output_type": "stream",
          "text": [
            "/usr/local/lib/python3.6/dist-packages/ipykernel_launcher.py:46: UserWarning: Implicit dimension choice for log_softmax has been deprecated. Change the call to include dim=X as an argument.\n",
            "/usr/local/lib/python3.6/dist-packages/torch/nn/_reduction.py:43: UserWarning: size_average and reduce args will be deprecated, please use reduction='sum' instead.\n",
            "  warnings.warn(warning.format(ret))\n"
          ],
          "name": "stderr"
        },
        {
          "output_type": "stream",
          "text": [
            "\n",
            "Test set: Average loss: 0.0912, Accuracy: 9751/10000 (97.51%)\n",
            "\n",
            "EPOCH: 1\n",
            "\n",
            "Test set: Average loss: 0.0576, Accuracy: 9834/10000 (98.34%)\n",
            "\n",
            "EPOCH: 2\n",
            "\n",
            "Test set: Average loss: 0.0472, Accuracy: 9862/10000 (98.62%)\n",
            "\n",
            "EPOCH: 3\n",
            "\n",
            "Test set: Average loss: 0.0516, Accuracy: 9846/10000 (98.46%)\n",
            "\n",
            "EPOCH: 4\n",
            "\n",
            "Test set: Average loss: 0.0542, Accuracy: 9823/10000 (98.23%)\n",
            "\n",
            "EPOCH: 5\n",
            "\n",
            "Test set: Average loss: 0.0482, Accuracy: 9863/10000 (98.63%)\n",
            "\n",
            "EPOCH: 6\n",
            "\n",
            "Test set: Average loss: 0.0466, Accuracy: 9869/10000 (98.69%)\n",
            "\n",
            "EPOCH: 7\n",
            "\n",
            "Test set: Average loss: 0.0542, Accuracy: 9828/10000 (98.28%)\n",
            "\n",
            "EPOCH: 8\n",
            "\n",
            "Test set: Average loss: 0.0504, Accuracy: 9841/10000 (98.41%)\n",
            "\n",
            "EPOCH: 9\n",
            "\n",
            "Test set: Average loss: 0.0400, Accuracy: 9873/10000 (98.73%)\n",
            "\n",
            "EPOCH: 10\n",
            "\n",
            "Test set: Average loss: 0.0512, Accuracy: 9845/10000 (98.45%)\n",
            "\n",
            "EPOCH: 11\n",
            "\n",
            "Test set: Average loss: 0.0579, Accuracy: 9805/10000 (98.05%)\n",
            "\n",
            "EPOCH: 12\n",
            "\n",
            "Test set: Average loss: 0.0362, Accuracy: 9887/10000 (98.87%)\n",
            "\n",
            "EPOCH: 13\n",
            "\n",
            "Test set: Average loss: 0.0435, Accuracy: 9854/10000 (98.54%)\n",
            "\n",
            "EPOCH: 14\n",
            "\n",
            "Test set: Average loss: 0.0431, Accuracy: 9863/10000 (98.63%)\n",
            "\n",
            "EPOCH: 15\n",
            "\n",
            "Test set: Average loss: 0.0358, Accuracy: 9905/10000 (99.05%)\n",
            "\n",
            "EPOCH: 16\n",
            "\n",
            "Test set: Average loss: 0.0415, Accuracy: 9884/10000 (98.84%)\n",
            "\n",
            "EPOCH: 17\n",
            "\n",
            "Test set: Average loss: 0.0389, Accuracy: 9896/10000 (98.96%)\n",
            "\n",
            "EPOCH: 18\n",
            "\n",
            "Test set: Average loss: 0.0386, Accuracy: 9882/10000 (98.82%)\n",
            "\n",
            "EPOCH: 19\n",
            "\n",
            "Test set: Average loss: 0.0423, Accuracy: 9876/10000 (98.76%)\n",
            "\n",
            "EPOCH: 20\n",
            "\n",
            "Test set: Average loss: 0.0414, Accuracy: 9884/10000 (98.84%)\n",
            "\n",
            "EPOCH: 21\n",
            "\n",
            "Test set: Average loss: 0.0342, Accuracy: 9889/10000 (98.89%)\n",
            "\n",
            "EPOCH: 22\n",
            "\n",
            "Test set: Average loss: 0.0398, Accuracy: 9887/10000 (98.87%)\n",
            "\n",
            "EPOCH: 23\n",
            "\n",
            "Test set: Average loss: 0.0386, Accuracy: 9890/10000 (98.90%)\n",
            "\n",
            "EPOCH: 24\n",
            "\n",
            "Test set: Average loss: 0.0364, Accuracy: 9892/10000 (98.92%)\n",
            "\n",
            "EPOCH: 25\n",
            "\n",
            "Test set: Average loss: 0.0615, Accuracy: 9822/10000 (98.22%)\n",
            "\n",
            "EPOCH: 26\n",
            "\n",
            "Test set: Average loss: 0.0366, Accuracy: 9899/10000 (98.99%)\n",
            "\n",
            "EPOCH: 27\n",
            "\n",
            "Test set: Average loss: 0.0340, Accuracy: 9903/10000 (99.03%)\n",
            "\n",
            "EPOCH: 28\n",
            "\n",
            "Test set: Average loss: 0.0359, Accuracy: 9887/10000 (98.87%)\n",
            "\n",
            "EPOCH: 29\n",
            "\n",
            "Test set: Average loss: 0.0461, Accuracy: 9869/10000 (98.69%)\n",
            "\n",
            "EPOCH: 30\n",
            "\n",
            "Test set: Average loss: 0.0400, Accuracy: 9875/10000 (98.75%)\n",
            "\n",
            "EPOCH: 31\n",
            "\n",
            "Test set: Average loss: 0.0492, Accuracy: 9853/10000 (98.53%)\n",
            "\n",
            "EPOCH: 32\n",
            "\n",
            "Test set: Average loss: 0.0357, Accuracy: 9886/10000 (98.86%)\n",
            "\n",
            "EPOCH: 33\n",
            "\n",
            "Test set: Average loss: 0.0469, Accuracy: 9859/10000 (98.59%)\n",
            "\n",
            "EPOCH: 34\n",
            "\n",
            "Test set: Average loss: 0.0494, Accuracy: 9860/10000 (98.60%)\n",
            "\n",
            "EPOCH: 35\n",
            "\n",
            "Test set: Average loss: 0.0425, Accuracy: 9868/10000 (98.68%)\n",
            "\n",
            "EPOCH: 36\n",
            "\n",
            "Test set: Average loss: 0.0464, Accuracy: 9863/10000 (98.63%)\n",
            "\n",
            "EPOCH: 37\n",
            "\n",
            "Test set: Average loss: 0.0437, Accuracy: 9871/10000 (98.71%)\n",
            "\n",
            "EPOCH: 38\n",
            "\n",
            "Test set: Average loss: 0.0681, Accuracy: 9794/10000 (97.94%)\n",
            "\n",
            "EPOCH: 39\n",
            "\n",
            "Test set: Average loss: 0.0287, Accuracy: 9909/10000 (99.09%)\n",
            "\n"
          ],
          "name": "stdout"
        }
      ]
    },
    {
      "cell_type": "markdown",
      "metadata": {
        "id": "866UDg1Oi2Nq",
        "colab_type": "text"
      },
      "source": [
        "## With L2 Regularization"
      ]
    },
    {
      "cell_type": "code",
      "metadata": {
        "id": "_bIeN5wLi7R4",
        "colab_type": "code",
        "outputId": "942185c8-28ee-44ff-80d1-879e1b6008da",
        "colab": {
          "base_uri": "https://localhost:8080/",
          "height": 1000
        }
      },
      "source": [
        "from torch.optim.lr_scheduler import StepLR\n",
        "\n",
        "model_3 =  Net().to(device)\n",
        "optimizer = optim.SGD(model_3.parameters(), lr=0.01, momentum=0.9, weight_decay=0.0005)\n",
        "# scheduler = StepLR(optimizer, step_size=8, gamma=0.95)\n",
        "\n",
        "EPOCHS = 40\n",
        "for epoch in range(EPOCHS):\n",
        "    print(\"EPOCH:\", epoch)\n",
        "    train(model_3, device, train_loader, optimizer, epoch, is_L1_loss = False)\n",
        "    # scheduler.step()\n",
        "    test(model_3, device, test_loader, select_list=2)"
      ],
      "execution_count": 10,
      "outputs": [
        {
          "output_type": "stream",
          "text": [
            "EPOCH: 0\n"
          ],
          "name": "stdout"
        },
        {
          "output_type": "stream",
          "text": [
            "/usr/local/lib/python3.6/dist-packages/ipykernel_launcher.py:46: UserWarning: Implicit dimension choice for log_softmax has been deprecated. Change the call to include dim=X as an argument.\n"
          ],
          "name": "stderr"
        },
        {
          "output_type": "stream",
          "text": [
            "\n",
            "Test set: Average loss: 0.0894, Accuracy: 9753/10000 (97.53%)\n",
            "\n",
            "EPOCH: 1\n",
            "\n",
            "Test set: Average loss: 0.0442, Accuracy: 9877/10000 (98.77%)\n",
            "\n",
            "EPOCH: 2\n",
            "\n",
            "Test set: Average loss: 0.0464, Accuracy: 9867/10000 (98.67%)\n",
            "\n",
            "EPOCH: 3\n",
            "\n",
            "Test set: Average loss: 0.0406, Accuracy: 9879/10000 (98.79%)\n",
            "\n",
            "EPOCH: 4\n",
            "\n",
            "Test set: Average loss: 0.0287, Accuracy: 9914/10000 (99.14%)\n",
            "\n",
            "EPOCH: 5\n",
            "\n",
            "Test set: Average loss: 0.0289, Accuracy: 9912/10000 (99.12%)\n",
            "\n",
            "EPOCH: 6\n",
            "\n",
            "Test set: Average loss: 0.0283, Accuracy: 9924/10000 (99.24%)\n",
            "\n",
            "EPOCH: 7\n",
            "\n",
            "Test set: Average loss: 0.0388, Accuracy: 9881/10000 (98.81%)\n",
            "\n",
            "EPOCH: 8\n",
            "\n",
            "Test set: Average loss: 0.0222, Accuracy: 9938/10000 (99.38%)\n",
            "\n",
            "EPOCH: 9\n",
            "\n",
            "Test set: Average loss: 0.0286, Accuracy: 9918/10000 (99.18%)\n",
            "\n",
            "EPOCH: 10\n",
            "\n",
            "Test set: Average loss: 0.0273, Accuracy: 9913/10000 (99.13%)\n",
            "\n",
            "EPOCH: 11\n",
            "\n",
            "Test set: Average loss: 0.0228, Accuracy: 9940/10000 (99.40%)\n",
            "\n",
            "EPOCH: 12\n",
            "\n",
            "Test set: Average loss: 0.0239, Accuracy: 9927/10000 (99.27%)\n",
            "\n",
            "EPOCH: 13\n",
            "\n",
            "Test set: Average loss: 0.0193, Accuracy: 9945/10000 (99.45%)\n",
            "\n",
            "EPOCH: 14\n",
            "\n",
            "Test set: Average loss: 0.0237, Accuracy: 9929/10000 (99.29%)\n",
            "\n",
            "EPOCH: 15\n",
            "\n",
            "Test set: Average loss: 0.0278, Accuracy: 9912/10000 (99.12%)\n",
            "\n",
            "EPOCH: 16\n",
            "\n",
            "Test set: Average loss: 0.0211, Accuracy: 9944/10000 (99.44%)\n",
            "\n",
            "EPOCH: 17\n",
            "\n",
            "Test set: Average loss: 0.0195, Accuracy: 9941/10000 (99.41%)\n",
            "\n",
            "EPOCH: 18\n",
            "\n",
            "Test set: Average loss: 0.0202, Accuracy: 9943/10000 (99.43%)\n",
            "\n",
            "EPOCH: 19\n",
            "\n",
            "Test set: Average loss: 0.0234, Accuracy: 9931/10000 (99.31%)\n",
            "\n",
            "EPOCH: 20\n",
            "\n",
            "Test set: Average loss: 0.0231, Accuracy: 9933/10000 (99.33%)\n",
            "\n",
            "EPOCH: 21\n",
            "\n",
            "Test set: Average loss: 0.0208, Accuracy: 9940/10000 (99.40%)\n",
            "\n",
            "EPOCH: 22\n",
            "\n",
            "Test set: Average loss: 0.0213, Accuracy: 9935/10000 (99.35%)\n",
            "\n",
            "EPOCH: 23\n",
            "\n",
            "Test set: Average loss: 0.0234, Accuracy: 9931/10000 (99.31%)\n",
            "\n",
            "EPOCH: 24\n",
            "\n",
            "Test set: Average loss: 0.0193, Accuracy: 9941/10000 (99.41%)\n",
            "\n",
            "EPOCH: 25\n",
            "\n",
            "Test set: Average loss: 0.0221, Accuracy: 9933/10000 (99.33%)\n",
            "\n",
            "EPOCH: 26\n",
            "\n",
            "Test set: Average loss: 0.0224, Accuracy: 9922/10000 (99.22%)\n",
            "\n",
            "EPOCH: 27\n",
            "\n",
            "Test set: Average loss: 0.0201, Accuracy: 9944/10000 (99.44%)\n",
            "\n",
            "EPOCH: 28\n",
            "\n",
            "Test set: Average loss: 0.0212, Accuracy: 9938/10000 (99.38%)\n",
            "\n",
            "EPOCH: 29\n",
            "\n",
            "Test set: Average loss: 0.0222, Accuracy: 9939/10000 (99.39%)\n",
            "\n",
            "EPOCH: 30\n",
            "\n",
            "Test set: Average loss: 0.0213, Accuracy: 9936/10000 (99.36%)\n",
            "\n",
            "EPOCH: 31\n",
            "\n",
            "Test set: Average loss: 0.0221, Accuracy: 9935/10000 (99.35%)\n",
            "\n",
            "EPOCH: 32\n",
            "\n",
            "Test set: Average loss: 0.0203, Accuracy: 9935/10000 (99.35%)\n",
            "\n",
            "EPOCH: 33\n",
            "\n",
            "Test set: Average loss: 0.0219, Accuracy: 9933/10000 (99.33%)\n",
            "\n",
            "EPOCH: 34\n",
            "\n",
            "Test set: Average loss: 0.0219, Accuracy: 9935/10000 (99.35%)\n",
            "\n",
            "EPOCH: 35\n",
            "\n",
            "Test set: Average loss: 0.0230, Accuracy: 9938/10000 (99.38%)\n",
            "\n",
            "EPOCH: 36\n",
            "\n",
            "Test set: Average loss: 0.0203, Accuracy: 9936/10000 (99.36%)\n",
            "\n",
            "EPOCH: 37\n",
            "\n",
            "Test set: Average loss: 0.0197, Accuracy: 9937/10000 (99.37%)\n",
            "\n",
            "EPOCH: 38\n",
            "\n",
            "Test set: Average loss: 0.0216, Accuracy: 9927/10000 (99.27%)\n",
            "\n",
            "EPOCH: 39\n",
            "\n",
            "Test set: Average loss: 0.0216, Accuracy: 9940/10000 (99.40%)\n",
            "\n"
          ],
          "name": "stdout"
        }
      ]
    },
    {
      "cell_type": "markdown",
      "metadata": {
        "id": "rmjCJPwli97x",
        "colab_type": "text"
      },
      "source": [
        "## With both L1 and L2 Regularization"
      ]
    },
    {
      "cell_type": "code",
      "metadata": {
        "id": "GQnHAVdni9pQ",
        "colab_type": "code",
        "outputId": "da5ee9cb-be97-4177-90ef-3154e43bd18e",
        "colab": {
          "base_uri": "https://localhost:8080/",
          "height": 1000
        }
      },
      "source": [
        "from torch.optim.lr_scheduler import StepLR\n",
        "\n",
        "model_4 =  Net().to(device)\n",
        "optimizer = optim.SGD(model_4.parameters(), lr=0.01, momentum=0.9, weight_decay=0.0005)\n",
        "# scheduler = StepLR(optimizer, step_size=8, gamma=0.95)\n",
        "\n",
        "EPOCHS = 40\n",
        "for epoch in range(EPOCHS):\n",
        "    print(\"EPOCH:\", epoch)\n",
        "    train(model_4, device, train_loader, optimizer, epoch, is_L1_loss=True)\n",
        "    # scheduler.step()\n",
        "    test(model_4, device, test_loader, select_list=3)"
      ],
      "execution_count": 11,
      "outputs": [
        {
          "output_type": "stream",
          "text": [
            "EPOCH: 0\n"
          ],
          "name": "stdout"
        },
        {
          "output_type": "stream",
          "text": [
            "/usr/local/lib/python3.6/dist-packages/ipykernel_launcher.py:46: UserWarning: Implicit dimension choice for log_softmax has been deprecated. Change the call to include dim=X as an argument.\n",
            "/usr/local/lib/python3.6/dist-packages/torch/nn/_reduction.py:43: UserWarning: size_average and reduce args will be deprecated, please use reduction='sum' instead.\n",
            "  warnings.warn(warning.format(ret))\n"
          ],
          "name": "stderr"
        },
        {
          "output_type": "stream",
          "text": [
            "\n",
            "Test set: Average loss: 0.0812, Accuracy: 9808/10000 (98.08%)\n",
            "\n",
            "EPOCH: 1\n",
            "\n",
            "Test set: Average loss: 0.0610, Accuracy: 9847/10000 (98.47%)\n",
            "\n",
            "EPOCH: 2\n",
            "\n",
            "Test set: Average loss: 0.0616, Accuracy: 9828/10000 (98.28%)\n",
            "\n",
            "EPOCH: 3\n",
            "\n",
            "Test set: Average loss: 0.0670, Accuracy: 9821/10000 (98.21%)\n",
            "\n",
            "EPOCH: 4\n",
            "\n",
            "Test set: Average loss: 0.0416, Accuracy: 9897/10000 (98.97%)\n",
            "\n",
            "EPOCH: 5\n",
            "\n",
            "Test set: Average loss: 0.0426, Accuracy: 9873/10000 (98.73%)\n",
            "\n",
            "EPOCH: 6\n",
            "\n",
            "Test set: Average loss: 0.0432, Accuracy: 9877/10000 (98.77%)\n",
            "\n",
            "EPOCH: 7\n",
            "\n",
            "Test set: Average loss: 0.0478, Accuracy: 9874/10000 (98.74%)\n",
            "\n",
            "EPOCH: 8\n",
            "\n",
            "Test set: Average loss: 0.0386, Accuracy: 9895/10000 (98.95%)\n",
            "\n",
            "EPOCH: 9\n",
            "\n",
            "Test set: Average loss: 0.0480, Accuracy: 9878/10000 (98.78%)\n",
            "\n",
            "EPOCH: 10\n",
            "\n",
            "Test set: Average loss: 0.0498, Accuracy: 9864/10000 (98.64%)\n",
            "\n",
            "EPOCH: 11\n",
            "\n",
            "Test set: Average loss: 0.0611, Accuracy: 9841/10000 (98.41%)\n",
            "\n",
            "EPOCH: 12\n",
            "\n",
            "Test set: Average loss: 0.0429, Accuracy: 9869/10000 (98.69%)\n",
            "\n",
            "EPOCH: 13\n",
            "\n",
            "Test set: Average loss: 0.0440, Accuracy: 9876/10000 (98.76%)\n",
            "\n",
            "EPOCH: 14\n",
            "\n",
            "Test set: Average loss: 0.0379, Accuracy: 9889/10000 (98.89%)\n",
            "\n",
            "EPOCH: 15\n",
            "\n",
            "Test set: Average loss: 0.0450, Accuracy: 9868/10000 (98.68%)\n",
            "\n",
            "EPOCH: 16\n",
            "\n",
            "Test set: Average loss: 0.0410, Accuracy: 9888/10000 (98.88%)\n",
            "\n",
            "EPOCH: 17\n",
            "\n",
            "Test set: Average loss: 0.0542, Accuracy: 9842/10000 (98.42%)\n",
            "\n",
            "EPOCH: 18\n",
            "\n",
            "Test set: Average loss: 0.0481, Accuracy: 9864/10000 (98.64%)\n",
            "\n",
            "EPOCH: 19\n",
            "\n",
            "Test set: Average loss: 0.0441, Accuracy: 9876/10000 (98.76%)\n",
            "\n",
            "EPOCH: 20\n",
            "\n",
            "Test set: Average loss: 0.0401, Accuracy: 9889/10000 (98.89%)\n",
            "\n",
            "EPOCH: 21\n",
            "\n",
            "Test set: Average loss: 0.0794, Accuracy: 9757/10000 (97.57%)\n",
            "\n",
            "EPOCH: 22\n",
            "\n",
            "Test set: Average loss: 0.0641, Accuracy: 9832/10000 (98.32%)\n",
            "\n",
            "EPOCH: 23\n",
            "\n",
            "Test set: Average loss: 0.0378, Accuracy: 9901/10000 (99.01%)\n",
            "\n",
            "EPOCH: 24\n",
            "\n",
            "Test set: Average loss: 0.0502, Accuracy: 9850/10000 (98.50%)\n",
            "\n",
            "EPOCH: 25\n",
            "\n",
            "Test set: Average loss: 0.0476, Accuracy: 9857/10000 (98.57%)\n",
            "\n",
            "EPOCH: 26\n",
            "\n",
            "Test set: Average loss: 0.0394, Accuracy: 9895/10000 (98.95%)\n",
            "\n",
            "EPOCH: 27\n",
            "\n",
            "Test set: Average loss: 0.0463, Accuracy: 9857/10000 (98.57%)\n",
            "\n",
            "EPOCH: 28\n",
            "\n",
            "Test set: Average loss: 0.0430, Accuracy: 9880/10000 (98.80%)\n",
            "\n",
            "EPOCH: 29\n",
            "\n",
            "Test set: Average loss: 0.0414, Accuracy: 9889/10000 (98.89%)\n",
            "\n",
            "EPOCH: 30\n",
            "\n",
            "Test set: Average loss: 0.0385, Accuracy: 9888/10000 (98.88%)\n",
            "\n",
            "EPOCH: 31\n",
            "\n",
            "Test set: Average loss: 0.0433, Accuracy: 9875/10000 (98.75%)\n",
            "\n",
            "EPOCH: 32\n",
            "\n",
            "Test set: Average loss: 0.0583, Accuracy: 9825/10000 (98.25%)\n",
            "\n",
            "EPOCH: 33\n",
            "\n",
            "Test set: Average loss: 0.0441, Accuracy: 9881/10000 (98.81%)\n",
            "\n",
            "EPOCH: 34\n",
            "\n",
            "Test set: Average loss: 0.0433, Accuracy: 9865/10000 (98.65%)\n",
            "\n",
            "EPOCH: 35\n",
            "\n",
            "Test set: Average loss: 0.0450, Accuracy: 9872/10000 (98.72%)\n",
            "\n",
            "EPOCH: 36\n",
            "\n",
            "Test set: Average loss: 0.0431, Accuracy: 9875/10000 (98.75%)\n",
            "\n",
            "EPOCH: 37\n",
            "\n",
            "Test set: Average loss: 0.0704, Accuracy: 9780/10000 (97.80%)\n",
            "\n",
            "EPOCH: 38\n",
            "\n",
            "Test set: Average loss: 0.0506, Accuracy: 9859/10000 (98.59%)\n",
            "\n",
            "EPOCH: 39\n",
            "\n",
            "Test set: Average loss: 0.0508, Accuracy: 9866/10000 (98.66%)\n",
            "\n"
          ],
          "name": "stdout"
        }
      ]
    },
    {
      "cell_type": "markdown",
      "metadata": {
        "id": "qghWmjUuVyQX",
        "colab_type": "text"
      },
      "source": [
        "# Plots\n"
      ]
    },
    {
      "cell_type": "code",
      "metadata": {
        "id": "SFbE8WC_V1mK",
        "colab_type": "code",
        "outputId": "65d5f696-66ba-4d78-a32f-b8c289b1bd76",
        "colab": {
          "base_uri": "https://localhost:8080/",
          "height": 573
        }
      },
      "source": [
        "# summarize history for accuracy\n",
        "plt.plot(test_losses[0])\n",
        "plt.plot(test_losses[1])\n",
        "plt.plot(test_losses[2])\n",
        "plt.plot(test_losses[3])\n",
        "\n",
        "plt.title('Model Loss')\n",
        "plt.ylabel('Loss')\n",
        "plt.xlabel('epoch')\n",
        "plt.legend(['Plain', 'L1', 'L2', 'L1+L2'], loc='best')\n",
        "plt.show()\n",
        "\n",
        "# summarize history for loss\n",
        "plt.plot(test_acc[0])\n",
        "plt.plot(test_acc[1])\n",
        "plt.plot(test_acc[2])\n",
        "plt.plot(test_acc[3])\n",
        "\n",
        "plt.title('Model Accuracy')\n",
        "plt.ylabel('Accuracy')\n",
        "plt.xlabel('epoch')\n",
        "plt.legend(['Plain', 'L1', 'L2', 'L1+L2'], loc='best')\n",
        "plt.show()"
      ],
      "execution_count": 12,
      "outputs": [
        {
          "output_type": "display_data",
          "data": {
            "image/png": "[encoded data removed]",
            "text/plain": [
              "<Figure size 432x288 with 1 Axes>"
            ]
          },
          "metadata": {
            "tags": []
          }
        },
        {
          "output_type": "display_data",
          "data": {
            "image/png": "[encoded data removed]",
            "text/plain": [
              "<Figure size 432x288 with 1 Axes>"
            ]
          },
          "metadata": {
            "tags": []
          }
        }
      ]
    },
    {
      "cell_type": "markdown",
      "metadata": {
        "id": "GQPC53WQCbS8",
        "colab_type": "text"
      },
      "source": [
        "## Misclassfied images"
      ]
    },
    {
      "cell_type": "code",
      "metadata": {
        "id": "kJtq-1gmX0qM",
        "colab_type": "code",
        "colab": {}
      },
      "source": [
        "my_misclassified_images = torch.rand(25,28,28) * 0\n",
        "ground_truth = torch.rand(25,1)*0\n",
        "classified_lie = torch.rand(25,1)*0\n",
        "num_false_images = 0\n",
        "\n",
        "def mis_classfied(model, device, test_loader):\n",
        "    global num_false_images\n",
        "    global ground_truth\n",
        "    global classified_lie\n",
        "    \n",
        "    model.eval()\n",
        "\n",
        "    with torch.no_grad():\n",
        "        for data, target in test_loader:\n",
        "            data, target = data.to(device), target.to(device)\n",
        "            output = model(data)\n",
        "            pred = output.argmax(dim=1, keepdim=True)  # get the index of the max log-probability\n",
        "            false_picker = torch.flatten(pred)-target\n",
        "            index = 0\n",
        "            for val in false_picker:\n",
        "                if (val != 0):\n",
        "                    my_misclassified_images[num_false_images] = data[index, 0, :, :]\n",
        "                    ground_truth[num_false_images] = target[index]\n",
        "                    classified_lie[num_false_images] = pred[index]\n",
        "                    num_false_images = num_false_images + 1\n",
        "                    if (num_false_images >= 25): \n",
        "                        break\n",
        "\n",
        "                index = index + 1\n",
        "               \n",
        "            if (num_false_images >= 25):\n",
        "                  break"
      ],
      "execution_count": 0,
      "outputs": []
    },
    {
      "cell_type": "markdown",
      "metadata": {
        "id": "APyN3SJvpEJ7",
        "colab_type": "text"
      },
      "source": [
        "## For L1 only Loss"
      ]
    },
    {
      "cell_type": "code",
      "metadata": {
        "id": "F-0n_mRIo9EZ",
        "colab_type": "code",
        "colab": {
          "base_uri": "https://localhost:8080/",
          "height": 54
        },
        "outputId": "dfd59b91-00c3-44c1-facc-6157543dd1c0"
      },
      "source": [
        "mis_classfied(model_2, device, test_loader)"
      ],
      "execution_count": 14,
      "outputs": [
        {
          "output_type": "stream",
          "text": [
            "/usr/local/lib/python3.6/dist-packages/ipykernel_launcher.py:46: UserWarning: Implicit dimension choice for log_softmax has been deprecated. Change the call to include dim=X as an argument.\n"
          ],
          "name": "stderr"
        }
      ]
    },
    {
      "cell_type": "code",
      "metadata": {
        "id": "2BnSiMaIxrLf",
        "colab_type": "code",
        "outputId": "9dcf5194-0659-4941-e94b-a1bec7c4afbd",
        "colab": {
          "base_uri": "https://localhost:8080/",
          "height": 716
        }
      },
      "source": [
        "num_img_rows = 5\n",
        "num_img_cols = 5\n",
        "\n",
        "fig = plt.figure()\n",
        "fig.set_figheight(10)\n",
        "fig.set_figwidth(10)\n",
        "\n",
        "for i in range(25):\n",
        "  plt.subplot(5,5,i+1)\n",
        "  plt.tight_layout()\n",
        "  plt.imshow(my_misclassified_images[i,:,:], cmap='gray', interpolation='none')\n",
        "  plt.title(\"GT:{}, Pred:{}\".format(ground_truth[i].numpy(), classified_lie[i].numpy()))\n",
        "  plt.xticks([])\n",
        "  plt.yticks([])\n"
      ],
      "execution_count": 15,
      "outputs": [
        {
          "output_type": "display_data",
          "data": {
            "image/png": "[encoded data removed]",
            "text/plain": [
              "<Figure size 720x720 with 25 Axes>"
            ]
          },
          "metadata": {
            "tags": []
          }
        }
      ]
    },
    {
      "cell_type": "markdown",
      "metadata": {
        "id": "VU51eb-bo_Pz",
        "colab_type": "text"
      },
      "source": [
        "## For L2 only loss"
      ]
    },
    {
      "cell_type": "code",
      "metadata": {
        "id": "1r-QLviRo_hy",
        "colab_type": "code",
        "colab": {
          "base_uri": "https://localhost:8080/",
          "height": 54
        },
        "outputId": "00812652-0547-4411-cd34-c7567d6e5887"
      },
      "source": [
        "mis_classfied(model_3, device, test_loader)"
      ],
      "execution_count": 18,
      "outputs": [
        {
          "output_type": "stream",
          "text": [
            "/usr/local/lib/python3.6/dist-packages/ipykernel_launcher.py:46: UserWarning: Implicit dimension choice for log_softmax has been deprecated. Change the call to include dim=X as an argument.\n"
          ],
          "name": "stderr"
        }
      ]
    },
    {
      "cell_type": "code",
      "metadata": {
        "id": "tPfmd9MwpTqv",
        "colab_type": "code",
        "colab": {
          "base_uri": "https://localhost:8080/",
          "height": 716
        },
        "outputId": "6ea62bae-3e0e-4a8b-d106-63cc767a00be"
      },
      "source": [
        "num_img_rows = 5\n",
        "num_img_cols = 5\n",
        "\n",
        "fig = plt.figure()\n",
        "fig.set_figheight(10)\n",
        "fig.set_figwidth(10)\n",
        "\n",
        "for i in range(25):\n",
        "  plt.subplot(5,5,i+1)\n",
        "  plt.tight_layout()\n",
        "  plt.imshow(my_misclassified_images[i,:,:], cmap='gray', interpolation='none')\n",
        "  plt.title(\"GT:{}, Pred:{}\".format(ground_truth[i].numpy(), classified_lie[i].numpy()))\n",
        "  plt.xticks([])\n",
        "  plt.yticks([])\n"
      ],
      "execution_count": 19,
      "outputs": [
        {
          "output_type": "display_data",
          "data": {
            "image/png": "[encoded data removed]",
            "text/plain": [
              "<Figure size 720x720 with 25 Axes>"
            ]
          },
          "metadata": {
            "tags": []
          }
        }
      ]
    }
  ]
}