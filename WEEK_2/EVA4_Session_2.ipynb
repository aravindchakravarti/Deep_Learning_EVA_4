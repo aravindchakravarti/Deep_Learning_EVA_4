{
  "nbformat": 4,
  "nbformat_minor": 0,
  "metadata": {
    "colab": {
      "name": "EVA4 - Session 2.ipynb",
      "provenance": [],
      "collapsed_sections": [],
      "include_colab_link": true
    },
    "kernelspec": {
      "name": "python3",
      "display_name": "Python 3"
    },
    "accelerator": "GPU"
  },
  "cells": [
    {
      "cell_type": "markdown",
      "metadata": {
        "id": "view-in-github",
        "colab_type": "text"
      },
      "source": [
        "<a href=\"https://colab.research.google.com/github/aravindchakravarti/Deep_Learning_EVA_4/blob/master/WEEK_2/EVA4_Session_2.ipynb\" target=\"_parent\"><img src=\"https://colab.research.google.com/assets/colab-badge.svg\" alt=\"Open In Colab\"/></a>"
      ]
    },
    {
      "cell_type": "code",
      "metadata": {
        "id": "0m2JWFliFfKT",
        "colab_type": "code",
        "colab": {}
      },
      "source": [
        "# Import the future print function. May be for Python 3.x compatibility?\n",
        "from __future__ import print_function\n",
        "\n",
        "# Importing Torch, Base Class (nn.module) and torch support for functional \n",
        "# programming\n",
        "import torch\n",
        "import torch.nn as nn\n",
        "import torch.nn.functional as F\n",
        "\n",
        "# Importing the optimiser. SGD is used in the code\n",
        "import torch.optim as optim\n",
        "\n",
        "# Getting the datsets and tranformations (which will be done on Train dataset)\n",
        "from torchvision import datasets, transforms"
      ],
      "execution_count": 0,
      "outputs": []
    },
    {
      "cell_type": "code",
      "metadata": {
        "id": "h_Cx9q2QFgM7",
        "colab_type": "code",
        "colab": {}
      },
      "source": [
        "'''\n",
        "nn.module is a base class for all the neural network modules. All the models\n",
        "should sub-class from this class\n",
        "'''\n",
        "class Net(nn.Module):\n",
        "    def __init__(self):\n",
        "        # super() lets us to avoid referring base class exp\u0010licitely. \n",
        "        super(Net, self).__init__()\n",
        "\n",
        "        # Here we are defining the network. Our models input size is 28x28x1\n",
        "        self.conv1 = nn.Conv2d(1, 32, 3, padding=1)     # input-28x28x1   Output-28x28x32  RF-3x3\n",
        "        self.conv2 = nn.Conv2d(32, 64, 3, padding=1)    # input-28x28x32  Output-28x28x64  RF-5x5\n",
        "        self.pool1 = nn.MaxPool2d(2, 2)                 # input-28x28x32  Output-14x14x64  RF-10x10 \n",
        "        self.conv3 = nn.Conv2d(64, 128, 3, padding=1)   # input-14x14x64  Output-14x14x128 RF-12x12\n",
        "        self.conv4 = nn.Conv2d(128, 256, 3, padding=1)  # input-14x14x128 Output-14x14x256 RF-14x14\n",
        "        self.pool2 = nn.MaxPool2d(2, 2)                 # input-14x14x256 Output-7x7x256   RF-28x28\n",
        "        self.conv5 = nn.Conv2d(256, 512, 3)             # input-7x7x256   Output-5x5x512   RF-30x30\n",
        "        self.conv6 = nn.Conv2d(512, 1024, 3)            # input-5x5x512   Output-3x3x1024  RF-32x32\n",
        "        self.conv7 = nn.Conv2d(1024, 10, 3)             # input-3x3x1024  Output-1x1x10    RF-34x34\n",
        "\n",
        "    def forward(self, x):\n",
        "        '''\n",
        "          1. First input x is convolved with CONV1 and then RELU activation function is applied\n",
        "             This output is convolved with again with CONV2 and RELU is used again. \n",
        "             Maxpooling is then applied to the output of CONV2 + RELU\n",
        "\n",
        "          2. Step 1 is repeated\n",
        "\n",
        "          3. Output of 2nd Maxpool is convolved with CONV5, then followed by RELU, CONV6 and RELU \n",
        "             again\n",
        "\n",
        "          4. Output of 6th layer convolved again with by CONV7. But this time, we have 10 output\n",
        "             channels, corresponding to 10 classes\n",
        "\n",
        "          5. x.view converts 10x1x1 to 10 (1 dimension)\n",
        "        '''\n",
        "        x = self.pool1(F.relu(self.conv2(F.relu(self.conv1(x)))))\n",
        "        x = self.pool2(F.relu(self.conv4(F.relu(self.conv3(x)))))\n",
        "        x = F.relu(self.conv6(F.relu(self.conv5(x))))\n",
        "        x = F.relu(self.conv7(x))\n",
        "        x = x.view(-1, 10)\n",
        "        return F.log_softmax(x)"
      ],
      "execution_count": 0,
      "outputs": []
    },
    {
      "cell_type": "code",
      "metadata": {
        "colab_type": "code",
        "id": "xdydjYTZFyi3",
        "outputId": "924cd966-5dac-43c2-f08d-11131f59e0a5",
        "colab": {
          "base_uri": "https://localhost:8080/",
          "height": 425
        }
      },
      "source": [
        "# We need Keras like summary output\n",
        "!pip install torchsummary\n",
        "from torchsummary import summary\n",
        "\n",
        "# We are going to use CUDA. It is a parallel computing platfrom\n",
        "# created by NVidia\n",
        "use_cuda = torch.cuda.is_available()\n",
        "device = torch.device(\"cuda\" if use_cuda else \"cpu\")\n",
        "\n",
        "# Creating model here\n",
        "model = Net().to(device)\n",
        "summary(model, input_size=(1, 28, 28))"
      ],
      "execution_count": 0,
      "outputs": [
        {
          "output_type": "stream",
          "text": [
            "Requirement already satisfied: torchsummary in /usr/local/lib/python3.6/dist-packages (1.5.1)\n",
            "----------------------------------------------------------------\n",
            "        Layer (type)               Output Shape         Param #\n",
            "================================================================\n",
            "            Conv2d-1           [-1, 32, 28, 28]             320\n",
            "            Conv2d-2           [-1, 64, 28, 28]          18,496\n",
            "         MaxPool2d-3           [-1, 64, 14, 14]               0\n",
            "            Conv2d-4          [-1, 128, 14, 14]          73,856\n",
            "            Conv2d-5          [-1, 256, 14, 14]         295,168\n",
            "         MaxPool2d-6            [-1, 256, 7, 7]               0\n",
            "            Conv2d-7            [-1, 512, 5, 5]       1,180,160\n",
            "            Conv2d-8           [-1, 1024, 3, 3]       4,719,616\n",
            "            Conv2d-9             [-1, 10, 1, 1]          92,170\n",
            "================================================================\n",
            "Total params: 6,379,786\n",
            "Trainable params: 6,379,786\n",
            "Non-trainable params: 0\n",
            "----------------------------------------------------------------\n",
            "Input size (MB): 0.00\n",
            "Forward/backward pass size (MB): 1.51\n",
            "Params size (MB): 24.34\n",
            "Estimated Total Size (MB): 25.85\n",
            "----------------------------------------------------------------\n"
          ],
          "name": "stdout"
        },
        {
          "output_type": "stream",
          "text": [
            "/usr/local/lib/python3.6/dist-packages/ipykernel_launcher.py:42: UserWarning: Implicit dimension choice for log_softmax has been deprecated. Change the call to include dim=X as an argument.\n"
          ],
          "name": "stderr"
        }
      ]
    },
    {
      "cell_type": "code",
      "metadata": {
        "id": "DqTWLaM5GHgH",
        "colab_type": "code",
        "outputId": "eabb316a-1aea-43e5-aec2-51f640f4aced",
        "colab": {
          "base_uri": "https://localhost:8080/",
          "height": 255
        }
      },
      "source": [
        "# Random numbers are no more random... They are random in a disciplined way :)\n",
        "torch.manual_seed(1)\n",
        "# Number of training samples at a time to be used\n",
        "batch_size = 128\n",
        "\n",
        "# Number of workers: How much of data should be available in batch\n",
        "# pin_memory: Keep the memory ready in page..\n",
        "kwargs = {'num_workers': 1, 'pin_memory': True} if use_cuda else {}\n",
        "\n",
        "''' Download and store the data in ../data \n",
        "    Make it train (else test)\n",
        "    Also images are\n",
        "'''\n",
        "train_loader = torch.utils.data.DataLoader(\n",
        "    datasets.MNIST('../data', train=True, download=True,\n",
        "                    transform=transforms.Compose([\n",
        "                        transforms.ToTensor(),\n",
        "                        transforms.Normalize((0.1307,), (0.3081,))\n",
        "                    ])),\n",
        "    batch_size=batch_size, shuffle=True, **kwargs)\n",
        "\n",
        "test_loader = torch.utils.data.DataLoader(\n",
        "    datasets.MNIST('../data', train=False, transform=transforms.Compose([\n",
        "                        transforms.ToTensor(),\n",
        "                        transforms.Normalize((0.1307,), (0.3081,))\n",
        "                    ])),\n",
        "    batch_size=batch_size, shuffle=True, **kwargs)\n"
      ],
      "execution_count": 0,
      "outputs": [
        {
          "output_type": "stream",
          "text": [
            "  0%|          | 0/9912422 [00:00<?, ?it/s]"
          ],
          "name": "stderr"
        },
        {
          "output_type": "stream",
          "text": [
            "Downloading http://yann.lecun.com/exdb/mnist/train-images-idx3-ubyte.gz to ../data/MNIST/raw/train-images-idx3-ubyte.gz\n"
          ],
          "name": "stdout"
        },
        {
          "output_type": "stream",
          "text": [
            "9920512it [00:02, 3680306.04it/s]                             \n"
          ],
          "name": "stderr"
        },
        {
          "output_type": "stream",
          "text": [
            "Extracting ../data/MNIST/raw/train-images-idx3-ubyte.gz to ../data/MNIST/raw\n"
          ],
          "name": "stdout"
        },
        {
          "output_type": "stream",
          "text": [
            "32768it [00:00, 304858.96it/s]                           \n",
            "0it [00:00, ?it/s]"
          ],
          "name": "stderr"
        },
        {
          "output_type": "stream",
          "text": [
            "Downloading http://yann.lecun.com/exdb/mnist/train-labels-idx1-ubyte.gz to ../data/MNIST/raw/train-labels-idx1-ubyte.gz\n",
            "Extracting ../data/MNIST/raw/train-labels-idx1-ubyte.gz to ../data/MNIST/raw\n",
            "Downloading http://yann.lecun.com/exdb/mnist/t10k-images-idx3-ubyte.gz to ../data/MNIST/raw/t10k-images-idx3-ubyte.gz\n"
          ],
          "name": "stdout"
        },
        {
          "output_type": "stream",
          "text": [
            "1654784it [00:00, 1719232.51it/s]                            \n",
            "8192it [00:00, 123503.33it/s]\n"
          ],
          "name": "stderr"
        },
        {
          "output_type": "stream",
          "text": [
            "Extracting ../data/MNIST/raw/t10k-images-idx3-ubyte.gz to ../data/MNIST/raw\n",
            "Downloading http://yann.lecun.com/exdb/mnist/t10k-labels-idx1-ubyte.gz to ../data/MNIST/raw/t10k-labels-idx1-ubyte.gz\n",
            "Extracting ../data/MNIST/raw/t10k-labels-idx1-ubyte.gz to ../data/MNIST/raw\n",
            "Processing...\n",
            "Done!\n"
          ],
          "name": "stdout"
        }
      ]
    },
    {
      "cell_type": "code",
      "metadata": {
        "id": "8fDefDhaFlwH",
        "colab_type": "code",
        "colab": {}
      },
      "source": [
        "# very low overhead progress bar\n",
        "from tqdm import tqdm\n",
        "\n",
        "# nll_loss = Negative Log-Likelyhood loss\n",
        "def train(model, device, train_loader, optimizer, epoch):\n",
        "    model.train()\n",
        "    pbar = tqdm(train_loader)\n",
        "    for batch_idx, (data, target) in enumerate(pbar):\n",
        "        data, target = data.to(device), target.to(device)\n",
        "        # Make the gradient zero before iterating next time\n",
        "        optimizer.zero_grad()\n",
        "        output = model(data)\n",
        "        loss = F.nll_loss(output, target)\n",
        "        loss.backward()\n",
        "        optimizer.step()\n",
        "        pbar.set_description(desc= f'loss={loss.item()} batch_id={batch_idx}')\n",
        "\n",
        "\n",
        "def test(model, device, test_loader):\n",
        "    model.eval()\n",
        "    test_loss = 0\n",
        "    correct = 0\n",
        "    with torch.no_grad():\n",
        "        for data, target in test_loader:\n",
        "            data, target = data.to(device), target.to(device)\n",
        "            output = model(data)\n",
        "            test_loss += F.nll_loss(output, target, reduction='sum').item()  # sum up batch loss\n",
        "            pred = output.argmax(dim=1, keepdim=True)  # get the index of the max log-probability\n",
        "            correct += pred.eq(target.view_as(pred)).sum().item()\n",
        "\n",
        "    test_loss /= len(test_loader.dataset)\n",
        "\n",
        "    print('\\nTest set: Average loss: {:.4f}, Accuracy: {}/{} ({:.0f}%)\\n'.format(\n",
        "        test_loss, correct, len(test_loader.dataset),\n",
        "        100. * correct / len(test_loader.dataset)))"
      ],
      "execution_count": 0,
      "outputs": []
    },
    {
      "cell_type": "code",
      "metadata": {
        "id": "MMWbLWO6FuHb",
        "colab_type": "code",
        "colab": {}
      },
      "source": [
        "# Next line can be commented <TBD\u0010>\n",
        "model = Net().to(device)\n",
        "\n",
        "# Use Stochastic Gradient Descend with learning rate of 0.01 & momentum = 0.9\n",
        "optimizer = optim.SGD(model.parameters(), lr=0.01, momentum=0.9)\n",
        "\n",
        "# Training only for a epoch. But, if required, change 'range' value to increase epoch size\n",
        "for epoch in range(1, 2):\n",
        "    '''\n",
        "    Train the model and test the validation accuracy\n",
        "    model = NN model\n",
        "    device = CUDA if used else CPU\n",
        "    train_loader = Training batch\n",
        "    optimizer = in this code, it is set to SGD\n",
        "    epoch = Number of training cycles (set to 1)\n",
        "    '''\n",
        "    train(model, device, train_loader, optimizer, epoch)\n",
        "    test(model, device, test_loader)"
      ],
      "execution_count": 0,
      "outputs": []
    }
  ]
}